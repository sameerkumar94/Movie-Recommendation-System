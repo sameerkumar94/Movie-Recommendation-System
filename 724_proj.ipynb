{
 "cells": [
  {
   "cell_type": "code",
   "execution_count": 8,
   "metadata": {},
   "outputs": [
    {
     "ename": "ModuleNotFoundError",
     "evalue": "No module named 'tensorflow'",
     "output_type": "error",
     "traceback": [
      "\u001b[1;31m---------------------------------------------------------------------------\u001b[0m",
      "\u001b[1;31mModuleNotFoundError\u001b[0m                       Traceback (most recent call last)",
      "\u001b[1;32m<ipython-input-8-ae77728b866d>\u001b[0m in \u001b[0;36m<module>\u001b[1;34m\u001b[0m\n\u001b[0;32m      7\u001b[0m \u001b[1;32mimport\u001b[0m \u001b[0mmath\u001b[0m\u001b[1;33m,\u001b[0m\u001b[0mrandom\u001b[0m\u001b[1;33m\u001b[0m\u001b[1;33m\u001b[0m\u001b[0m\n\u001b[0;32m      8\u001b[0m \u001b[1;31m# Import Keras libraries\u001b[0m\u001b[1;33m\u001b[0m\u001b[1;33m\u001b[0m\u001b[1;33m\u001b[0m\u001b[0m\n\u001b[1;32m----> 9\u001b[1;33m \u001b[1;32mfrom\u001b[0m \u001b[0mtensorflow\u001b[0m\u001b[1;33m.\u001b[0m\u001b[0mpython\u001b[0m \u001b[1;32mimport\u001b[0m \u001b[0mkeras\u001b[0m\u001b[1;33m\u001b[0m\u001b[1;33m\u001b[0m\u001b[0m\n\u001b[0m\u001b[0;32m     10\u001b[0m \u001b[1;32mfrom\u001b[0m \u001b[0mkeras\u001b[0m\u001b[1;33m.\u001b[0m\u001b[0mcallbacks\u001b[0m \u001b[1;32mimport\u001b[0m \u001b[0mCallback\u001b[0m\u001b[1;33m,\u001b[0m \u001b[0mEarlyStopping\u001b[0m\u001b[1;33m,\u001b[0m \u001b[0mModelCheckpoint\u001b[0m\u001b[1;33m\u001b[0m\u001b[1;33m\u001b[0m\u001b[0m\n\u001b[0;32m     11\u001b[0m \u001b[1;31m# Import CF Model Architecture\u001b[0m\u001b[1;33m\u001b[0m\u001b[1;33m\u001b[0m\u001b[1;33m\u001b[0m\u001b[0m\n",
      "\u001b[1;31mModuleNotFoundError\u001b[0m: No module named 'tensorflow'"
     ]
    }
   ],
   "source": [
    "import numpy as np\n",
    "import pandas as pd\n",
    "from sklearn.metrics import mean_squared_error\n",
    "from math import sqrt\n",
    "import matplotlib.pyplot as plt\n",
    "import seaborn as sns\n",
    "import math,random\n",
    "# Import Keras libraries\n",
    "from tensorflow.python import keras\n",
    "from keras.callbacks import Callback, EarlyStopping, ModelCheckpoint\n",
    "# Import CF Model Architecture\n",
    "from CFModel import CFModel\n",
    "sns.set_style('white')\n",
    "%matplotlib inline"
   ]
  },
  {
   "cell_type": "code",
   "execution_count": 7,
   "metadata": {},
   "outputs": [
    {
     "ename": "FileNotFoundError",
     "evalue": "File b'new_ratings.csv' does not exist",
     "output_type": "error",
     "traceback": [
      "\u001b[1;31m---------------------------------------------------------------------------\u001b[0m",
      "\u001b[1;31mFileNotFoundError\u001b[0m                         Traceback (most recent call last)",
      "\u001b[1;32m<ipython-input-7-0876883db06d>\u001b[0m in \u001b[0;36m<module>\u001b[1;34m\u001b[0m\n\u001b[1;32m----> 1\u001b[1;33m \u001b[0mdf\u001b[0m \u001b[1;33m=\u001b[0m \u001b[0mpd\u001b[0m\u001b[1;33m.\u001b[0m\u001b[0mread_csv\u001b[0m\u001b[1;33m(\u001b[0m\u001b[1;34m'new_ratings.csv'\u001b[0m\u001b[1;33m,\u001b[0m \u001b[0msep\u001b[0m\u001b[1;33m=\u001b[0m\u001b[1;34m','\u001b[0m\u001b[1;33m)\u001b[0m\u001b[1;33m\u001b[0m\u001b[1;33m\u001b[0m\u001b[0m\n\u001b[0m\u001b[0;32m      2\u001b[0m \u001b[0mdf\u001b[0m\u001b[1;33m.\u001b[0m\u001b[0mhead\u001b[0m\u001b[1;33m(\u001b[0m\u001b[1;33m)\u001b[0m\u001b[1;33m\u001b[0m\u001b[1;33m\u001b[0m\u001b[0m\n",
      "\u001b[1;32mE:\\Anaconda\\lib\\site-packages\\pandas\\io\\parsers.py\u001b[0m in \u001b[0;36mparser_f\u001b[1;34m(filepath_or_buffer, sep, delimiter, header, names, index_col, usecols, squeeze, prefix, mangle_dupe_cols, dtype, engine, converters, true_values, false_values, skipinitialspace, skiprows, nrows, na_values, keep_default_na, na_filter, verbose, skip_blank_lines, parse_dates, infer_datetime_format, keep_date_col, date_parser, dayfirst, iterator, chunksize, compression, thousands, decimal, lineterminator, quotechar, quoting, escapechar, comment, encoding, dialect, tupleize_cols, error_bad_lines, warn_bad_lines, skipfooter, doublequote, delim_whitespace, low_memory, memory_map, float_precision)\u001b[0m\n\u001b[0;32m    676\u001b[0m                     skip_blank_lines=skip_blank_lines)\n\u001b[0;32m    677\u001b[0m \u001b[1;33m\u001b[0m\u001b[0m\n\u001b[1;32m--> 678\u001b[1;33m         \u001b[1;32mreturn\u001b[0m \u001b[0m_read\u001b[0m\u001b[1;33m(\u001b[0m\u001b[0mfilepath_or_buffer\u001b[0m\u001b[1;33m,\u001b[0m \u001b[0mkwds\u001b[0m\u001b[1;33m)\u001b[0m\u001b[1;33m\u001b[0m\u001b[1;33m\u001b[0m\u001b[0m\n\u001b[0m\u001b[0;32m    679\u001b[0m \u001b[1;33m\u001b[0m\u001b[0m\n\u001b[0;32m    680\u001b[0m     \u001b[0mparser_f\u001b[0m\u001b[1;33m.\u001b[0m\u001b[0m__name__\u001b[0m \u001b[1;33m=\u001b[0m \u001b[0mname\u001b[0m\u001b[1;33m\u001b[0m\u001b[1;33m\u001b[0m\u001b[0m\n",
      "\u001b[1;32mE:\\Anaconda\\lib\\site-packages\\pandas\\io\\parsers.py\u001b[0m in \u001b[0;36m_read\u001b[1;34m(filepath_or_buffer, kwds)\u001b[0m\n\u001b[0;32m    438\u001b[0m \u001b[1;33m\u001b[0m\u001b[0m\n\u001b[0;32m    439\u001b[0m     \u001b[1;31m# Create the parser.\u001b[0m\u001b[1;33m\u001b[0m\u001b[1;33m\u001b[0m\u001b[1;33m\u001b[0m\u001b[0m\n\u001b[1;32m--> 440\u001b[1;33m     \u001b[0mparser\u001b[0m \u001b[1;33m=\u001b[0m \u001b[0mTextFileReader\u001b[0m\u001b[1;33m(\u001b[0m\u001b[0mfilepath_or_buffer\u001b[0m\u001b[1;33m,\u001b[0m \u001b[1;33m**\u001b[0m\u001b[0mkwds\u001b[0m\u001b[1;33m)\u001b[0m\u001b[1;33m\u001b[0m\u001b[1;33m\u001b[0m\u001b[0m\n\u001b[0m\u001b[0;32m    441\u001b[0m \u001b[1;33m\u001b[0m\u001b[0m\n\u001b[0;32m    442\u001b[0m     \u001b[1;32mif\u001b[0m \u001b[0mchunksize\u001b[0m \u001b[1;32mor\u001b[0m \u001b[0miterator\u001b[0m\u001b[1;33m:\u001b[0m\u001b[1;33m\u001b[0m\u001b[1;33m\u001b[0m\u001b[0m\n",
      "\u001b[1;32mE:\\Anaconda\\lib\\site-packages\\pandas\\io\\parsers.py\u001b[0m in \u001b[0;36m__init__\u001b[1;34m(self, f, engine, **kwds)\u001b[0m\n\u001b[0;32m    785\u001b[0m             \u001b[0mself\u001b[0m\u001b[1;33m.\u001b[0m\u001b[0moptions\u001b[0m\u001b[1;33m[\u001b[0m\u001b[1;34m'has_index_names'\u001b[0m\u001b[1;33m]\u001b[0m \u001b[1;33m=\u001b[0m \u001b[0mkwds\u001b[0m\u001b[1;33m[\u001b[0m\u001b[1;34m'has_index_names'\u001b[0m\u001b[1;33m]\u001b[0m\u001b[1;33m\u001b[0m\u001b[1;33m\u001b[0m\u001b[0m\n\u001b[0;32m    786\u001b[0m \u001b[1;33m\u001b[0m\u001b[0m\n\u001b[1;32m--> 787\u001b[1;33m         \u001b[0mself\u001b[0m\u001b[1;33m.\u001b[0m\u001b[0m_make_engine\u001b[0m\u001b[1;33m(\u001b[0m\u001b[0mself\u001b[0m\u001b[1;33m.\u001b[0m\u001b[0mengine\u001b[0m\u001b[1;33m)\u001b[0m\u001b[1;33m\u001b[0m\u001b[1;33m\u001b[0m\u001b[0m\n\u001b[0m\u001b[0;32m    788\u001b[0m \u001b[1;33m\u001b[0m\u001b[0m\n\u001b[0;32m    789\u001b[0m     \u001b[1;32mdef\u001b[0m \u001b[0mclose\u001b[0m\u001b[1;33m(\u001b[0m\u001b[0mself\u001b[0m\u001b[1;33m)\u001b[0m\u001b[1;33m:\u001b[0m\u001b[1;33m\u001b[0m\u001b[1;33m\u001b[0m\u001b[0m\n",
      "\u001b[1;32mE:\\Anaconda\\lib\\site-packages\\pandas\\io\\parsers.py\u001b[0m in \u001b[0;36m_make_engine\u001b[1;34m(self, engine)\u001b[0m\n\u001b[0;32m   1012\u001b[0m     \u001b[1;32mdef\u001b[0m \u001b[0m_make_engine\u001b[0m\u001b[1;33m(\u001b[0m\u001b[0mself\u001b[0m\u001b[1;33m,\u001b[0m \u001b[0mengine\u001b[0m\u001b[1;33m=\u001b[0m\u001b[1;34m'c'\u001b[0m\u001b[1;33m)\u001b[0m\u001b[1;33m:\u001b[0m\u001b[1;33m\u001b[0m\u001b[1;33m\u001b[0m\u001b[0m\n\u001b[0;32m   1013\u001b[0m         \u001b[1;32mif\u001b[0m \u001b[0mengine\u001b[0m \u001b[1;33m==\u001b[0m \u001b[1;34m'c'\u001b[0m\u001b[1;33m:\u001b[0m\u001b[1;33m\u001b[0m\u001b[1;33m\u001b[0m\u001b[0m\n\u001b[1;32m-> 1014\u001b[1;33m             \u001b[0mself\u001b[0m\u001b[1;33m.\u001b[0m\u001b[0m_engine\u001b[0m \u001b[1;33m=\u001b[0m \u001b[0mCParserWrapper\u001b[0m\u001b[1;33m(\u001b[0m\u001b[0mself\u001b[0m\u001b[1;33m.\u001b[0m\u001b[0mf\u001b[0m\u001b[1;33m,\u001b[0m \u001b[1;33m**\u001b[0m\u001b[0mself\u001b[0m\u001b[1;33m.\u001b[0m\u001b[0moptions\u001b[0m\u001b[1;33m)\u001b[0m\u001b[1;33m\u001b[0m\u001b[1;33m\u001b[0m\u001b[0m\n\u001b[0m\u001b[0;32m   1015\u001b[0m         \u001b[1;32melse\u001b[0m\u001b[1;33m:\u001b[0m\u001b[1;33m\u001b[0m\u001b[1;33m\u001b[0m\u001b[0m\n\u001b[0;32m   1016\u001b[0m             \u001b[1;32mif\u001b[0m \u001b[0mengine\u001b[0m \u001b[1;33m==\u001b[0m \u001b[1;34m'python'\u001b[0m\u001b[1;33m:\u001b[0m\u001b[1;33m\u001b[0m\u001b[1;33m\u001b[0m\u001b[0m\n",
      "\u001b[1;32mE:\\Anaconda\\lib\\site-packages\\pandas\\io\\parsers.py\u001b[0m in \u001b[0;36m__init__\u001b[1;34m(self, src, **kwds)\u001b[0m\n\u001b[0;32m   1706\u001b[0m         \u001b[0mkwds\u001b[0m\u001b[1;33m[\u001b[0m\u001b[1;34m'usecols'\u001b[0m\u001b[1;33m]\u001b[0m \u001b[1;33m=\u001b[0m \u001b[0mself\u001b[0m\u001b[1;33m.\u001b[0m\u001b[0musecols\u001b[0m\u001b[1;33m\u001b[0m\u001b[1;33m\u001b[0m\u001b[0m\n\u001b[0;32m   1707\u001b[0m \u001b[1;33m\u001b[0m\u001b[0m\n\u001b[1;32m-> 1708\u001b[1;33m         \u001b[0mself\u001b[0m\u001b[1;33m.\u001b[0m\u001b[0m_reader\u001b[0m \u001b[1;33m=\u001b[0m \u001b[0mparsers\u001b[0m\u001b[1;33m.\u001b[0m\u001b[0mTextReader\u001b[0m\u001b[1;33m(\u001b[0m\u001b[0msrc\u001b[0m\u001b[1;33m,\u001b[0m \u001b[1;33m**\u001b[0m\u001b[0mkwds\u001b[0m\u001b[1;33m)\u001b[0m\u001b[1;33m\u001b[0m\u001b[1;33m\u001b[0m\u001b[0m\n\u001b[0m\u001b[0;32m   1709\u001b[0m \u001b[1;33m\u001b[0m\u001b[0m\n\u001b[0;32m   1710\u001b[0m         \u001b[0mpassed_names\u001b[0m \u001b[1;33m=\u001b[0m \u001b[0mself\u001b[0m\u001b[1;33m.\u001b[0m\u001b[0mnames\u001b[0m \u001b[1;32mis\u001b[0m \u001b[1;32mNone\u001b[0m\u001b[1;33m\u001b[0m\u001b[1;33m\u001b[0m\u001b[0m\n",
      "\u001b[1;32mpandas\\_libs\\parsers.pyx\u001b[0m in \u001b[0;36mpandas._libs.parsers.TextReader.__cinit__\u001b[1;34m()\u001b[0m\n",
      "\u001b[1;32mpandas\\_libs\\parsers.pyx\u001b[0m in \u001b[0;36mpandas._libs.parsers.TextReader._setup_parser_source\u001b[1;34m()\u001b[0m\n",
      "\u001b[1;31mFileNotFoundError\u001b[0m: File b'new_ratings.csv' does not exist"
     ]
    }
   ],
   "source": [
    "df = pd.read_csv('new_ratings.csv', sep=',')\n",
    "df.head()"
   ]
  },
  {
   "cell_type": "code",
   "execution_count": 3,
   "metadata": {},
   "outputs": [
    {
     "data": {
      "text/html": [
       "<div>\n",
       "<style scoped>\n",
       "    .dataframe tbody tr th:only-of-type {\n",
       "        vertical-align: middle;\n",
       "    }\n",
       "\n",
       "    .dataframe tbody tr th {\n",
       "        vertical-align: top;\n",
       "    }\n",
       "\n",
       "    .dataframe thead th {\n",
       "        text-align: right;\n",
       "    }\n",
       "</style>\n",
       "<table border=\"1\" class=\"dataframe\">\n",
       "  <thead>\n",
       "    <tr style=\"text-align: right;\">\n",
       "      <th></th>\n",
       "      <th>movieId</th>\n",
       "      <th>title</th>\n",
       "      <th>genres</th>\n",
       "    </tr>\n",
       "  </thead>\n",
       "  <tbody>\n",
       "    <tr>\n",
       "      <th>0</th>\n",
       "      <td>1</td>\n",
       "      <td>Toy Story (1995)</td>\n",
       "      <td>Adventure|Animation|Children|Comedy|Fantasy</td>\n",
       "    </tr>\n",
       "    <tr>\n",
       "      <th>1</th>\n",
       "      <td>2</td>\n",
       "      <td>Jumanji (1995)</td>\n",
       "      <td>Adventure|Children|Fantasy</td>\n",
       "    </tr>\n",
       "    <tr>\n",
       "      <th>2</th>\n",
       "      <td>3</td>\n",
       "      <td>Grumpier Old Men (1995)</td>\n",
       "      <td>Comedy|Romance</td>\n",
       "    </tr>\n",
       "    <tr>\n",
       "      <th>3</th>\n",
       "      <td>4</td>\n",
       "      <td>Waiting to Exhale (1995)</td>\n",
       "      <td>Comedy|Drama|Romance</td>\n",
       "    </tr>\n",
       "    <tr>\n",
       "      <th>4</th>\n",
       "      <td>5</td>\n",
       "      <td>Father of the Bride Part II (1995)</td>\n",
       "      <td>Comedy</td>\n",
       "    </tr>\n",
       "  </tbody>\n",
       "</table>\n",
       "</div>"
      ],
      "text/plain": [
       "   movieId                               title  \\\n",
       "0        1                    Toy Story (1995)   \n",
       "1        2                      Jumanji (1995)   \n",
       "2        3             Grumpier Old Men (1995)   \n",
       "3        4            Waiting to Exhale (1995)   \n",
       "4        5  Father of the Bride Part II (1995)   \n",
       "\n",
       "                                        genres  \n",
       "0  Adventure|Animation|Children|Comedy|Fantasy  \n",
       "1                   Adventure|Children|Fantasy  \n",
       "2                               Comedy|Romance  \n",
       "3                         Comedy|Drama|Romance  \n",
       "4                                       Comedy  "
      ]
     },
     "execution_count": 3,
     "metadata": {},
     "output_type": "execute_result"
    }
   ],
   "source": [
    "movie = pd.read_csv(\"new_movies.csv\")\n",
    "movie.head()"
   ]
  },
  {
   "cell_type": "code",
   "execution_count": 4,
   "metadata": {},
   "outputs": [
    {
     "data": {
      "text/html": [
       "<div>\n",
       "<style scoped>\n",
       "    .dataframe tbody tr th:only-of-type {\n",
       "        vertical-align: middle;\n",
       "    }\n",
       "\n",
       "    .dataframe tbody tr th {\n",
       "        vertical-align: top;\n",
       "    }\n",
       "\n",
       "    .dataframe thead th {\n",
       "        text-align: right;\n",
       "    }\n",
       "</style>\n",
       "<table border=\"1\" class=\"dataframe\">\n",
       "  <thead>\n",
       "    <tr style=\"text-align: right;\">\n",
       "      <th></th>\n",
       "      <th>userId</th>\n",
       "      <th>movieId</th>\n",
       "      <th>rating</th>\n",
       "      <th>timestamp</th>\n",
       "      <th>title</th>\n",
       "      <th>genres</th>\n",
       "    </tr>\n",
       "  </thead>\n",
       "  <tbody>\n",
       "    <tr>\n",
       "      <th>0</th>\n",
       "      <td>1</td>\n",
       "      <td>31</td>\n",
       "      <td>2.5</td>\n",
       "      <td>1260759144</td>\n",
       "      <td>Dangerous Minds (1995)</td>\n",
       "      <td>Drama</td>\n",
       "    </tr>\n",
       "    <tr>\n",
       "      <th>1</th>\n",
       "      <td>7</td>\n",
       "      <td>31</td>\n",
       "      <td>3.0</td>\n",
       "      <td>851868750</td>\n",
       "      <td>Dangerous Minds (1995)</td>\n",
       "      <td>Drama</td>\n",
       "    </tr>\n",
       "    <tr>\n",
       "      <th>2</th>\n",
       "      <td>31</td>\n",
       "      <td>31</td>\n",
       "      <td>4.0</td>\n",
       "      <td>1273541953</td>\n",
       "      <td>Dangerous Minds (1995)</td>\n",
       "      <td>Drama</td>\n",
       "    </tr>\n",
       "    <tr>\n",
       "      <th>3</th>\n",
       "      <td>32</td>\n",
       "      <td>31</td>\n",
       "      <td>4.0</td>\n",
       "      <td>834828440</td>\n",
       "      <td>Dangerous Minds (1995)</td>\n",
       "      <td>Drama</td>\n",
       "    </tr>\n",
       "    <tr>\n",
       "      <th>4</th>\n",
       "      <td>36</td>\n",
       "      <td>31</td>\n",
       "      <td>3.0</td>\n",
       "      <td>847057202</td>\n",
       "      <td>Dangerous Minds (1995)</td>\n",
       "      <td>Drama</td>\n",
       "    </tr>\n",
       "  </tbody>\n",
       "</table>\n",
       "</div>"
      ],
      "text/plain": [
       "   userId  movieId  rating   timestamp                   title genres\n",
       "0       1       31     2.5  1260759144  Dangerous Minds (1995)  Drama\n",
       "1       7       31     3.0   851868750  Dangerous Minds (1995)  Drama\n",
       "2      31       31     4.0  1273541953  Dangerous Minds (1995)  Drama\n",
       "3      32       31     4.0   834828440  Dangerous Minds (1995)  Drama\n",
       "4      36       31     3.0   847057202  Dangerous Minds (1995)  Drama"
      ]
     },
     "execution_count": 4,
     "metadata": {},
     "output_type": "execute_result"
    }
   ],
   "source": [
    "new_df = pd.merge(df,movie,on='movieId')\n",
    "new_df.head()"
   ]
  },
  {
   "cell_type": "code",
   "execution_count": 5,
   "metadata": {},
   "outputs": [
    {
     "name": "stdout",
     "output_type": "stream",
     "text": [
      "Unique users are 671 and unique movies are 9123\n"
     ]
    }
   ],
   "source": [
    "n_users = new_df.userId.max()\n",
    "n_items = new_df.movieId.max()\n",
    "print(\"Unique users are {} and unique movies are {}\".format(n_users,n_items))"
   ]
  },
  {
   "cell_type": "code",
   "execution_count": 6,
   "metadata": {},
   "outputs": [
    {
     "data": {
      "text/plain": [
       "title\n",
       "Fireworks Wednesday (Chaharshanbe-soori) (2006)    5.0\n",
       "Son of Frankenstein (1939)                         5.0\n",
       "Flicka (2006)                                      5.0\n",
       "Caveman (1981)                                     5.0\n",
       "Willie & Phil (1980)                               5.0\n",
       "Name: rating, dtype: float64"
      ]
     },
     "execution_count": 6,
     "metadata": {},
     "output_type": "execute_result"
    }
   ],
   "source": [
    "new_df.groupby('title')['rating'].mean().sort_values(ascending=False).head()"
   ]
  },
  {
   "cell_type": "code",
   "execution_count": 7,
   "metadata": {},
   "outputs": [
    {
     "data": {
      "text/plain": [
       "title\n",
       "Forrest Gump (1994)                          341\n",
       "Pulp Fiction (1994)                          324\n",
       "Shawshank Redemption, The (1994)             311\n",
       "Silence of the Lambs, The (1991)             304\n",
       "Star Wars: Episode IV - A New Hope (1977)    291\n",
       "Name: rating, dtype: int64"
      ]
     },
     "execution_count": 7,
     "metadata": {},
     "output_type": "execute_result"
    }
   ],
   "source": [
    "new_df.groupby('title')['rating'].count().sort_values(ascending=False).head()\n"
   ]
  },
  {
   "cell_type": "code",
   "execution_count": 8,
   "metadata": {},
   "outputs": [
    {
     "data": {
      "text/html": [
       "<div>\n",
       "<style scoped>\n",
       "    .dataframe tbody tr th:only-of-type {\n",
       "        vertical-align: middle;\n",
       "    }\n",
       "\n",
       "    .dataframe tbody tr th {\n",
       "        vertical-align: top;\n",
       "    }\n",
       "\n",
       "    .dataframe thead th {\n",
       "        text-align: right;\n",
       "    }\n",
       "</style>\n",
       "<table border=\"1\" class=\"dataframe\">\n",
       "  <thead>\n",
       "    <tr style=\"text-align: right;\">\n",
       "      <th></th>\n",
       "      <th>rating</th>\n",
       "    </tr>\n",
       "    <tr>\n",
       "      <th>title</th>\n",
       "      <th></th>\n",
       "    </tr>\n",
       "  </thead>\n",
       "  <tbody>\n",
       "    <tr>\n",
       "      <th>\"Great Performances\" Cats (1998)</th>\n",
       "      <td>1.750000</td>\n",
       "    </tr>\n",
       "    <tr>\n",
       "      <th>$9.99 (2008)</th>\n",
       "      <td>3.833333</td>\n",
       "    </tr>\n",
       "    <tr>\n",
       "      <th>'Hellboy': The Seeds of Creation (2004)</th>\n",
       "      <td>2.000000</td>\n",
       "    </tr>\n",
       "    <tr>\n",
       "      <th>'Neath the Arizona Skies (1934)</th>\n",
       "      <td>0.500000</td>\n",
       "    </tr>\n",
       "    <tr>\n",
       "      <th>'Round Midnight (1986)</th>\n",
       "      <td>2.250000</td>\n",
       "    </tr>\n",
       "  </tbody>\n",
       "</table>\n",
       "</div>"
      ],
      "text/plain": [
       "                                           rating\n",
       "title                                            \n",
       "\"Great Performances\" Cats (1998)         1.750000\n",
       "$9.99 (2008)                             3.833333\n",
       "'Hellboy': The Seeds of Creation (2004)  2.000000\n",
       "'Neath the Arizona Skies (1934)          0.500000\n",
       "'Round Midnight (1986)                   2.250000"
      ]
     },
     "execution_count": 8,
     "metadata": {},
     "output_type": "execute_result"
    }
   ],
   "source": [
    "ratings = pd.DataFrame(new_df.groupby('title')['rating'].mean())\n",
    "ratings.head()"
   ]
  },
  {
   "cell_type": "code",
   "execution_count": 9,
   "metadata": {},
   "outputs": [
    {
     "data": {
      "text/html": [
       "<div>\n",
       "<style scoped>\n",
       "    .dataframe tbody tr th:only-of-type {\n",
       "        vertical-align: middle;\n",
       "    }\n",
       "\n",
       "    .dataframe tbody tr th {\n",
       "        vertical-align: top;\n",
       "    }\n",
       "\n",
       "    .dataframe thead th {\n",
       "        text-align: right;\n",
       "    }\n",
       "</style>\n",
       "<table border=\"1\" class=\"dataframe\">\n",
       "  <thead>\n",
       "    <tr style=\"text-align: right;\">\n",
       "      <th></th>\n",
       "      <th>rating</th>\n",
       "      <th>num of ratings</th>\n",
       "    </tr>\n",
       "    <tr>\n",
       "      <th>title</th>\n",
       "      <th></th>\n",
       "      <th></th>\n",
       "    </tr>\n",
       "  </thead>\n",
       "  <tbody>\n",
       "    <tr>\n",
       "      <th>\"Great Performances\" Cats (1998)</th>\n",
       "      <td>1.750000</td>\n",
       "      <td>2</td>\n",
       "    </tr>\n",
       "    <tr>\n",
       "      <th>$9.99 (2008)</th>\n",
       "      <td>3.833333</td>\n",
       "      <td>3</td>\n",
       "    </tr>\n",
       "    <tr>\n",
       "      <th>'Hellboy': The Seeds of Creation (2004)</th>\n",
       "      <td>2.000000</td>\n",
       "      <td>1</td>\n",
       "    </tr>\n",
       "    <tr>\n",
       "      <th>'Neath the Arizona Skies (1934)</th>\n",
       "      <td>0.500000</td>\n",
       "      <td>1</td>\n",
       "    </tr>\n",
       "    <tr>\n",
       "      <th>'Round Midnight (1986)</th>\n",
       "      <td>2.250000</td>\n",
       "      <td>2</td>\n",
       "    </tr>\n",
       "  </tbody>\n",
       "</table>\n",
       "</div>"
      ],
      "text/plain": [
       "                                           rating  num of ratings\n",
       "title                                                            \n",
       "\"Great Performances\" Cats (1998)         1.750000               2\n",
       "$9.99 (2008)                             3.833333               3\n",
       "'Hellboy': The Seeds of Creation (2004)  2.000000               1\n",
       "'Neath the Arizona Skies (1934)          0.500000               1\n",
       "'Round Midnight (1986)                   2.250000               2"
      ]
     },
     "execution_count": 9,
     "metadata": {},
     "output_type": "execute_result"
    }
   ],
   "source": [
    "ratings['num of ratings'] = pd.DataFrame(new_df.groupby('title')['rating'].count())\n",
    "ratings.head()"
   ]
  },
  {
   "cell_type": "code",
   "execution_count": 10,
   "metadata": {},
   "outputs": [
    {
     "data": {
      "text/plain": [
       "<matplotlib.axes._subplots.AxesSubplot at 0x291801f2588>"
      ]
     },
     "execution_count": 10,
     "metadata": {},
     "output_type": "execute_result"
    },
    {
     "data": {
      "image/png": "[encoded data removed]",
      "text/plain": [
       "<Figure size 720x288 with 1 Axes>"
      ]
     },
     "metadata": {
      "needs_background": "light"
     },
     "output_type": "display_data"
    }
   ],
   "source": [
    "plt.figure(figsize=(10,4))\n",
    "ratings['num of ratings'].hist(bins=100)"
   ]
  },
  {
   "cell_type": "code",
   "execution_count": 5,
   "metadata": {
    "scrolled": true
   },
   "outputs": [
    {
     "ename": "NameError",
     "evalue": "name 'ratings' is not defined",
     "output_type": "error",
     "traceback": [
      "\u001b[1;31m---------------------------------------------------------------------------\u001b[0m",
      "\u001b[1;31mNameError\u001b[0m                                 Traceback (most recent call last)",
      "\u001b[1;32m<ipython-input-5-c45e07f4f839>\u001b[0m in \u001b[0;36m<module>\u001b[1;34m\u001b[0m\n\u001b[0;32m      1\u001b[0m \u001b[0mplt\u001b[0m\u001b[1;33m.\u001b[0m\u001b[0mfigure\u001b[0m\u001b[1;33m(\u001b[0m\u001b[0mfigsize\u001b[0m\u001b[1;33m=\u001b[0m\u001b[1;33m(\u001b[0m\u001b[1;36m10\u001b[0m\u001b[1;33m,\u001b[0m\u001b[1;36m4\u001b[0m\u001b[1;33m)\u001b[0m\u001b[1;33m)\u001b[0m\u001b[1;33m\u001b[0m\u001b[1;33m\u001b[0m\u001b[0m\n\u001b[1;32m----> 2\u001b[1;33m \u001b[0mratings\u001b[0m\u001b[1;33m[\u001b[0m\u001b[1;34m'rating'\u001b[0m\u001b[1;33m]\u001b[0m\u001b[1;33m.\u001b[0m\u001b[0mhist\u001b[0m\u001b[1;33m(\u001b[0m\u001b[0mbins\u001b[0m\u001b[1;33m=\u001b[0m\u001b[1;36m70\u001b[0m\u001b[1;33m)\u001b[0m\u001b[1;33m\u001b[0m\u001b[1;33m\u001b[0m\u001b[0m\n\u001b[0m",
      "\u001b[1;31mNameError\u001b[0m: name 'ratings' is not defined"
     ]
    },
    {
     "data": {
      "text/plain": [
       "<Figure size 720x288 with 0 Axes>"
      ]
     },
     "metadata": {},
     "output_type": "display_data"
    }
   ],
   "source": [
    "plt.figure(figsize=(10,4))\n",
    "ratings['rating'].hist(bins=70)"
   ]
  },
  {
   "cell_type": "code",
   "execution_count": 12,
   "metadata": {},
   "outputs": [
    {
     "data": {
      "text/plain": [
       "<seaborn.axisgrid.JointGrid at 0x2918076ccf8>"
      ]
     },
     "execution_count": 12,
     "metadata": {},
     "output_type": "execute_result"
    },
    {
     "data": {
      "image/png": "[encoded data removed]",
      "text/plain": [
       "<Figure size 432x432 with 3 Axes>"
      ]
     },
     "metadata": {
      "needs_background": "light"
     },
     "output_type": "display_data"
    }
   ],
   "source": [
    "sns.jointplot(x='rating',y='num of ratings',data=ratings,alpha=0.5)\n"
   ]
  },
  {
   "cell_type": "code",
   "execution_count": 13,
   "metadata": {},
   "outputs": [],
   "source": [
    "#from sklearn.cross_validation import train_test_split\n",
    "from sklearn.model_selection import train_test_split\n",
    "\n",
    "train_data, test_data = train_test_split(new_df, test_size=0.25)\n",
    "\n",
    "#Create two user-item matrices, one for training and another for testing\n",
    "train_data_matrix = np.zeros((671, 9123))\n",
    "for data in train_data.itertuples():\n",
    "    train_data_matrix[int(data[1])-1, int(data[2])-1] = float(data[3])  \n",
    "\n",
    "test_data_matrix = np.zeros((671, 9123))\n",
    "for data in test_data.itertuples():\n",
    "    test_data_matrix[int(data[1])-1, int(data[2])-1] = float(data[3])"
   ]
  },
  {
   "cell_type": "code",
   "execution_count": 14,
   "metadata": {},
   "outputs": [],
   "source": [
    "def predict1(ratings, similarity, type='user'):\n",
    "    if type == 'user':\n",
    "        mean_user_rating = ratings.mean(axis=1)\n",
    "        #You use np.newaxis so that mean_user_rating has same format as ratings\n",
    "        ratings_diff = (ratings - mean_user_rating[:, np.newaxis]) \n",
    "        pred = mean_user_rating[:, np.newaxis] + similarity.dot(ratings_diff) / np.array([np.abs(similarity).sum(axis=1)]).T\n",
    "    elif type == 'item':\n",
    "        pred = ratings.dot(similarity) / np.array([np.abs(similarity).sum(axis=1)])     \n",
    "    return pred\n",
    "\n",
    "def rmse(prediction, ground_truth):\n",
    "    prediction = prediction[ground_truth.nonzero()].flatten() \n",
    "    ground_truth = ground_truth[ground_truth.nonzero()].flatten()\n",
    "    return sqrt(mean_squared_error(prediction, ground_truth))"
   ]
  },
  {
   "cell_type": "code",
   "execution_count": 15,
   "metadata": {},
   "outputs": [
    {
     "name": "stdout",
     "output_type": "stream",
     "text": [
      "User-based CF RMSE: 3.361769500171521\n",
      "Item-based CF RMSE: 3.5735826346153106\n"
     ]
    }
   ],
   "source": [
    "from sklearn.metrics.pairwise import pairwise_distances\n",
    "user_similarity = pairwise_distances(train_data_matrix, metric='cosine')\n",
    "item_similarity = pairwise_distances(train_data_matrix.T, metric='cosine')\n",
    "item_prediction = predict1(train_data_matrix, item_similarity, type='item')\n",
    "user_prediction = predict1(train_data_matrix, user_similarity, type='user')\n",
    "print('User-based CF RMSE: ' + str(rmse(user_prediction, test_data_matrix)))\n",
    "print('Item-based CF RMSE: ' + str(rmse(item_prediction, test_data_matrix)))"
   ]
  },
  {
   "cell_type": "code",
   "execution_count": 16,
   "metadata": {},
   "outputs": [
    {
     "name": "stdout",
     "output_type": "stream",
     "text": [
      "User-based CF MSE: 3.0402125140927883\n"
     ]
    }
   ],
   "source": [
    "import scipy.sparse as sp\n",
    "from scipy.sparse.linalg import svds\n",
    "\n",
    "#get SVD components from train matrix. Choose k.\n",
    "u, s, vt = svds(train_data_matrix, k = 10)\n",
    "s_diag_matrix=np.diag(s)\n",
    "X_pred = np.dot(np.dot(u, s_diag_matrix), vt)\n",
    "print('User-based CF MSE: ' + str(rmse(X_pred, test_data_matrix)))"
   ]
  },
  {
   "cell_type": "code",
   "execution_count": 17,
   "metadata": {},
   "outputs": [],
   "source": [
    "import pandas\n",
    "import os\n",
    "import zipfile\n",
    "import requests\n",
    "import tqdm\n",
    "from sklearn import dummy, metrics, ensemble\n",
    "from sklearn.model_selection import train_test_split\n",
    "from sklearn.metrics import mean_squared_error\n",
    "import math\n",
    "import keras.models as kmodels\n",
    "import keras.layers as klayers\n",
    "import keras.backend as K\n",
    "import keras\n"
   ]
  },
  {
   "cell_type": "code",
   "execution_count": 18,
   "metadata": {},
   "outputs": [],
   "source": [
    "new_df.movieId = new_df.movieId.astype('category')\n",
    "new_df.userId = new_df.userId.astype('category')\n",
    "movieid = new_df.movieId.cat.codes.values\n",
    "userid = new_df.userId.cat.codes.values\n",
    "y = np.zeros((new_df.shape[0], 5))\n",
    "int_rating= new_df.rating.astype('int')\n",
    "y[np.arange(new_df.shape[0]), int_rating - 1] = 1"
   ]
  },
  {
   "cell_type": "code",
   "execution_count": 19,
   "metadata": {},
   "outputs": [
    {
     "name": "stdout",
     "output_type": "stream",
     "text": [
      "1.1522819879255357\n"
     ]
    }
   ],
   "source": [
    "pred = dummy.DummyClassifier(strategy='prior')\n",
    "pred.fit(new_df[['userId', 'movieId']], new_df.rating)\n",
    "print(sqrt(mean_squared_error(new_df.rating, pred.predict(new_df[['userId', 'movieId']]))))"
   ]
  },
  {
   "cell_type": "code",
   "execution_count": 20,
   "metadata": {},
   "outputs": [],
   "source": [
    "# Now, the deep learning classifier\n",
    "from keras.layers import concatenate\n",
    "# First, we take the movie and vectorize it.\n",
    "# The embedding layer is normally used for sequences (think, sequences of words)\n",
    "# so we need to flatten it out.\n",
    "# The dropout layer is also important in preventing overfitting\n",
    "movie_input = keras.layers.Input(shape=[1])\n",
    "movie_vec = keras.layers.Flatten()(keras.layers.Embedding(int(n_items) + 1, 32)(movie_input))\n",
    "movie_vec = keras.layers.Dropout(0.5)(movie_vec)\n",
    "\n",
    "# Same thing for the users\n",
    "user_input = keras.layers.Input(shape=[1])\n",
    "user_vec = keras.layers.Flatten()(keras.layers.Embedding(int(n_users) + 1, 32)(user_input))\n",
    "user_vec = keras.layers.Dropout(0.5)(user_vec)\n",
    "\n",
    "# Next, we join them all together and put them\n",
    "# through a pretty standard deep learning architecture\n",
    "input_vecs = concatenate([movie_vec, user_vec])\n",
    "nn = keras.layers.Dropout(0.5)(keras.layers.Dense(128, activation='relu')(input_vecs))\n",
    "nn = keras.layers.normalization.BatchNormalization()(nn)\n",
    "nn = keras.layers.Dropout(0.5)(keras.layers.Dense(128, activation='relu')(nn))\n",
    "nn = keras.layers.normalization.BatchNormalization()(nn)\n",
    "nn = keras.layers.Dense(128, activation='relu')(nn)\n",
    "\n",
    "# Finally, we pull out the result!\n",
    "result = keras.layers.Dense(5, activation='softmax')(nn)\n",
    "\n",
    "# And make a model from it that we can actually run.\n",
    "model = kmodels.Model([movie_input, user_input], result)\n",
    "model.compile('adam', 'categorical_crossentropy')\n",
    "\n",
    "# If we wanted to inspect part of the model, for example, to look\n",
    "# at the movie vectors, here's how to do it. You don't need to \n",
    "# compile these models unless you're going to train them.\n",
    "final_layer = kmodels.Model([movie_input, user_input], nn)\n",
    "movie_vec = kmodels.Model(movie_input, movie_vec)"
   ]
  },
  {
   "cell_type": "code",
   "execution_count": 22,
   "metadata": {},
   "outputs": [
    {
     "data": {
      "image/svg+xml": [
       "<svg height=\"921pt\" viewBox=\"0.00 0.00 352.00 921.00\" width=\"352pt\" xmlns=\"http://www.w3.org/2000/svg\" xmlns:xlink=\"http://www.w3.org/1999/xlink\">\n",
       "<g class=\"graph\" id=\"graph0\" transform=\"scale(1 1) rotate(0) translate(4 917)\">\n",
       "<title>G</title>\n",
       "<polygon fill=\"white\" points=\"-4,4 -4,-917 348,-917 348,4 -4,4\" stroke=\"none\"/>\n",
       "<!-- 2824116278328 -->\n",
       "<g class=\"node\" id=\"node1\"><title>2824116278328</title>\n",
       "<polygon fill=\"none\" points=\"18.5,-876.5 18.5,-912.5 144.5,-912.5 144.5,-876.5 18.5,-876.5\" stroke=\"black\"/>\n",
       "<text font-family=\"Times New Roman,serif\" font-size=\"14.00\" text-anchor=\"middle\" x=\"81.5\" y=\"-890.8\">input_1: InputLayer</text>\n",
       "</g>\n",
       "<!-- 2824116279616 -->\n",
       "<g class=\"node\" id=\"node3\"><title>2824116279616</title>\n",
       "<polygon fill=\"none\" points=\"0,-803.5 0,-839.5 163,-839.5 163,-803.5 0,-803.5\" stroke=\"black\"/>\n",
       "<text font-family=\"Times New Roman,serif\" font-size=\"14.00\" text-anchor=\"middle\" x=\"81.5\" y=\"-817.8\">embedding_1: Embedding</text>\n",
       "</g>\n",
       "<!-- 2824116278328&#45;&gt;2824116279616 -->\n",
       "<g class=\"edge\" id=\"edge1\"><title>2824116278328-&gt;2824116279616</title>\n",
       "<path d=\"M81.5,-876.313C81.5,-868.289 81.5,-858.547 81.5,-849.569\" fill=\"none\" stroke=\"black\"/>\n",
       "<polygon fill=\"black\" points=\"85.0001,-849.529 81.5,-839.529 78.0001,-849.529 85.0001,-849.529\" stroke=\"black\"/>\n",
       "</g>\n",
       "<!-- 2824116279784 -->\n",
       "<g class=\"node\" id=\"node2\"><title>2824116279784</title>\n",
       "<polygon fill=\"none\" points=\"199.5,-876.5 199.5,-912.5 325.5,-912.5 325.5,-876.5 199.5,-876.5\" stroke=\"black\"/>\n",
       "<text font-family=\"Times New Roman,serif\" font-size=\"14.00\" text-anchor=\"middle\" x=\"262.5\" y=\"-890.8\">input_2: InputLayer</text>\n",
       "</g>\n",
       "<!-- 2824116402944 -->\n",
       "<g class=\"node\" id=\"node4\"><title>2824116402944</title>\n",
       "<polygon fill=\"none\" points=\"181,-803.5 181,-839.5 344,-839.5 344,-803.5 181,-803.5\" stroke=\"black\"/>\n",
       "<text font-family=\"Times New Roman,serif\" font-size=\"14.00\" text-anchor=\"middle\" x=\"262.5\" y=\"-817.8\">embedding_2: Embedding</text>\n",
       "</g>\n",
       "<!-- 2824116279784&#45;&gt;2824116402944 -->\n",
       "<g class=\"edge\" id=\"edge2\"><title>2824116279784-&gt;2824116402944</title>\n",
       "<path d=\"M262.5,-876.313C262.5,-868.289 262.5,-858.547 262.5,-849.569\" fill=\"none\" stroke=\"black\"/>\n",
       "<polygon fill=\"black\" points=\"266,-849.529 262.5,-839.529 259,-849.529 266,-849.529\" stroke=\"black\"/>\n",
       "</g>\n",
       "<!-- 2824116278384 -->\n",
       "<g class=\"node\" id=\"node5\"><title>2824116278384</title>\n",
       "<polygon fill=\"none\" points=\"43,-730.5 43,-766.5 152,-766.5 152,-730.5 43,-730.5\" stroke=\"black\"/>\n",
       "<text font-family=\"Times New Roman,serif\" font-size=\"14.00\" text-anchor=\"middle\" x=\"97.5\" y=\"-744.8\">flatten_1: Flatten</text>\n",
       "</g>\n",
       "<!-- 2824116279616&#45;&gt;2824116278384 -->\n",
       "<g class=\"edge\" id=\"edge3\"><title>2824116279616-&gt;2824116278384</title>\n",
       "<path d=\"M85.3732,-803.313C87.1812,-795.289 89.3766,-785.547 91.3999,-776.569\" fill=\"none\" stroke=\"black\"/>\n",
       "<polygon fill=\"black\" points=\"94.8784,-777.054 93.6625,-766.529 88.0497,-775.515 94.8784,-777.054\" stroke=\"black\"/>\n",
       "</g>\n",
       "<!-- 2824116279000 -->\n",
       "<g class=\"node\" id=\"node6\"><title>2824116279000</title>\n",
       "<polygon fill=\"none\" points=\"205,-730.5 205,-766.5 314,-766.5 314,-730.5 205,-730.5\" stroke=\"black\"/>\n",
       "<text font-family=\"Times New Roman,serif\" font-size=\"14.00\" text-anchor=\"middle\" x=\"259.5\" y=\"-744.8\">flatten_2: Flatten</text>\n",
       "</g>\n",
       "<!-- 2824116402944&#45;&gt;2824116279000 -->\n",
       "<g class=\"edge\" id=\"edge4\"><title>2824116402944-&gt;2824116279000</title>\n",
       "<path d=\"M261.774,-803.313C261.435,-795.289 261.023,-785.547 260.644,-776.569\" fill=\"none\" stroke=\"black\"/>\n",
       "<polygon fill=\"black\" points=\"264.139,-776.372 260.22,-766.529 257.145,-776.668 264.139,-776.372\" stroke=\"black\"/>\n",
       "</g>\n",
       "<!-- 2824116279672 -->\n",
       "<g class=\"node\" id=\"node7\"><title>2824116279672</title>\n",
       "<polygon fill=\"none\" points=\"36.5,-657.5 36.5,-693.5 166.5,-693.5 166.5,-657.5 36.5,-657.5\" stroke=\"black\"/>\n",
       "<text font-family=\"Times New Roman,serif\" font-size=\"14.00\" text-anchor=\"middle\" x=\"101.5\" y=\"-671.8\">dropout_1: Dropout</text>\n",
       "</g>\n",
       "<!-- 2824116278384&#45;&gt;2824116279672 -->\n",
       "<g class=\"edge\" id=\"edge5\"><title>2824116278384-&gt;2824116279672</title>\n",
       "<path d=\"M98.4683,-730.313C98.9203,-722.289 99.4692,-712.547 99.975,-703.569\" fill=\"none\" stroke=\"black\"/>\n",
       "<polygon fill=\"black\" points=\"103.473,-703.71 100.541,-693.529 96.4836,-703.316 103.473,-703.71\" stroke=\"black\"/>\n",
       "</g>\n",
       "<!-- 2824116401600 -->\n",
       "<g class=\"node\" id=\"node8\"><title>2824116401600</title>\n",
       "<polygon fill=\"none\" points=\"186.5,-657.5 186.5,-693.5 316.5,-693.5 316.5,-657.5 186.5,-657.5\" stroke=\"black\"/>\n",
       "<text font-family=\"Times New Roman,serif\" font-size=\"14.00\" text-anchor=\"middle\" x=\"251.5\" y=\"-671.8\">dropout_2: Dropout</text>\n",
       "</g>\n",
       "<!-- 2824116279000&#45;&gt;2824116401600 -->\n",
       "<g class=\"edge\" id=\"edge6\"><title>2824116279000-&gt;2824116401600</title>\n",
       "<path d=\"M257.563,-730.313C256.659,-722.289 255.562,-712.547 254.55,-703.569\" fill=\"none\" stroke=\"black\"/>\n",
       "<polygon fill=\"black\" points=\"258.016,-703.074 253.419,-693.529 251.061,-703.858 258.016,-703.074\" stroke=\"black\"/>\n",
       "</g>\n",
       "<!-- 2824116402664 -->\n",
       "<g class=\"node\" id=\"node9\"><title>2824116402664</title>\n",
       "<polygon fill=\"none\" points=\"90,-584.5 90,-620.5 263,-620.5 263,-584.5 90,-584.5\" stroke=\"black\"/>\n",
       "<text font-family=\"Times New Roman,serif\" font-size=\"14.00\" text-anchor=\"middle\" x=\"176.5\" y=\"-598.8\">concatenate_1: Concatenate</text>\n",
       "</g>\n",
       "<!-- 2824116279672&#45;&gt;2824116402664 -->\n",
       "<g class=\"edge\" id=\"edge7\"><title>2824116279672-&gt;2824116402664</title>\n",
       "<path d=\"M119.655,-657.313C129.052,-648.417 140.68,-637.409 150.967,-627.672\" fill=\"none\" stroke=\"black\"/>\n",
       "<polygon fill=\"black\" points=\"153.656,-629.945 158.512,-620.529 148.844,-624.862 153.656,-629.945\" stroke=\"black\"/>\n",
       "</g>\n",
       "<!-- 2824116401600&#45;&gt;2824116402664 -->\n",
       "<g class=\"edge\" id=\"edge8\"><title>2824116401600-&gt;2824116402664</title>\n",
       "<path d=\"M233.345,-657.313C223.948,-648.417 212.32,-637.409 202.033,-627.672\" fill=\"none\" stroke=\"black\"/>\n",
       "<polygon fill=\"black\" points=\"204.156,-624.862 194.488,-620.529 199.344,-629.945 204.156,-624.862\" stroke=\"black\"/>\n",
       "</g>\n",
       "<!-- 2824116402888 -->\n",
       "<g class=\"node\" id=\"node10\"><title>2824116402888</title>\n",
       "<polygon fill=\"none\" points=\"124.5,-511.5 124.5,-547.5 228.5,-547.5 228.5,-511.5 124.5,-511.5\" stroke=\"black\"/>\n",
       "<text font-family=\"Times New Roman,serif\" font-size=\"14.00\" text-anchor=\"middle\" x=\"176.5\" y=\"-525.8\">dense_1: Dense</text>\n",
       "</g>\n",
       "<!-- 2824116402664&#45;&gt;2824116402888 -->\n",
       "<g class=\"edge\" id=\"edge9\"><title>2824116402664-&gt;2824116402888</title>\n",
       "<path d=\"M176.5,-584.313C176.5,-576.289 176.5,-566.547 176.5,-557.569\" fill=\"none\" stroke=\"black\"/>\n",
       "<polygon fill=\"black\" points=\"180,-557.529 176.5,-547.529 173,-557.529 180,-557.529\" stroke=\"black\"/>\n",
       "</g>\n",
       "<!-- 2824116402720 -->\n",
       "<g class=\"node\" id=\"node11\"><title>2824116402720</title>\n",
       "<polygon fill=\"none\" points=\"111.5,-438.5 111.5,-474.5 241.5,-474.5 241.5,-438.5 111.5,-438.5\" stroke=\"black\"/>\n",
       "<text font-family=\"Times New Roman,serif\" font-size=\"14.00\" text-anchor=\"middle\" x=\"176.5\" y=\"-452.8\">dropout_3: Dropout</text>\n",
       "</g>\n",
       "<!-- 2824116402888&#45;&gt;2824116402720 -->\n",
       "<g class=\"edge\" id=\"edge10\"><title>2824116402888-&gt;2824116402720</title>\n",
       "<path d=\"M176.5,-511.313C176.5,-503.289 176.5,-493.547 176.5,-484.569\" fill=\"none\" stroke=\"black\"/>\n",
       "<polygon fill=\"black\" points=\"180,-484.529 176.5,-474.529 173,-484.529 180,-484.529\" stroke=\"black\"/>\n",
       "</g>\n",
       "<!-- 2823950021520 -->\n",
       "<g class=\"node\" id=\"node12\"><title>2823950021520</title>\n",
       "<polygon fill=\"none\" points=\"46.5,-365.5 46.5,-401.5 306.5,-401.5 306.5,-365.5 46.5,-365.5\" stroke=\"black\"/>\n",
       "<text font-family=\"Times New Roman,serif\" font-size=\"14.00\" text-anchor=\"middle\" x=\"176.5\" y=\"-379.8\">batch_normalization_1: BatchNormalization</text>\n",
       "</g>\n",
       "<!-- 2824116402720&#45;&gt;2823950021520 -->\n",
       "<g class=\"edge\" id=\"edge11\"><title>2824116402720-&gt;2823950021520</title>\n",
       "<path d=\"M176.5,-438.313C176.5,-430.289 176.5,-420.547 176.5,-411.569\" fill=\"none\" stroke=\"black\"/>\n",
       "<polygon fill=\"black\" points=\"180,-411.529 176.5,-401.529 173,-411.529 180,-411.529\" stroke=\"black\"/>\n",
       "</g>\n",
       "<!-- 2823950206008 -->\n",
       "<g class=\"node\" id=\"node13\"><title>2823950206008</title>\n",
       "<polygon fill=\"none\" points=\"124.5,-292.5 124.5,-328.5 228.5,-328.5 228.5,-292.5 124.5,-292.5\" stroke=\"black\"/>\n",
       "<text font-family=\"Times New Roman,serif\" font-size=\"14.00\" text-anchor=\"middle\" x=\"176.5\" y=\"-306.8\">dense_2: Dense</text>\n",
       "</g>\n",
       "<!-- 2823950021520&#45;&gt;2823950206008 -->\n",
       "<g class=\"edge\" id=\"edge12\"><title>2823950021520-&gt;2823950206008</title>\n",
       "<path d=\"M176.5,-365.313C176.5,-357.289 176.5,-347.547 176.5,-338.569\" fill=\"none\" stroke=\"black\"/>\n",
       "<polygon fill=\"black\" points=\"180,-338.529 176.5,-328.529 173,-338.529 180,-338.529\" stroke=\"black\"/>\n",
       "</g>\n",
       "<!-- 2823950205672 -->\n",
       "<g class=\"node\" id=\"node14\"><title>2823950205672</title>\n",
       "<polygon fill=\"none\" points=\"111.5,-219.5 111.5,-255.5 241.5,-255.5 241.5,-219.5 111.5,-219.5\" stroke=\"black\"/>\n",
       "<text font-family=\"Times New Roman,serif\" font-size=\"14.00\" text-anchor=\"middle\" x=\"176.5\" y=\"-233.8\">dropout_4: Dropout</text>\n",
       "</g>\n",
       "<!-- 2823950206008&#45;&gt;2823950205672 -->\n",
       "<g class=\"edge\" id=\"edge13\"><title>2823950206008-&gt;2823950205672</title>\n",
       "<path d=\"M176.5,-292.313C176.5,-284.289 176.5,-274.547 176.5,-265.569\" fill=\"none\" stroke=\"black\"/>\n",
       "<polygon fill=\"black\" points=\"180,-265.529 176.5,-255.529 173,-265.529 180,-265.529\" stroke=\"black\"/>\n",
       "</g>\n",
       "<!-- 2823950206232 -->\n",
       "<g class=\"node\" id=\"node15\"><title>2823950206232</title>\n",
       "<polygon fill=\"none\" points=\"46.5,-146.5 46.5,-182.5 306.5,-182.5 306.5,-146.5 46.5,-146.5\" stroke=\"black\"/>\n",
       "<text font-family=\"Times New Roman,serif\" font-size=\"14.00\" text-anchor=\"middle\" x=\"176.5\" y=\"-160.8\">batch_normalization_2: BatchNormalization</text>\n",
       "</g>\n",
       "<!-- 2823950205672&#45;&gt;2823950206232 -->\n",
       "<g class=\"edge\" id=\"edge14\"><title>2823950205672-&gt;2823950206232</title>\n",
       "<path d=\"M176.5,-219.313C176.5,-211.289 176.5,-201.547 176.5,-192.569\" fill=\"none\" stroke=\"black\"/>\n",
       "<polygon fill=\"black\" points=\"180,-192.529 176.5,-182.529 173,-192.529 180,-192.529\" stroke=\"black\"/>\n",
       "</g>\n",
       "<!-- 2823950803968 -->\n",
       "<g class=\"node\" id=\"node16\"><title>2823950803968</title>\n",
       "<polygon fill=\"none\" points=\"124.5,-73.5 124.5,-109.5 228.5,-109.5 228.5,-73.5 124.5,-73.5\" stroke=\"black\"/>\n",
       "<text font-family=\"Times New Roman,serif\" font-size=\"14.00\" text-anchor=\"middle\" x=\"176.5\" y=\"-87.8\">dense_3: Dense</text>\n",
       "</g>\n",
       "<!-- 2823950206232&#45;&gt;2823950803968 -->\n",
       "<g class=\"edge\" id=\"edge15\"><title>2823950206232-&gt;2823950803968</title>\n",
       "<path d=\"M176.5,-146.313C176.5,-138.289 176.5,-128.547 176.5,-119.569\" fill=\"none\" stroke=\"black\"/>\n",
       "<polygon fill=\"black\" points=\"180,-119.529 176.5,-109.529 173,-119.529 180,-119.529\" stroke=\"black\"/>\n",
       "</g>\n",
       "<!-- 2823950983912 -->\n",
       "<g class=\"node\" id=\"node17\"><title>2823950983912</title>\n",
       "<polygon fill=\"none\" points=\"124.5,-0.5 124.5,-36.5 228.5,-36.5 228.5,-0.5 124.5,-0.5\" stroke=\"black\"/>\n",
       "<text font-family=\"Times New Roman,serif\" font-size=\"14.00\" text-anchor=\"middle\" x=\"176.5\" y=\"-14.8\">dense_4: Dense</text>\n",
       "</g>\n",
       "<!-- 2823950803968&#45;&gt;2823950983912 -->\n",
       "<g class=\"edge\" id=\"edge16\"><title>2823950803968-&gt;2823950983912</title>\n",
       "<path d=\"M176.5,-73.3129C176.5,-65.2895 176.5,-55.5475 176.5,-46.5691\" fill=\"none\" stroke=\"black\"/>\n",
       "<polygon fill=\"black\" points=\"180,-46.5288 176.5,-36.5288 173,-46.5289 180,-46.5288\" stroke=\"black\"/>\n",
       "</g>\n",
       "</g>\n",
       "</svg>"
      ],
      "text/plain": [
       "<IPython.core.display.SVG object>"
      ]
     },
     "execution_count": 22,
     "metadata": {},
     "output_type": "execute_result"
    }
   ],
   "source": [
    "from IPython.display import SVG\n",
    "from keras.utils.vis_utils import model_to_dot\n",
    "SVG(model_to_dot(model,  show_shapes=False, show_layer_names=True, rankdir='HB').create(prog='dot', format='svg'))"
   ]
  },
  {
   "cell_type": "code",
   "execution_count": 23,
   "metadata": {},
   "outputs": [
    {
     "name": "stdout",
     "output_type": "stream",
     "text": [
      "__________________________________________________________________________________________________\n",
      "Layer (type)                    Output Shape         Param #     Connected to                     \n",
      "==================================================================================================\n",
      "input_1 (InputLayer)            (None, 1)            0                                            \n",
      "__________________________________________________________________________________________________\n",
      "input_2 (InputLayer)            (None, 1)            0                                            \n",
      "__________________________________________________________________________________________________\n",
      "embedding_1 (Embedding)         (None, 1, 32)        291968      input_1[0][0]                    \n",
      "__________________________________________________________________________________________________\n",
      "embedding_2 (Embedding)         (None, 1, 32)        21504       input_2[0][0]                    \n",
      "__________________________________________________________________________________________________\n",
      "flatten_1 (Flatten)             (None, 32)           0           embedding_1[0][0]                \n",
      "__________________________________________________________________________________________________\n",
      "flatten_2 (Flatten)             (None, 32)           0           embedding_2[0][0]                \n",
      "__________________________________________________________________________________________________\n",
      "dropout_1 (Dropout)             (None, 32)           0           flatten_1[0][0]                  \n",
      "__________________________________________________________________________________________________\n",
      "dropout_2 (Dropout)             (None, 32)           0           flatten_2[0][0]                  \n",
      "__________________________________________________________________________________________________\n",
      "concatenate_1 (Concatenate)     (None, 64)           0           dropout_1[0][0]                  \n",
      "                                                                 dropout_2[0][0]                  \n",
      "__________________________________________________________________________________________________\n",
      "dense_1 (Dense)                 (None, 128)          8320        concatenate_1[0][0]              \n",
      "__________________________________________________________________________________________________\n",
      "dropout_3 (Dropout)             (None, 128)          0           dense_1[0][0]                    \n",
      "__________________________________________________________________________________________________\n",
      "batch_normalization_1 (BatchNor (None, 128)          512         dropout_3[0][0]                  \n",
      "__________________________________________________________________________________________________\n",
      "dense_2 (Dense)                 (None, 128)          16512       batch_normalization_1[0][0]      \n",
      "__________________________________________________________________________________________________\n",
      "dropout_4 (Dropout)             (None, 128)          0           dense_2[0][0]                    \n",
      "__________________________________________________________________________________________________\n",
      "batch_normalization_2 (BatchNor (None, 128)          512         dropout_4[0][0]                  \n",
      "__________________________________________________________________________________________________\n",
      "dense_3 (Dense)                 (None, 128)          16512       batch_normalization_2[0][0]      \n",
      "__________________________________________________________________________________________________\n",
      "dense_4 (Dense)                 (None, 5)            645         dense_3[0][0]                    \n",
      "==================================================================================================\n",
      "Total params: 356,485\n",
      "Trainable params: 355,973\n",
      "Non-trainable params: 512\n",
      "__________________________________________________________________________________________________\n"
     ]
    }
   ],
   "source": [
    "model.summary()"
   ]
  },
  {
   "cell_type": "code",
   "execution_count": 24,
   "metadata": {},
   "outputs": [],
   "source": [
    "a_movieid, b_movieid, a_userid, b_userid, a_y, b_y = train_test_split(movieid, userid, y)"
   ]
  },
  {
   "cell_type": "code",
   "execution_count": 25,
   "metadata": {},
   "outputs": [
    {
     "data": {
      "text/plain": [
       "1.8223869820800969"
      ]
     },
     "execution_count": 25,
     "metadata": {},
     "output_type": "execute_result"
    }
   ],
   "source": [
    "# And of _course_ we need to make sure we're improving, so we find the MAE before\n",
    "# training at all.\n",
    "sqrt(mean_squared_error(np.argmax(b_y, 1)+1, np.argmax(model.predict([b_movieid, b_userid]), 1)+1))"
   ]
  },
  {
   "cell_type": "code",
   "execution_count": 26,
   "metadata": {
    "scrolled": true
   },
   "outputs": [
    {
     "name": "stderr",
     "output_type": "stream",
     "text": [
      "D:\\Anaconda3\\envs\\kerasenv\\lib\\site-packages\\ipykernel_launcher.py:4: UserWarning: The `nb_epoch` argument in `fit` has been renamed `epochs`.\n",
      "  after removing the cwd from sys.path.\n"
     ]
    },
    {
     "name": "stdout",
     "output_type": "stream",
     "text": [
      "Train on 75006 samples, validate on 25002 samples\n",
      "Epoch 1/20\n",
      "75006/75006 [==============================] - ETA: 49:44 - loss: 2.23 - ETA: 5:43 - loss: 2.0574 - ETA: 3:08 - loss: 1.941 - ETA: 2:07 - loss: 1.858 - ETA: 1:38 - loss: 1.808 - ETA: 1:20 - loss: 1.763 - ETA: 1:11 - loss: 1.733 - ETA: 1:02 - loss: 1.715 - ETA: 55s - loss: 1.694 - ETA: 50s - loss: 1.67 - ETA: 46s - loss: 1.66 - ETA: 43s - loss: 1.65 - ETA: 40s - loss: 1.64 - ETA: 38s - loss: 1.63 - ETA: 36s - loss: 1.61 - ETA: 34s - loss: 1.61 - ETA: 33s - loss: 1.60 - ETA: 31s - loss: 1.59 - ETA: 30s - loss: 1.59 - ETA: 29s - loss: 1.58 - ETA: 28s - loss: 1.58 - ETA: 27s - loss: 1.58 - ETA: 26s - loss: 1.57 - ETA: 26s - loss: 1.57 - ETA: 25s - loss: 1.57 - ETA: 24s - loss: 1.57 - ETA: 24s - loss: 1.56 - ETA: 23s - loss: 1.56 - ETA: 23s - loss: 1.56 - ETA: 22s - loss: 1.55 - ETA: 22s - loss: 1.55 - ETA: 21s - loss: 1.55 - ETA: 21s - loss: 1.55 - ETA: 21s - loss: 1.55 - ETA: 20s - loss: 1.54 - ETA: 20s - loss: 1.54 - ETA: 20s - loss: 1.54 - ETA: 19s - loss: 1.54 - ETA: 19s - loss: 1.54 - ETA: 19s - loss: 1.54 - ETA: 18s - loss: 1.54 - ETA: 18s - loss: 1.54 - ETA: 18s - loss: 1.53 - ETA: 18s - loss: 1.53 - ETA: 17s - loss: 1.53 - ETA: 17s - loss: 1.53 - ETA: 17s - loss: 1.53 - ETA: 17s - loss: 1.53 - ETA: 17s - loss: 1.52 - ETA: 16s - loss: 1.52 - ETA: 16s - loss: 1.52 - ETA: 16s - loss: 1.52 - ETA: 16s - loss: 1.52 - ETA: 16s - loss: 1.52 - ETA: 15s - loss: 1.52 - ETA: 15s - loss: 1.51 - ETA: 15s - loss: 1.51 - ETA: 15s - loss: 1.51 - ETA: 15s - loss: 1.51 - ETA: 15s - loss: 1.51 - ETA: 15s - loss: 1.51 - ETA: 14s - loss: 1.51 - ETA: 14s - loss: 1.51 - ETA: 14s - loss: 1.51 - ETA: 14s - loss: 1.50 - ETA: 14s - loss: 1.50 - ETA: 14s - loss: 1.50 - ETA: 14s - loss: 1.50 - ETA: 14s - loss: 1.50 - ETA: 13s - loss: 1.50 - ETA: 13s - loss: 1.50 - ETA: 13s - loss: 1.50 - ETA: 13s - loss: 1.50 - ETA: 13s - loss: 1.50 - ETA: 13s - loss: 1.50 - ETA: 13s - loss: 1.50 - ETA: 13s - loss: 1.50 - ETA: 13s - loss: 1.50 - ETA: 13s - loss: 1.50 - ETA: 12s - loss: 1.50 - ETA: 12s - loss: 1.50 - ETA: 12s - loss: 1.49 - ETA: 12s - loss: 1.49 - ETA: 12s - loss: 1.49 - ETA: 12s - loss: 1.49 - ETA: 12s - loss: 1.49 - ETA: 12s - loss: 1.49 - ETA: 12s - loss: 1.49 - ETA: 12s - loss: 1.49 - ETA: 12s - loss: 1.49 - ETA: 12s - loss: 1.49 - ETA: 11s - loss: 1.49 - ETA: 11s - loss: 1.49 - ETA: 11s - loss: 1.49 - ETA: 11s - loss: 1.49 - ETA: 11s - loss: 1.49 - ETA: 11s - loss: 1.49 - ETA: 11s - loss: 1.49 - ETA: 11s - loss: 1.49 - ETA: 11s - loss: 1.49 - ETA: 11s - loss: 1.49 - ETA: 11s - loss: 1.49 - ETA: 11s - loss: 1.49 - ETA: 11s - loss: 1.49 - ETA: 11s - loss: 1.49 - ETA: 10s - loss: 1.49 - ETA: 10s - loss: 1.48 - ETA: 10s - loss: 1.48 - ETA: 10s - loss: 1.48 - ETA: 10s - loss: 1.48 - ETA: 10s - loss: 1.48 - ETA: 10s - loss: 1.48 - ETA: 10s - loss: 1.48 - ETA: 10s - loss: 1.48 - ETA: 10s - loss: 1.48 - ETA: 9s - loss: 1.4843 - ETA: 9s - loss: 1.484 - ETA: 9s - loss: 1.483 - ETA: 9s - loss: 1.482 - ETA: 9s - loss: 1.482 - ETA: 9s - loss: 1.482 - ETA: 9s - loss: 1.481 - ETA: 9s - loss: 1.481 - ETA: 9s - loss: 1.481 - ETA: 9s - loss: 1.480 - ETA: 9s - loss: 1.479 - ETA: 9s - loss: 1.478 - ETA: 8s - loss: 1.477 - ETA: 8s - loss: 1.476 - ETA: 8s - loss: 1.476 - ETA: 8s - loss: 1.476 - ETA: 8s - loss: 1.476 - ETA: 8s - loss: 1.475 - ETA: 8s - loss: 1.474 - ETA: 8s - loss: 1.474 - ETA: 8s - loss: 1.473 - ETA: 8s - loss: 1.474 - ETA: 8s - loss: 1.473 - ETA: 8s - loss: 1.473 - ETA: 7s - loss: 1.473 - ETA: 7s - loss: 1.472 - ETA: 7s - loss: 1.471 - ETA: 7s - loss: 1.471 - ETA: 7s - loss: 1.470 - ETA: 7s - loss: 1.470 - ETA: 7s - loss: 1.470 - ETA: 7s - loss: 1.470 - ETA: 7s - loss: 1.469 - ETA: 7s - loss: 1.469 - ETA: 7s - loss: 1.469 - ETA: 7s - loss: 1.468 - ETA: 6s - loss: 1.468 - ETA: 6s - loss: 1.467 - ETA: 6s - loss: 1.467 - ETA: 6s - loss: 1.466 - ETA: 6s - loss: 1.466 - ETA: 6s - loss: 1.466 - ETA: 6s - loss: 1.465 - ETA: 6s - loss: 1.464 - ETA: 6s - loss: 1.464 - ETA: 6s - loss: 1.464 - ETA: 6s - loss: 1.464 - ETA: 6s - loss: 1.464 - ETA: 6s - loss: 1.463 - ETA: 6s - loss: 1.463 - ETA: 6s - loss: 1.463 - ETA: 6s - loss: 1.463 - ETA: 5s - loss: 1.462 - ETA: 5s - loss: 1.462 - ETA: 5s - loss: 1.462 - ETA: 5s - loss: 1.461 - ETA: 5s - loss: 1.461 - ETA: 5s - loss: 1.461 - ETA: 5s - loss: 1.461 - ETA: 5s - loss: 1.461 - ETA: 5s - loss: 1.460 - ETA: 5s - loss: 1.460 - ETA: 5s - loss: 1.460 - ETA: 5s - loss: 1.459 - ETA: 5s - loss: 1.459 - ETA: 5s - loss: 1.459 - ETA: 5s - loss: 1.458 - ETA: 5s - loss: 1.457 - ETA: 5s - loss: 1.457 - ETA: 4s - loss: 1.457 - ETA: 4s - loss: 1.456 - ETA: 4s - loss: 1.456 - ETA: 4s - loss: 1.456 - ETA: 4s - loss: 1.455 - ETA: 4s - loss: 1.455 - ETA: 4s - loss: 1.455 - ETA: 4s - loss: 1.454 - ETA: 4s - loss: 1.454 - ETA: 4s - loss: 1.453 - ETA: 4s - loss: 1.453 - ETA: 4s - loss: 1.453 - ETA: 4s - loss: 1.452 - ETA: 4s - loss: 1.452 - ETA: 4s - loss: 1.452 - ETA: 3s - loss: 1.451 - ETA: 3s - loss: 1.451 - ETA: 3s - loss: 1.451 - ETA: 3s - loss: 1.450 - ETA: 3s - loss: 1.450 - ETA: 3s - loss: 1.450 - ETA: 3s - loss: 1.450 - ETA: 3s - loss: 1.449 - ETA: 3s - loss: 1.449 - ETA: 3s - loss: 1.449 - ETA: 3s - loss: 1.448 - ETA: 3s - loss: 1.448 - ETA: 3s - loss: 1.448 - ETA: 3s - loss: 1.448 - ETA: 3s - loss: 1.448 - ETA: 3s - loss: 1.447 - ETA: 2s - loss: 1.447 - ETA: 2s - loss: 1.447 - ETA: 2s - loss: 1.446 - ETA: 2s - loss: 1.446 - ETA: 2s - loss: 1.446 - ETA: 2s - loss: 1.445 - ETA: 2s - loss: 1.445 - ETA: 2s - loss: 1.445 - ETA: 2s - loss: 1.444 - ETA: 2s - loss: 1.444 - ETA: 2s - loss: 1.443 - ETA: 2s - loss: 1.443 - ETA: 2s - loss: 1.443 - ETA: 2s - loss: 1.443 - ETA: 2s - loss: 1.442 - ETA: 2s - loss: 1.442 - ETA: 2s - loss: 1.442 - ETA: 1s - loss: 1.441 - ETA: 1s - loss: 1.441 - ETA: 1s - loss: 1.441 - ETA: 1s - loss: 1.441 - ETA: 1s - loss: 1.440 - ETA: 1s - loss: 1.440 - ETA: 1s - loss: 1.440 - ETA: 1s - loss: 1.440 - ETA: 1s - loss: 1.439 - ETA: 1s - loss: 1.439 - ETA: 1s - loss: 1.439 - ETA: 1s - loss: 1.438 - ETA: 1s - loss: 1.438 - ETA: 1s - loss: 1.438 - ETA: 1s - loss: 1.437 - ETA: 1s - loss: 1.437 - ETA: 1s - loss: 1.437 - ETA: 0s - loss: 1.437 - ETA: 0s - loss: 1.436 - ETA: 0s - loss: 1.436 - ETA: 0s - loss: 1.436 - ETA: 0s - loss: 1.436 - ETA: 0s - loss: 1.436 - ETA: 0s - loss: 1.435 - ETA: 0s - loss: 1.435 - ETA: 0s - loss: 1.435 - ETA: 0s - loss: 1.434 - ETA: 0s - loss: 1.434 - ETA: 0s - loss: 1.434 - ETA: 0s - loss: 1.434 - ETA: 0s - loss: 1.434 - ETA: 0s - loss: 1.433 - ETA: 0s - loss: 1.434 - ETA: 0s - loss: 1.434 - ETA: 0s - loss: 1.433 - 16s 211us/step - loss: 1.4332 - val_loss: 1.3322\n",
      "Epoch 2/20\n",
      "75006/75006 [==============================] - ETA: 22s - loss: 1.33 - ETA: 16s - loss: 1.28 - ETA: 15s - loss: 1.28 - ETA: 14s - loss: 1.30 - ETA: 15s - loss: 1.30 - ETA: 15s - loss: 1.31 - ETA: 14s - loss: 1.31 - ETA: 14s - loss: 1.31 - ETA: 14s - loss: 1.32 - ETA: 14s - loss: 1.32 - ETA: 13s - loss: 1.32 - ETA: 13s - loss: 1.33 - ETA: 13s - loss: 1.33 - ETA: 13s - loss: 1.33 - ETA: 13s - loss: 1.33 - ETA: 13s - loss: 1.34 - ETA: 13s - loss: 1.33 - ETA: 13s - loss: 1.34 - ETA: 13s - loss: 1.33 - ETA: 13s - loss: 1.34 - ETA: 13s - loss: 1.33 - ETA: 13s - loss: 1.33 - ETA: 13s - loss: 1.33 - ETA: 13s - loss: 1.33 - ETA: 13s - loss: 1.33 - ETA: 13s - loss: 1.33 - ETA: 13s - loss: 1.32 - ETA: 13s - loss: 1.33 - ETA: 13s - loss: 1.33 - ETA: 13s - loss: 1.33 - ETA: 13s - loss: 1.33 - ETA: 13s - loss: 1.33 - ETA: 12s - loss: 1.33 - ETA: 12s - loss: 1.33 - ETA: 12s - loss: 1.33 - ETA: 12s - loss: 1.33 - ETA: 12s - loss: 1.33 - ETA: 12s - loss: 1.33 - ETA: 12s - loss: 1.33 - ETA: 12s - loss: 1.33 - ETA: 12s - loss: 1.33 - ETA: 12s - loss: 1.33 - ETA: 12s - loss: 1.33 - ETA: 11s - loss: 1.33 - ETA: 11s - loss: 1.33 - ETA: 11s - loss: 1.33 - ETA: 11s - loss: 1.33 - ETA: 11s - loss: 1.33 - ETA: 11s - loss: 1.33 - ETA: 11s - loss: 1.33 - ETA: 11s - loss: 1.33 - ETA: 11s - loss: 1.33 - ETA: 11s - loss: 1.33 - ETA: 11s - loss: 1.33 - ETA: 11s - loss: 1.33 - ETA: 11s - loss: 1.33 - ETA: 11s - loss: 1.33 - ETA: 11s - loss: 1.33 - ETA: 11s - loss: 1.33 - ETA: 11s - loss: 1.33 - ETA: 10s - loss: 1.33 - ETA: 10s - loss: 1.33 - ETA: 10s - loss: 1.33 - ETA: 10s - loss: 1.34 - ETA: 10s - loss: 1.34 - ETA: 10s - loss: 1.33 - ETA: 10s - loss: 1.34 - ETA: 10s - loss: 1.33 - ETA: 10s - loss: 1.33 - ETA: 10s - loss: 1.33 - ETA: 10s - loss: 1.33 - ETA: 10s - loss: 1.34 - ETA: 10s - loss: 1.33 - ETA: 10s - loss: 1.33 - ETA: 10s - loss: 1.33 - ETA: 10s - loss: 1.33 - ETA: 9s - loss: 1.3385 - ETA: 9s - loss: 1.338 - ETA: 9s - loss: 1.338 - ETA: 9s - loss: 1.338 - ETA: 9s - loss: 1.338 - ETA: 9s - loss: 1.337 - ETA: 9s - loss: 1.338 - ETA: 9s - loss: 1.338 - ETA: 9s - loss: 1.338 - ETA: 9s - loss: 1.338 - ETA: 9s - loss: 1.338 - ETA: 9s - loss: 1.338 - ETA: 9s - loss: 1.338 - ETA: 9s - loss: 1.338 - ETA: 9s - loss: 1.337 - ETA: 9s - loss: 1.337 - ETA: 9s - loss: 1.337 - ETA: 8s - loss: 1.336 - ETA: 8s - loss: 1.337 - ETA: 8s - loss: 1.337 - ETA: 8s - loss: 1.337 - ETA: 8s - loss: 1.338 - ETA: 8s - loss: 1.338 - ETA: 8s - loss: 1.337 - ETA: 8s - loss: 1.338 - ETA: 8s - loss: 1.338 - ETA: 8s - loss: 1.338 - ETA: 8s - loss: 1.337 - ETA: 8s - loss: 1.337 - ETA: 8s - loss: 1.337 - ETA: 8s - loss: 1.336 - ETA: 8s - loss: 1.337 - ETA: 8s - loss: 1.337 - ETA: 8s - loss: 1.337 - ETA: 8s - loss: 1.337 - ETA: 8s - loss: 1.337 - ETA: 8s - loss: 1.337 - ETA: 8s - loss: 1.337 - ETA: 8s - loss: 1.337 - ETA: 8s - loss: 1.336 - ETA: 8s - loss: 1.337 - ETA: 8s - loss: 1.336 - ETA: 7s - loss: 1.336 - ETA: 7s - loss: 1.336 - ETA: 7s - loss: 1.336 - ETA: 7s - loss: 1.335 - ETA: 7s - loss: 1.335 - ETA: 7s - loss: 1.336 - ETA: 7s - loss: 1.336 - ETA: 7s - loss: 1.336 - ETA: 7s - loss: 1.336 - ETA: 7s - loss: 1.335 - ETA: 7s - loss: 1.335 - ETA: 7s - loss: 1.336 - ETA: 7s - loss: 1.335 - ETA: 7s - loss: 1.335 - ETA: 7s - loss: 1.335 - ETA: 7s - loss: 1.335 - ETA: 7s - loss: 1.335 - ETA: 7s - loss: 1.335 - ETA: 7s - loss: 1.335 - ETA: 7s - loss: 1.335 - ETA: 7s - loss: 1.335 - ETA: 6s - loss: 1.335 - ETA: 6s - loss: 1.334 - ETA: 6s - loss: 1.335 - ETA: 6s - loss: 1.335 - ETA: 6s - loss: 1.335 - ETA: 6s - loss: 1.335 - ETA: 6s - loss: 1.334 - ETA: 6s - loss: 1.334 - ETA: 6s - loss: 1.333 - ETA: 6s - loss: 1.333 - ETA: 6s - loss: 1.333 - ETA: 6s - loss: 1.333 - ETA: 6s - loss: 1.333 - ETA: 6s - loss: 1.333 - ETA: 6s - loss: 1.333 - ETA: 6s - loss: 1.333 - ETA: 6s - loss: 1.333 - ETA: 6s - loss: 1.333 - ETA: 5s - loss: 1.333 - ETA: 5s - loss: 1.333 - ETA: 5s - loss: 1.333 - ETA: 5s - loss: 1.333 - ETA: 5s - loss: 1.333 - ETA: 5s - loss: 1.333 - ETA: 5s - loss: 1.333 - ETA: 5s - loss: 1.333 - ETA: 5s - loss: 1.332 - ETA: 5s - loss: 1.332 - ETA: 5s - loss: 1.332 - ETA: 5s - loss: 1.332 - ETA: 5s - loss: 1.331 - ETA: 5s - loss: 1.331 - ETA: 5s - loss: 1.331 - ETA: 5s - loss: 1.331 - ETA: 5s - loss: 1.331 - ETA: 5s - loss: 1.331 - ETA: 5s - loss: 1.331 - ETA: 5s - loss: 1.331 - ETA: 4s - loss: 1.331 - ETA: 4s - loss: 1.331 - ETA: 4s - loss: 1.330 - ETA: 4s - loss: 1.331 - ETA: 4s - loss: 1.331 - ETA: 4s - loss: 1.330 - ETA: 4s - loss: 1.330 - ETA: 4s - loss: 1.330 - ETA: 4s - loss: 1.330 - ETA: 4s - loss: 1.330 - ETA: 4s - loss: 1.331 - ETA: 4s - loss: 1.330 - ETA: 4s - loss: 1.330 - ETA: 4s - loss: 1.329 - ETA: 4s - loss: 1.330 - ETA: 4s - loss: 1.329 - ETA: 4s - loss: 1.329 - ETA: 3s - loss: 1.328 - ETA: 3s - loss: 1.328 - ETA: 3s - loss: 1.328 - ETA: 3s - loss: 1.328 - ETA: 3s - loss: 1.328 - ETA: 3s - loss: 1.328 - ETA: 3s - loss: 1.328 - ETA: 3s - loss: 1.327 - ETA: 3s - loss: 1.327 - ETA: 3s - loss: 1.327 - ETA: 3s - loss: 1.326 - ETA: 3s - loss: 1.326 - ETA: 3s - loss: 1.326 - ETA: 3s - loss: 1.326 - ETA: 3s - loss: 1.326 - ETA: 3s - loss: 1.326 - ETA: 3s - loss: 1.326 - ETA: 3s - loss: 1.326 - ETA: 2s - loss: 1.326 - ETA: 2s - loss: 1.326 - ETA: 2s - loss: 1.326 - ETA: 2s - loss: 1.326 - ETA: 2s - loss: 1.326 - ETA: 2s - loss: 1.326 - ETA: 2s - loss: 1.325 - ETA: 2s - loss: 1.325 - ETA: 2s - loss: 1.325 - ETA: 2s - loss: 1.325 - ETA: 2s - loss: 1.325 - ETA: 2s - loss: 1.324 - ETA: 2s - loss: 1.324 - ETA: 2s - loss: 1.324 - ETA: 2s - loss: 1.324 - ETA: 2s - loss: 1.324 - ETA: 2s - loss: 1.324 - ETA: 2s - loss: 1.324 - ETA: 1s - loss: 1.324 - ETA: 1s - loss: 1.324 - ETA: 1s - loss: 1.324 - ETA: 1s - loss: 1.324 - ETA: 1s - loss: 1.324 - ETA: 1s - loss: 1.323 - ETA: 1s - loss: 1.323 - ETA: 1s - loss: 1.323 - ETA: 1s - loss: 1.323 - ETA: 1s - loss: 1.323 - ETA: 1s - loss: 1.323 - ETA: 1s - loss: 1.323 - ETA: 1s - loss: 1.323 - ETA: 1s - loss: 1.322 - ETA: 1s - loss: 1.323 - ETA: 1s - loss: 1.323 - ETA: 1s - loss: 1.323 - ETA: 0s - loss: 1.322 - ETA: 0s - loss: 1.323 - ETA: 0s - loss: 1.322 - ETA: 0s - loss: 1.323 - ETA: 0s - loss: 1.323 - ETA: 0s - loss: 1.323 - ETA: 0s - loss: 1.322 - ETA: 0s - loss: 1.322 - ETA: 0s - loss: 1.322 - ETA: 0s - loss: 1.322 - ETA: 0s - loss: 1.322 - ETA: 0s - loss: 1.321 - ETA: 0s - loss: 1.321 - ETA: 0s - loss: 1.321 - ETA: 0s - loss: 1.321 - ETA: 0s - loss: 1.321 - ETA: 0s - loss: 1.321 - ETA: 0s - loss: 1.321 - ETA: 0s - loss: 1.321 - 14s 192us/step - loss: 1.3216 - val_loss: 1.2712\n",
      "Epoch 3/20\n"
     ]
    },
    {
     "name": "stdout",
     "output_type": "stream",
     "text": [
      "75006/75006 [==============================] - ETA: 21s - loss: 1.22 - ETA: 13s - loss: 1.26 - ETA: 13s - loss: 1.26 - ETA: 12s - loss: 1.26 - ETA: 12s - loss: 1.25 - ETA: 13s - loss: 1.25 - ETA: 13s - loss: 1.25 - ETA: 13s - loss: 1.25 - ETA: 12s - loss: 1.25 - ETA: 12s - loss: 1.26 - ETA: 12s - loss: 1.25 - ETA: 12s - loss: 1.26 - ETA: 12s - loss: 1.25 - ETA: 12s - loss: 1.26 - ETA: 12s - loss: 1.26 - ETA: 12s - loss: 1.26 - ETA: 12s - loss: 1.26 - ETA: 12s - loss: 1.26 - ETA: 12s - loss: 1.26 - ETA: 12s - loss: 1.26 - ETA: 12s - loss: 1.26 - ETA: 12s - loss: 1.26 - ETA: 12s - loss: 1.26 - ETA: 12s - loss: 1.26 - ETA: 12s - loss: 1.26 - ETA: 12s - loss: 1.26 - ETA: 12s - loss: 1.26 - ETA: 12s - loss: 1.26 - ETA: 11s - loss: 1.26 - ETA: 11s - loss: 1.26 - ETA: 11s - loss: 1.26 - ETA: 11s - loss: 1.26 - ETA: 11s - loss: 1.26 - ETA: 11s - loss: 1.26 - ETA: 11s - loss: 1.26 - ETA: 11s - loss: 1.27 - ETA: 11s - loss: 1.26 - ETA: 11s - loss: 1.26 - ETA: 11s - loss: 1.27 - ETA: 11s - loss: 1.27 - ETA: 11s - loss: 1.27 - ETA: 11s - loss: 1.27 - ETA: 11s - loss: 1.27 - ETA: 11s - loss: 1.27 - ETA: 11s - loss: 1.27 - ETA: 11s - loss: 1.27 - ETA: 10s - loss: 1.27 - ETA: 10s - loss: 1.27 - ETA: 10s - loss: 1.27 - ETA: 10s - loss: 1.27 - ETA: 10s - loss: 1.27 - ETA: 10s - loss: 1.27 - ETA: 10s - loss: 1.27 - ETA: 10s - loss: 1.27 - ETA: 10s - loss: 1.27 - ETA: 10s - loss: 1.27 - ETA: 10s - loss: 1.27 - ETA: 10s - loss: 1.27 - ETA: 10s - loss: 1.27 - ETA: 10s - loss: 1.27 - ETA: 10s - loss: 1.27 - ETA: 10s - loss: 1.27 - ETA: 10s - loss: 1.27 - ETA: 10s - loss: 1.27 - ETA: 9s - loss: 1.2728 - ETA: 9s - loss: 1.272 - ETA: 9s - loss: 1.272 - ETA: 9s - loss: 1.271 - ETA: 9s - loss: 1.271 - ETA: 9s - loss: 1.271 - ETA: 9s - loss: 1.270 - ETA: 9s - loss: 1.271 - ETA: 9s - loss: 1.271 - ETA: 9s - loss: 1.272 - ETA: 9s - loss: 1.271 - ETA: 9s - loss: 1.271 - ETA: 9s - loss: 1.271 - ETA: 9s - loss: 1.272 - ETA: 9s - loss: 1.272 - ETA: 9s - loss: 1.272 - ETA: 9s - loss: 1.272 - ETA: 9s - loss: 1.271 - ETA: 8s - loss: 1.271 - ETA: 8s - loss: 1.272 - ETA: 8s - loss: 1.272 - ETA: 8s - loss: 1.272 - ETA: 8s - loss: 1.272 - ETA: 8s - loss: 1.272 - ETA: 8s - loss: 1.273 - ETA: 8s - loss: 1.273 - ETA: 8s - loss: 1.272 - ETA: 8s - loss: 1.272 - ETA: 8s - loss: 1.273 - ETA: 8s - loss: 1.273 - ETA: 8s - loss: 1.272 - ETA: 8s - loss: 1.272 - ETA: 8s - loss: 1.272 - ETA: 8s - loss: 1.272 - ETA: 8s - loss: 1.272 - ETA: 8s - loss: 1.272 - ETA: 8s - loss: 1.272 - ETA: 8s - loss: 1.273 - ETA: 7s - loss: 1.273 - ETA: 7s - loss: 1.273 - ETA: 7s - loss: 1.274 - ETA: 7s - loss: 1.274 - ETA: 7s - loss: 1.274 - ETA: 7s - loss: 1.274 - ETA: 7s - loss: 1.274 - ETA: 7s - loss: 1.274 - ETA: 7s - loss: 1.274 - ETA: 7s - loss: 1.273 - ETA: 7s - loss: 1.273 - ETA: 7s - loss: 1.273 - ETA: 7s - loss: 1.273 - ETA: 7s - loss: 1.273 - ETA: 7s - loss: 1.273 - ETA: 7s - loss: 1.273 - ETA: 7s - loss: 1.273 - ETA: 7s - loss: 1.273 - ETA: 6s - loss: 1.273 - ETA: 6s - loss: 1.273 - ETA: 6s - loss: 1.273 - ETA: 6s - loss: 1.272 - ETA: 6s - loss: 1.273 - ETA: 6s - loss: 1.273 - ETA: 6s - loss: 1.273 - ETA: 6s - loss: 1.273 - ETA: 6s - loss: 1.273 - ETA: 6s - loss: 1.273 - ETA: 6s - loss: 1.273 - ETA: 6s - loss: 1.273 - ETA: 6s - loss: 1.273 - ETA: 6s - loss: 1.273 - ETA: 6s - loss: 1.273 - ETA: 6s - loss: 1.273 - ETA: 6s - loss: 1.273 - ETA: 6s - loss: 1.274 - ETA: 6s - loss: 1.274 - ETA: 6s - loss: 1.274 - ETA: 6s - loss: 1.274 - ETA: 5s - loss: 1.274 - ETA: 5s - loss: 1.275 - ETA: 5s - loss: 1.275 - ETA: 5s - loss: 1.275 - ETA: 5s - loss: 1.275 - ETA: 5s - loss: 1.274 - ETA: 5s - loss: 1.274 - ETA: 5s - loss: 1.275 - ETA: 5s - loss: 1.275 - ETA: 5s - loss: 1.274 - ETA: 5s - loss: 1.274 - ETA: 5s - loss: 1.274 - ETA: 5s - loss: 1.274 - ETA: 5s - loss: 1.273 - ETA: 5s - loss: 1.273 - ETA: 5s - loss: 1.273 - ETA: 5s - loss: 1.273 - ETA: 5s - loss: 1.273 - ETA: 5s - loss: 1.273 - ETA: 5s - loss: 1.273 - ETA: 4s - loss: 1.273 - ETA: 4s - loss: 1.273 - ETA: 4s - loss: 1.273 - ETA: 4s - loss: 1.273 - ETA: 4s - loss: 1.273 - ETA: 4s - loss: 1.273 - ETA: 4s - loss: 1.273 - ETA: 4s - loss: 1.273 - ETA: 4s - loss: 1.273 - ETA: 4s - loss: 1.273 - ETA: 4s - loss: 1.273 - ETA: 4s - loss: 1.273 - ETA: 4s - loss: 1.273 - ETA: 4s - loss: 1.272 - ETA: 4s - loss: 1.272 - ETA: 4s - loss: 1.272 - ETA: 4s - loss: 1.272 - ETA: 4s - loss: 1.272 - ETA: 4s - loss: 1.272 - ETA: 3s - loss: 1.272 - ETA: 3s - loss: 1.272 - ETA: 3s - loss: 1.272 - ETA: 3s - loss: 1.272 - ETA: 3s - loss: 1.272 - ETA: 3s - loss: 1.272 - ETA: 3s - loss: 1.272 - ETA: 3s - loss: 1.272 - ETA: 3s - loss: 1.272 - ETA: 3s - loss: 1.272 - ETA: 3s - loss: 1.273 - ETA: 3s - loss: 1.273 - ETA: 3s - loss: 1.272 - ETA: 3s - loss: 1.273 - ETA: 3s - loss: 1.273 - ETA: 3s - loss: 1.273 - ETA: 3s - loss: 1.273 - ETA: 3s - loss: 1.273 - ETA: 3s - loss: 1.273 - ETA: 3s - loss: 1.273 - ETA: 2s - loss: 1.273 - ETA: 2s - loss: 1.273 - ETA: 2s - loss: 1.274 - ETA: 2s - loss: 1.273 - ETA: 2s - loss: 1.273 - ETA: 2s - loss: 1.273 - ETA: 2s - loss: 1.273 - ETA: 2s - loss: 1.273 - ETA: 2s - loss: 1.273 - ETA: 2s - loss: 1.272 - ETA: 2s - loss: 1.273 - ETA: 2s - loss: 1.273 - ETA: 2s - loss: 1.272 - ETA: 2s - loss: 1.272 - ETA: 2s - loss: 1.272 - ETA: 2s - loss: 1.272 - ETA: 2s - loss: 1.272 - ETA: 2s - loss: 1.272 - ETA: 2s - loss: 1.272 - ETA: 2s - loss: 1.272 - ETA: 1s - loss: 1.272 - ETA: 1s - loss: 1.272 - ETA: 1s - loss: 1.272 - ETA: 1s - loss: 1.272 - ETA: 1s - loss: 1.272 - ETA: 1s - loss: 1.272 - ETA: 1s - loss: 1.272 - ETA: 1s - loss: 1.272 - ETA: 1s - loss: 1.272 - ETA: 1s - loss: 1.272 - ETA: 1s - loss: 1.272 - ETA: 1s - loss: 1.272 - ETA: 1s - loss: 1.272 - ETA: 1s - loss: 1.272 - ETA: 1s - loss: 1.272 - ETA: 1s - loss: 1.272 - ETA: 1s - loss: 1.272 - ETA: 1s - loss: 1.272 - ETA: 1s - loss: 1.272 - ETA: 1s - loss: 1.272 - ETA: 1s - loss: 1.272 - ETA: 1s - loss: 1.272 - ETA: 0s - loss: 1.272 - ETA: 0s - loss: 1.272 - ETA: 0s - loss: 1.272 - ETA: 0s - loss: 1.272 - ETA: 0s - loss: 1.272 - ETA: 0s - loss: 1.272 - ETA: 0s - loss: 1.272 - ETA: 0s - loss: 1.272 - ETA: 0s - loss: 1.272 - ETA: 0s - loss: 1.272 - ETA: 0s - loss: 1.272 - ETA: 0s - loss: 1.272 - ETA: 0s - loss: 1.272 - ETA: 0s - loss: 1.272 - ETA: 0s - loss: 1.272 - ETA: 0s - loss: 1.272 - ETA: 0s - loss: 1.272 - ETA: 0s - loss: 1.272 - ETA: 0s - loss: 1.273 - ETA: 0s - loss: 1.273 - ETA: 0s - loss: 1.273 - ETA: 0s - loss: 1.273 - ETA: 0s - loss: 1.273 - ETA: 0s - loss: 1.273 - ETA: 0s - loss: 1.272 - ETA: 0s - loss: 1.272 - ETA: 0s - loss: 1.273 - 15s 199us/step - loss: 1.2730 - val_loss: 1.2436\n",
      "Epoch 4/20\n",
      "75006/75006 [==============================] - ETA: 23s - loss: 1.25 - ETA: 19s - loss: 1.24 - ETA: 18s - loss: 1.22 - ETA: 17s - loss: 1.25 - ETA: 17s - loss: 1.24 - ETA: 17s - loss: 1.23 - ETA: 17s - loss: 1.22 - ETA: 17s - loss: 1.22 - ETA: 17s - loss: 1.21 - ETA: 17s - loss: 1.22 - ETA: 17s - loss: 1.22 - ETA: 18s - loss: 1.22 - ETA: 17s - loss: 1.22 - ETA: 17s - loss: 1.23 - ETA: 17s - loss: 1.23 - ETA: 17s - loss: 1.23 - ETA: 17s - loss: 1.23 - ETA: 17s - loss: 1.23 - ETA: 17s - loss: 1.23 - ETA: 17s - loss: 1.23 - ETA: 17s - loss: 1.23 - ETA: 17s - loss: 1.23 - ETA: 17s - loss: 1.23 - ETA: 17s - loss: 1.23 - ETA: 17s - loss: 1.23 - ETA: 17s - loss: 1.23 - ETA: 17s - loss: 1.23 - ETA: 16s - loss: 1.23 - ETA: 16s - loss: 1.23 - ETA: 16s - loss: 1.23 - ETA: 16s - loss: 1.23 - ETA: 16s - loss: 1.23 - ETA: 16s - loss: 1.23 - ETA: 16s - loss: 1.23 - ETA: 16s - loss: 1.23 - ETA: 16s - loss: 1.23 - ETA: 16s - loss: 1.23 - ETA: 16s - loss: 1.23 - ETA: 16s - loss: 1.23 - ETA: 16s - loss: 1.23 - ETA: 16s - loss: 1.23 - ETA: 16s - loss: 1.23 - ETA: 15s - loss: 1.23 - ETA: 15s - loss: 1.23 - ETA: 15s - loss: 1.23 - ETA: 15s - loss: 1.23 - ETA: 15s - loss: 1.23 - ETA: 15s - loss: 1.24 - ETA: 15s - loss: 1.24 - ETA: 15s - loss: 1.24 - ETA: 15s - loss: 1.24 - ETA: 15s - loss: 1.24 - ETA: 15s - loss: 1.24 - ETA: 15s - loss: 1.24 - ETA: 14s - loss: 1.24 - ETA: 14s - loss: 1.24 - ETA: 14s - loss: 1.23 - ETA: 14s - loss: 1.23 - ETA: 14s - loss: 1.24 - ETA: 14s - loss: 1.23 - ETA: 14s - loss: 1.24 - ETA: 14s - loss: 1.24 - ETA: 14s - loss: 1.23 - ETA: 14s - loss: 1.23 - ETA: 14s - loss: 1.23 - ETA: 14s - loss: 1.23 - ETA: 13s - loss: 1.23 - ETA: 13s - loss: 1.23 - ETA: 13s - loss: 1.23 - ETA: 13s - loss: 1.23 - ETA: 13s - loss: 1.23 - ETA: 13s - loss: 1.23 - ETA: 13s - loss: 1.23 - ETA: 13s - loss: 1.24 - ETA: 13s - loss: 1.23 - ETA: 13s - loss: 1.23 - ETA: 13s - loss: 1.23 - ETA: 13s - loss: 1.23 - ETA: 12s - loss: 1.23 - ETA: 12s - loss: 1.23 - ETA: 12s - loss: 1.23 - ETA: 12s - loss: 1.23 - ETA: 12s - loss: 1.23 - ETA: 12s - loss: 1.23 - ETA: 12s - loss: 1.23 - ETA: 12s - loss: 1.23 - ETA: 12s - loss: 1.24 - ETA: 12s - loss: 1.24 - ETA: 12s - loss: 1.24 - ETA: 11s - loss: 1.24 - ETA: 11s - loss: 1.24 - ETA: 11s - loss: 1.24 - ETA: 11s - loss: 1.24 - ETA: 11s - loss: 1.24 - ETA: 11s - loss: 1.24 - ETA: 11s - loss: 1.24 - ETA: 11s - loss: 1.24 - ETA: 11s - loss: 1.24 - ETA: 11s - loss: 1.24 - ETA: 11s - loss: 1.23 - ETA: 11s - loss: 1.23 - ETA: 11s - loss: 1.24 - ETA: 10s - loss: 1.24 - ETA: 10s - loss: 1.24 - ETA: 10s - loss: 1.23 - ETA: 10s - loss: 1.24 - ETA: 10s - loss: 1.24 - ETA: 10s - loss: 1.24 - ETA: 10s - loss: 1.24 - ETA: 10s - loss: 1.24 - ETA: 10s - loss: 1.24 - ETA: 10s - loss: 1.24 - ETA: 10s - loss: 1.24 - ETA: 10s - loss: 1.24 - ETA: 10s - loss: 1.24 - ETA: 10s - loss: 1.24 - ETA: 9s - loss: 1.2411 - ETA: 9s - loss: 1.241 - ETA: 9s - loss: 1.241 - ETA: 9s - loss: 1.241 - ETA: 9s - loss: 1.241 - ETA: 9s - loss: 1.241 - ETA: 9s - loss: 1.241 - ETA: 9s - loss: 1.241 - ETA: 9s - loss: 1.241 - ETA: 9s - loss: 1.241 - ETA: 9s - loss: 1.241 - ETA: 9s - loss: 1.241 - ETA: 9s - loss: 1.240 - ETA: 9s - loss: 1.241 - ETA: 8s - loss: 1.241 - ETA: 8s - loss: 1.240 - ETA: 8s - loss: 1.241 - ETA: 8s - loss: 1.240 - ETA: 8s - loss: 1.239 - ETA: 8s - loss: 1.239 - ETA: 8s - loss: 1.239 - ETA: 8s - loss: 1.239 - ETA: 8s - loss: 1.239 - ETA: 8s - loss: 1.240 - ETA: 8s - loss: 1.240 - ETA: 8s - loss: 1.239 - ETA: 8s - loss: 1.239 - ETA: 8s - loss: 1.239 - ETA: 8s - loss: 1.238 - ETA: 7s - loss: 1.239 - ETA: 7s - loss: 1.238 - ETA: 7s - loss: 1.239 - ETA: 7s - loss: 1.239 - ETA: 7s - loss: 1.239 - ETA: 7s - loss: 1.239 - ETA: 7s - loss: 1.239 - ETA: 7s - loss: 1.239 - ETA: 7s - loss: 1.239 - ETA: 7s - loss: 1.240 - ETA: 7s - loss: 1.239 - ETA: 7s - loss: 1.240 - ETA: 7s - loss: 1.239 - ETA: 7s - loss: 1.239 - ETA: 7s - loss: 1.240 - ETA: 7s - loss: 1.240 - ETA: 7s - loss: 1.240 - ETA: 6s - loss: 1.240 - ETA: 6s - loss: 1.239 - ETA: 6s - loss: 1.240 - ETA: 6s - loss: 1.240 - ETA: 6s - loss: 1.240 - ETA: 6s - loss: 1.240 - ETA: 6s - loss: 1.240 - ETA: 6s - loss: 1.241 - ETA: 6s - loss: 1.241 - ETA: 6s - loss: 1.240 - ETA: 6s - loss: 1.241 - ETA: 6s - loss: 1.241 - ETA: 6s - loss: 1.241 - ETA: 6s - loss: 1.241 - ETA: 6s - loss: 1.241 - ETA: 6s - loss: 1.241 - ETA: 6s - loss: 1.242 - ETA: 6s - loss: 1.242 - ETA: 6s - loss: 1.242 - ETA: 5s - loss: 1.242 - ETA: 5s - loss: 1.241 - ETA: 5s - loss: 1.242 - ETA: 5s - loss: 1.242 - ETA: 5s - loss: 1.242 - ETA: 5s - loss: 1.242 - ETA: 5s - loss: 1.242 - ETA: 5s - loss: 1.242 - ETA: 5s - loss: 1.242 - ETA: 5s - loss: 1.242 - ETA: 5s - loss: 1.242 - ETA: 5s - loss: 1.242 - ETA: 5s - loss: 1.242 - ETA: 5s - loss: 1.242 - ETA: 5s - loss: 1.242 - ETA: 5s - loss: 1.242 - ETA: 5s - loss: 1.242 - ETA: 5s - loss: 1.242 - ETA: 4s - loss: 1.242 - ETA: 4s - loss: 1.242 - ETA: 4s - loss: 1.242 - ETA: 4s - loss: 1.241 - ETA: 4s - loss: 1.242 - ETA: 4s - loss: 1.242 - ETA: 4s - loss: 1.241 - ETA: 4s - loss: 1.242 - ETA: 4s - loss: 1.242 - ETA: 4s - loss: 1.242 - ETA: 4s - loss: 1.242 - ETA: 4s - loss: 1.242 - ETA: 4s - loss: 1.241 - ETA: 4s - loss: 1.241 - ETA: 4s - loss: 1.241 - ETA: 4s - loss: 1.241 - ETA: 4s - loss: 1.242 - ETA: 3s - loss: 1.242 - ETA: 3s - loss: 1.242 - ETA: 3s - loss: 1.241 - ETA: 3s - loss: 1.241 - ETA: 3s - loss: 1.241 - ETA: 3s - loss: 1.241 - ETA: 3s - loss: 1.241 - ETA: 3s - loss: 1.241 - ETA: 3s - loss: 1.241 - ETA: 3s - loss: 1.241 - ETA: 3s - loss: 1.241 - ETA: 3s - loss: 1.241 - ETA: 3s - loss: 1.241 - ETA: 3s - loss: 1.241 - ETA: 3s - loss: 1.241 - ETA: 3s - loss: 1.241 - ETA: 3s - loss: 1.241 - ETA: 2s - loss: 1.241 - ETA: 2s - loss: 1.241 - ETA: 2s - loss: 1.241 - ETA: 2s - loss: 1.241 - ETA: 2s - loss: 1.241 - ETA: 2s - loss: 1.241 - ETA: 2s - loss: 1.241 - ETA: 2s - loss: 1.241 - ETA: 2s - loss: 1.241 - ETA: 2s - loss: 1.241 - ETA: 2s - loss: 1.241 - ETA: 2s - loss: 1.242 - ETA: 2s - loss: 1.242 - ETA: 2s - loss: 1.242 - ETA: 2s - loss: 1.242 - ETA: 2s - loss: 1.241 - ETA: 2s - loss: 1.241 - ETA: 2s - loss: 1.241 - ETA: 1s - loss: 1.241 - ETA: 1s - loss: 1.241 - ETA: 1s - loss: 1.241 - ETA: 1s - loss: 1.241 - ETA: 1s - loss: 1.241 - ETA: 1s - loss: 1.241 - ETA: 1s - loss: 1.241 - ETA: 1s - loss: 1.241 - ETA: 1s - loss: 1.241 - ETA: 1s - loss: 1.241 - ETA: 1s - loss: 1.241 - ETA: 1s - loss: 1.241 - ETA: 1s - loss: 1.241 - ETA: 1s - loss: 1.241 - ETA: 1s - loss: 1.241 - ETA: 1s - loss: 1.241 - ETA: 1s - loss: 1.242 - ETA: 1s - loss: 1.241 - ETA: 1s - loss: 1.241 - ETA: 0s - loss: 1.242 - ETA: 0s - loss: 1.241 - ETA: 0s - loss: 1.242 - ETA: 0s - loss: 1.242 - ETA: 0s - loss: 1.241 - ETA: 0s - loss: 1.242 - ETA: 0s - loss: 1.242 - ETA: 0s - loss: 1.241 - ETA: 0s - loss: 1.241 - ETA: 0s - loss: 1.241 - ETA: 0s - loss: 1.242 - ETA: 0s - loss: 1.241 - ETA: 0s - loss: 1.241 - ETA: 0s - loss: 1.241 - ETA: 0s - loss: 1.241 - ETA: 0s - loss: 1.241 - ETA: 0s - loss: 1.241 - ETA: 0s - loss: 1.241 - 16s 210us/step - loss: 1.2417 - val_loss: 1.2333\n",
      "Epoch 5/20\n"
     ]
    },
    {
     "name": "stdout",
     "output_type": "stream",
     "text": [
      "58432/75006 [======================>.......] - ETA: 22s - loss: 1.01 - ETA: 14s - loss: 1.19 - ETA: 16s - loss: 1.22 - ETA: 15s - loss: 1.23 - ETA: 15s - loss: 1.21 - ETA: 15s - loss: 1.22 - ETA: 15s - loss: 1.22 - ETA: 15s - loss: 1.22 - ETA: 14s - loss: 1.22 - ETA: 14s - loss: 1.22 - ETA: 14s - loss: 1.21 - ETA: 14s - loss: 1.21 - ETA: 14s - loss: 1.20 - ETA: 14s - loss: 1.21 - ETA: 14s - loss: 1.21 - ETA: 14s - loss: 1.21 - ETA: 14s - loss: 1.21 - ETA: 13s - loss: 1.21 - ETA: 13s - loss: 1.21 - ETA: 13s - loss: 1.21 - ETA: 13s - loss: 1.20 - ETA: 13s - loss: 1.20 - ETA: 13s - loss: 1.20 - ETA: 13s - loss: 1.20 - ETA: 13s - loss: 1.20 - ETA: 13s - loss: 1.20 - ETA: 13s - loss: 1.20 - ETA: 13s - loss: 1.20 - ETA: 13s - loss: 1.20 - ETA: 13s - loss: 1.20 - ETA: 13s - loss: 1.19 - ETA: 13s - loss: 1.20 - ETA: 13s - loss: 1.19 - ETA: 13s - loss: 1.19 - ETA: 13s - loss: 1.20 - ETA: 13s - loss: 1.20 - ETA: 12s - loss: 1.20 - ETA: 12s - loss: 1.20 - ETA: 12s - loss: 1.20 - ETA: 12s - loss: 1.20 - ETA: 12s - loss: 1.20 - ETA: 12s - loss: 1.20 - ETA: 12s - loss: 1.20 - ETA: 12s - loss: 1.20 - ETA: 12s - loss: 1.20 - ETA: 12s - loss: 1.20 - ETA: 12s - loss: 1.20 - ETA: 12s - loss: 1.20 - ETA: 12s - loss: 1.20 - ETA: 12s - loss: 1.20 - ETA: 12s - loss: 1.20 - ETA: 12s - loss: 1.20 - ETA: 12s - loss: 1.20 - ETA: 12s - loss: 1.20 - ETA: 12s - loss: 1.21 - ETA: 12s - loss: 1.21 - ETA: 12s - loss: 1.21 - ETA: 12s - loss: 1.21 - ETA: 12s - loss: 1.21 - ETA: 12s - loss: 1.21 - ETA: 12s - loss: 1.21 - ETA: 12s - loss: 1.21 - ETA: 12s - loss: 1.21 - ETA: 12s - loss: 1.21 - ETA: 11s - loss: 1.21 - ETA: 11s - loss: 1.21 - ETA: 11s - loss: 1.21 - ETA: 11s - loss: 1.21 - ETA: 11s - loss: 1.21 - ETA: 11s - loss: 1.21 - ETA: 11s - loss: 1.21 - ETA: 11s - loss: 1.21 - ETA: 11s - loss: 1.21 - ETA: 11s - loss: 1.21 - ETA: 11s - loss: 1.21 - ETA: 11s - loss: 1.21 - ETA: 11s - loss: 1.21 - ETA: 11s - loss: 1.21 - ETA: 11s - loss: 1.21 - ETA: 11s - loss: 1.21 - ETA: 11s - loss: 1.21 - ETA: 11s - loss: 1.21 - ETA: 11s - loss: 1.21 - ETA: 10s - loss: 1.21 - ETA: 10s - loss: 1.21 - ETA: 10s - loss: 1.21 - ETA: 10s - loss: 1.21 - ETA: 10s - loss: 1.21 - ETA: 10s - loss: 1.21 - ETA: 10s - loss: 1.21 - ETA: 10s - loss: 1.21 - ETA: 10s - loss: 1.21 - ETA: 10s - loss: 1.21 - ETA: 10s - loss: 1.21 - ETA: 10s - loss: 1.21 - ETA: 10s - loss: 1.21 - ETA: 10s - loss: 1.21 - ETA: 10s - loss: 1.21 - ETA: 10s - loss: 1.21 - ETA: 10s - loss: 1.21 - ETA: 10s - loss: 1.21 - ETA: 10s - loss: 1.21 - ETA: 10s - loss: 1.21 - ETA: 10s - loss: 1.21 - ETA: 9s - loss: 1.2173 - ETA: 9s - loss: 1.217 - ETA: 9s - loss: 1.217 - ETA: 9s - loss: 1.217 - ETA: 9s - loss: 1.217 - ETA: 9s - loss: 1.217 - ETA: 9s - loss: 1.218 - ETA: 9s - loss: 1.219 - ETA: 9s - loss: 1.219 - ETA: 9s - loss: 1.220 - ETA: 9s - loss: 1.220 - ETA: 9s - loss: 1.220 - ETA: 9s - loss: 1.220 - ETA: 9s - loss: 1.220 - ETA: 9s - loss: 1.220 - ETA: 9s - loss: 1.220 - ETA: 8s - loss: 1.219 - ETA: 8s - loss: 1.220 - ETA: 8s - loss: 1.220 - ETA: 8s - loss: 1.220 - ETA: 8s - loss: 1.220 - ETA: 8s - loss: 1.221 - ETA: 8s - loss: 1.221 - ETA: 8s - loss: 1.221 - ETA: 8s - loss: 1.220 - ETA: 8s - loss: 1.221 - ETA: 8s - loss: 1.221 - ETA: 8s - loss: 1.220 - ETA: 8s - loss: 1.220 - ETA: 8s - loss: 1.220 - ETA: 8s - loss: 1.221 - ETA: 8s - loss: 1.220 - ETA: 8s - loss: 1.221 - ETA: 7s - loss: 1.221 - ETA: 7s - loss: 1.220 - ETA: 7s - loss: 1.221 - ETA: 7s - loss: 1.221 - ETA: 7s - loss: 1.221 - ETA: 7s - loss: 1.221 - ETA: 7s - loss: 1.221 - ETA: 7s - loss: 1.221 - ETA: 7s - loss: 1.221 - ETA: 7s - loss: 1.221 - ETA: 7s - loss: 1.220 - ETA: 7s - loss: 1.221 - ETA: 7s - loss: 1.221 - ETA: 7s - loss: 1.221 - ETA: 7s - loss: 1.221 - ETA: 7s - loss: 1.222 - ETA: 6s - loss: 1.221 - ETA: 6s - loss: 1.221 - ETA: 6s - loss: 1.221 - ETA: 6s - loss: 1.221 - ETA: 6s - loss: 1.221 - ETA: 6s - loss: 1.221 - ETA: 6s - loss: 1.221 - ETA: 6s - loss: 1.221 - ETA: 6s - loss: 1.221 - ETA: 6s - loss: 1.221 - ETA: 6s - loss: 1.221 - ETA: 6s - loss: 1.222 - ETA: 6s - loss: 1.221 - ETA: 6s - loss: 1.221 - ETA: 6s - loss: 1.221 - ETA: 6s - loss: 1.221 - ETA: 6s - loss: 1.221 - ETA: 6s - loss: 1.222 - ETA: 6s - loss: 1.221 - ETA: 6s - loss: 1.221 - ETA: 6s - loss: 1.221 - ETA: 6s - loss: 1.221 - ETA: 6s - loss: 1.221 - ETA: 5s - loss: 1.221 - ETA: 5s - loss: 1.221 - ETA: 5s - loss: 1.221 - ETA: 5s - loss: 1.221 - ETA: 5s - loss: 1.221 - ETA: 5s - loss: 1.221 - ETA: 5s - loss: 1.221 - ETA: 5s - loss: 1.221 - ETA: 5s - loss: 1.221 - ETA: 5s - loss: 1.221 - ETA: 5s - loss: 1.221 - ETA: 5s - loss: 1.221 - ETA: 5s - loss: 1.221 - ETA: 5s - loss: 1.221 - ETA: 5s - loss: 1.221 - ETA: 5s - loss: 1.221 - ETA: 5s - loss: 1.221 - ETA: 5s - loss: 1.221 - ETA: 5s - loss: 1.222 - ETA: 5s - loss: 1.222 - ETA: 5s - loss: 1.222 - ETA: 5s - loss: 1.222 - ETA: 5s - loss: 1.222 - ETA: 5s - loss: 1.222 - ETA: 5s - loss: 1.222 - ETA: 4s - loss: 1.222 - ETA: 4s - loss: 1.222 - ETA: 4s - loss: 1.222 - ETA: 4s - loss: 1.222 - ETA: 4s - loss: 1.222 - ETA: 4s - loss: 1.222 - ETA: 4s - loss: 1.222 - ETA: 4s - loss: 1.222 - ETA: 4s - loss: 1.222 - ETA: 4s - loss: 1.222 - ETA: 4s - loss: 1.222 - ETA: 4s - loss: 1.222 - ETA: 4s - loss: 1.222 - ETA: 4s - loss: 1.222 - ETA: 4s - loss: 1.222 - ETA: 4s - loss: 1.222 - ETA: 5s - loss: 1.222 - ETA: 5s - loss: 1.222 - ETA: 5s - loss: 1.222 - ETA: 5s - loss: 1.222 - ETA: 5s - loss: 1.222 - ETA: 5s - loss: 1.221 - ETA: 5s - loss: 1.221 - ETA: 5s - loss: 1.221 - ETA: 5s - loss: 1.221 - ETA: 5s - loss: 1.221 - ETA: 5s - loss: 1.222 - ETA: 5s - loss: 1.222 - ETA: 5s - loss: 1.222 - ETA: 5s - loss: 1.221 - ETA: 5s - loss: 1.222 - ETA: 5s - loss: 1.222 - ETA: 5s - loss: 1.222 - ETA: 5s - loss: 1.222 - ETA: 5s - loss: 1.221 - ETA: 5s - loss: 1.221 - ETA: 5s - loss: 1.221 - ETA: 5s - loss: 1.221 - ETA: 5s - loss: 1.221 - ETA: 5s - loss: 1.221 - ETA: 5s - loss: 1.221 - ETA: 5s - loss: 1.221 - ETA: 5s - loss: 1.221 - ETA: 5s - loss: 1.221 - ETA: 5s - loss: 1.221 - ETA: 5s - loss: 1.221 - ETA: 5s - loss: 1.221 - ETA: 5s - loss: 1.221 - ETA: 5s - loss: 1.221 - ETA: 5s - loss: 1.221 - ETA: 5s - loss: 1.221 - ETA: 5s - loss: 1.221 - ETA: 5s - loss: 1.221 - ETA: 5s - loss: 1.221 - ETA: 5s - loss: 1.221 - ETA: 5s - loss: 1.221 - ETA: 5s - loss: 1.221 - ETA: 5s - loss: 1.221 - ETA: 5s - loss: 1.221 - ETA: 5s - loss: 1.221 - ETA: 5s - loss: 1.221 - ETA: 5s - loss: 1.221 - ETA: 5s - loss: 1.221 - ETA: 5s - loss: 1.221 - ETA: 5s - loss: 1.221 - ETA: 5s - loss: 1.221 - ETA: 5s - loss: 1.221 - ETA: 5s - loss: 1.221 - ETA: 5s - loss: 1.221 - ETA: 5s - loss: 1.221 - ETA: 5s - loss: 1.221 - ETA: 5s - loss: 1.221 - ETA: 5s - loss: 1.221 - ETA: 5s - loss: 1.221 - ETA: 5s - loss: 1.221 - ETA: 5s - loss: 1.221 - ETA: 5s - loss: 1.221 - ETA: 5s - loss: 1.221 - ETA: 5s - loss: 1.221 - ETA: 5s - loss: 1.221 - ETA: 5s - loss: 1.221 - ETA: 5s - loss: 1.221 - ETA: 5s - loss: 1.221 - ETA: 5s - loss: 1.221 - ETA: 5s - loss: 1.221 - ETA: 5s - loss: 1.221 - ETA: 5s - loss: 1.221 - ETA: 5s - loss: 1.221 - ETA: 5s - loss: 1.221 - ETA: 5s - loss: 1.221 - ETA: 5s - loss: 1.221 - ETA: 5s - loss: 1.221 - ETA: 5s - loss: 1.221 - ETA: 5s - loss: 1.221 - ETA: 5s - loss: 1.221 - ETA: 5s - loss: 1.221 - ETA: 5s - loss: 1.221 - ETA: 5s - loss: 1.221 - ETA: 5s - loss: 1.221 - ETA: 5s - loss: 1.221 - ETA: 5s - loss: 1.221 - ETA: 5s - loss: 1.221 - ETA: 5s - loss: 1.221 - ETA: 5s - loss: 1.221 - ETA: 5s - loss: 1.221 - ETA: 5s - loss: 1.221 - ETA: 5s - loss: 1.221 - ETA: 5s - loss: 1.221 - ETA: 5s - loss: 1.221 - ETA: 5s - loss: 1.221 - ETA: 5s - loss: 1.221 - ETA: 5s - loss: 1.221 - ETA: 5s - loss: 1.221 - ETA: 5s - loss: 1.221 - ETA: 5s - loss: 1.221 - ETA: 5s - loss: 1.221 - ETA: 5s - loss: 1.221 - ETA: 5s - loss: 1.221 - ETA: 5s - loss: 1.221 - ETA: 5s - loss: 1.221 - ETA: 5s - loss: 1.221 - ETA: 5s - loss: 1.221 - ETA: 5s - loss: 1.221 - ETA: 5s - loss: 1.221 - ETA: 5s - loss: 1.221 - ETA: 5s - loss: 1.221 - ETA: 5s - loss: 1.221 - ETA: 5s - loss: 1.221 - ETA: 5s - loss: 1.221 - ETA: 5s - loss: 1.221 - ETA: 5s - loss: 1.221 - ETA: 5s - loss: 1.221 - ETA: 5s - loss: 1.221 - ETA: 5s - loss: 1.221 - ETA: 5s - loss: 1.221 - ETA: 5s - loss: 1.221 - ETA: 5s - loss: 1.221 - ETA: 5s - loss: 1.221 - ETA: 5s - loss: 1.2216"
     ]
    },
    {
     "name": "stdout",
     "output_type": "stream",
     "text": [
      "75006/75006 [==============================] - ETA: 5s - loss: 1.221 - ETA: 5s - loss: 1.221 - ETA: 5s - loss: 1.221 - ETA: 5s - loss: 1.221 - ETA: 5s - loss: 1.221 - ETA: 5s - loss: 1.221 - ETA: 5s - loss: 1.221 - ETA: 5s - loss: 1.221 - ETA: 5s - loss: 1.222 - ETA: 5s - loss: 1.221 - ETA: 5s - loss: 1.221 - ETA: 5s - loss: 1.221 - ETA: 5s - loss: 1.221 - ETA: 5s - loss: 1.221 - ETA: 5s - loss: 1.221 - ETA: 5s - loss: 1.221 - ETA: 5s - loss: 1.221 - ETA: 5s - loss: 1.221 - ETA: 5s - loss: 1.221 - ETA: 5s - loss: 1.221 - ETA: 5s - loss: 1.221 - ETA: 5s - loss: 1.221 - ETA: 5s - loss: 1.221 - ETA: 5s - loss: 1.221 - ETA: 5s - loss: 1.221 - ETA: 5s - loss: 1.221 - ETA: 5s - loss: 1.221 - ETA: 5s - loss: 1.222 - ETA: 5s - loss: 1.221 - ETA: 5s - loss: 1.221 - ETA: 5s - loss: 1.221 - ETA: 5s - loss: 1.221 - ETA: 5s - loss: 1.221 - ETA: 5s - loss: 1.221 - ETA: 5s - loss: 1.221 - ETA: 5s - loss: 1.221 - ETA: 5s - loss: 1.221 - ETA: 5s - loss: 1.221 - ETA: 5s - loss: 1.221 - ETA: 5s - loss: 1.221 - ETA: 5s - loss: 1.221 - ETA: 5s - loss: 1.221 - ETA: 5s - loss: 1.221 - ETA: 5s - loss: 1.221 - ETA: 5s - loss: 1.222 - ETA: 5s - loss: 1.222 - ETA: 5s - loss: 1.221 - ETA: 5s - loss: 1.221 - ETA: 5s - loss: 1.221 - ETA: 5s - loss: 1.221 - ETA: 5s - loss: 1.221 - ETA: 5s - loss: 1.221 - ETA: 4s - loss: 1.221 - ETA: 4s - loss: 1.221 - ETA: 4s - loss: 1.221 - ETA: 4s - loss: 1.221 - ETA: 4s - loss: 1.221 - ETA: 4s - loss: 1.221 - ETA: 4s - loss: 1.221 - ETA: 4s - loss: 1.221 - ETA: 4s - loss: 1.221 - ETA: 4s - loss: 1.221 - ETA: 4s - loss: 1.221 - ETA: 4s - loss: 1.221 - ETA: 4s - loss: 1.221 - ETA: 4s - loss: 1.221 - ETA: 4s - loss: 1.220 - ETA: 4s - loss: 1.220 - ETA: 4s - loss: 1.220 - ETA: 4s - loss: 1.220 - ETA: 4s - loss: 1.220 - ETA: 4s - loss: 1.220 - ETA: 4s - loss: 1.220 - ETA: 4s - loss: 1.220 - ETA: 4s - loss: 1.220 - ETA: 4s - loss: 1.220 - ETA: 4s - loss: 1.220 - ETA: 4s - loss: 1.221 - ETA: 4s - loss: 1.221 - ETA: 4s - loss: 1.221 - ETA: 4s - loss: 1.221 - ETA: 4s - loss: 1.221 - ETA: 4s - loss: 1.221 - ETA: 4s - loss: 1.221 - ETA: 4s - loss: 1.221 - ETA: 4s - loss: 1.221 - ETA: 4s - loss: 1.221 - ETA: 4s - loss: 1.221 - ETA: 4s - loss: 1.221 - ETA: 4s - loss: 1.221 - ETA: 4s - loss: 1.221 - ETA: 4s - loss: 1.221 - ETA: 4s - loss: 1.220 - ETA: 4s - loss: 1.220 - ETA: 4s - loss: 1.220 - ETA: 4s - loss: 1.220 - ETA: 4s - loss: 1.220 - ETA: 4s - loss: 1.220 - ETA: 4s - loss: 1.220 - ETA: 4s - loss: 1.220 - ETA: 4s - loss: 1.220 - ETA: 4s - loss: 1.220 - ETA: 4s - loss: 1.220 - ETA: 4s - loss: 1.220 - ETA: 4s - loss: 1.220 - ETA: 4s - loss: 1.220 - ETA: 4s - loss: 1.220 - ETA: 4s - loss: 1.220 - ETA: 4s - loss: 1.220 - ETA: 4s - loss: 1.220 - ETA: 4s - loss: 1.220 - ETA: 4s - loss: 1.220 - ETA: 4s - loss: 1.220 - ETA: 4s - loss: 1.220 - ETA: 4s - loss: 1.220 - ETA: 3s - loss: 1.220 - ETA: 3s - loss: 1.220 - ETA: 3s - loss: 1.220 - ETA: 3s - loss: 1.220 - ETA: 3s - loss: 1.220 - ETA: 3s - loss: 1.220 - ETA: 3s - loss: 1.220 - ETA: 3s - loss: 1.220 - ETA: 3s - loss: 1.220 - ETA: 3s - loss: 1.220 - ETA: 3s - loss: 1.220 - ETA: 3s - loss: 1.220 - ETA: 3s - loss: 1.220 - ETA: 3s - loss: 1.220 - ETA: 3s - loss: 1.220 - ETA: 3s - loss: 1.221 - ETA: 3s - loss: 1.220 - ETA: 3s - loss: 1.220 - ETA: 3s - loss: 1.220 - ETA: 3s - loss: 1.220 - ETA: 3s - loss: 1.221 - ETA: 3s - loss: 1.221 - ETA: 3s - loss: 1.221 - ETA: 3s - loss: 1.221 - ETA: 3s - loss: 1.221 - ETA: 3s - loss: 1.221 - ETA: 3s - loss: 1.221 - ETA: 3s - loss: 1.221 - ETA: 3s - loss: 1.221 - ETA: 3s - loss: 1.221 - ETA: 3s - loss: 1.221 - ETA: 3s - loss: 1.221 - ETA: 3s - loss: 1.221 - ETA: 3s - loss: 1.221 - ETA: 3s - loss: 1.221 - ETA: 3s - loss: 1.221 - ETA: 3s - loss: 1.221 - ETA: 3s - loss: 1.221 - ETA: 3s - loss: 1.221 - ETA: 3s - loss: 1.221 - ETA: 3s - loss: 1.221 - ETA: 3s - loss: 1.221 - ETA: 3s - loss: 1.221 - ETA: 2s - loss: 1.221 - ETA: 2s - loss: 1.221 - ETA: 2s - loss: 1.221 - ETA: 2s - loss: 1.221 - ETA: 2s - loss: 1.221 - ETA: 2s - loss: 1.221 - ETA: 2s - loss: 1.221 - ETA: 2s - loss: 1.221 - ETA: 2s - loss: 1.221 - ETA: 2s - loss: 1.221 - ETA: 2s - loss: 1.221 - ETA: 2s - loss: 1.221 - ETA: 2s - loss: 1.221 - ETA: 2s - loss: 1.221 - ETA: 2s - loss: 1.221 - ETA: 2s - loss: 1.221 - ETA: 2s - loss: 1.221 - ETA: 2s - loss: 1.221 - ETA: 2s - loss: 1.221 - ETA: 2s - loss: 1.221 - ETA: 2s - loss: 1.221 - ETA: 2s - loss: 1.221 - ETA: 2s - loss: 1.221 - ETA: 2s - loss: 1.221 - ETA: 2s - loss: 1.221 - ETA: 2s - loss: 1.221 - ETA: 2s - loss: 1.221 - ETA: 2s - loss: 1.221 - ETA: 2s - loss: 1.221 - ETA: 2s - loss: 1.221 - ETA: 2s - loss: 1.221 - ETA: 2s - loss: 1.221 - ETA: 2s - loss: 1.221 - ETA: 2s - loss: 1.221 - ETA: 2s - loss: 1.221 - ETA: 2s - loss: 1.221 - ETA: 2s - loss: 1.221 - ETA: 2s - loss: 1.221 - ETA: 2s - loss: 1.221 - ETA: 1s - loss: 1.221 - ETA: 1s - loss: 1.221 - ETA: 1s - loss: 1.221 - ETA: 1s - loss: 1.221 - ETA: 1s - loss: 1.221 - ETA: 1s - loss: 1.221 - ETA: 1s - loss: 1.222 - ETA: 1s - loss: 1.222 - ETA: 1s - loss: 1.222 - ETA: 1s - loss: 1.222 - ETA: 1s - loss: 1.222 - ETA: 1s - loss: 1.222 - ETA: 1s - loss: 1.222 - ETA: 1s - loss: 1.222 - ETA: 1s - loss: 1.222 - ETA: 1s - loss: 1.222 - ETA: 1s - loss: 1.222 - ETA: 1s - loss: 1.222 - ETA: 1s - loss: 1.222 - ETA: 1s - loss: 1.222 - ETA: 1s - loss: 1.222 - ETA: 1s - loss: 1.222 - ETA: 1s - loss: 1.222 - ETA: 1s - loss: 1.222 - ETA: 1s - loss: 1.222 - ETA: 1s - loss: 1.222 - ETA: 1s - loss: 1.222 - ETA: 1s - loss: 1.222 - ETA: 1s - loss: 1.222 - ETA: 1s - loss: 1.222 - ETA: 1s - loss: 1.222 - ETA: 1s - loss: 1.222 - ETA: 1s - loss: 1.222 - ETA: 1s - loss: 1.222 - ETA: 1s - loss: 1.222 - ETA: 1s - loss: 1.222 - ETA: 0s - loss: 1.222 - ETA: 0s - loss: 1.222 - ETA: 0s - loss: 1.222 - ETA: 0s - loss: 1.222 - ETA: 0s - loss: 1.222 - ETA: 0s - loss: 1.222 - ETA: 0s - loss: 1.222 - ETA: 0s - loss: 1.222 - ETA: 0s - loss: 1.222 - ETA: 0s - loss: 1.222 - ETA: 0s - loss: 1.222 - ETA: 0s - loss: 1.222 - ETA: 0s - loss: 1.222 - ETA: 0s - loss: 1.222 - ETA: 0s - loss: 1.222 - ETA: 0s - loss: 1.222 - ETA: 0s - loss: 1.222 - ETA: 0s - loss: 1.222 - ETA: 0s - loss: 1.222 - ETA: 0s - loss: 1.222 - ETA: 0s - loss: 1.222 - ETA: 0s - loss: 1.222 - ETA: 0s - loss: 1.222 - ETA: 0s - loss: 1.222 - ETA: 0s - loss: 1.222 - ETA: 0s - loss: 1.222 - ETA: 0s - loss: 1.222 - ETA: 0s - loss: 1.222 - ETA: 0s - loss: 1.222 - ETA: 0s - loss: 1.222 - ETA: 0s - loss: 1.222 - ETA: 0s - loss: 1.222 - ETA: 0s - loss: 1.222 - ETA: 0s - loss: 1.222 - 39s 516us/step - loss: 1.2223 - val_loss: 1.2271\n",
      "Epoch 6/20\n",
      "37312/75006 [=============>................] - ETA: 1:51 - loss: 1.030 - ETA: 1:28 - loss: 1.097 - ETA: 1:26 - loss: 1.114 - ETA: 1:26 - loss: 1.145 - ETA: 1:26 - loss: 1.146 - ETA: 1:25 - loss: 1.171 - ETA: 1:28 - loss: 1.172 - ETA: 1:26 - loss: 1.178 - ETA: 1:26 - loss: 1.172 - ETA: 1:27 - loss: 1.163 - ETA: 1:28 - loss: 1.165 - ETA: 1:29 - loss: 1.159 - ETA: 1:29 - loss: 1.147 - ETA: 1:28 - loss: 1.150 - ETA: 1:31 - loss: 1.148 - ETA: 1:30 - loss: 1.147 - ETA: 1:32 - loss: 1.148 - ETA: 1:33 - loss: 1.158 - ETA: 1:32 - loss: 1.166 - ETA: 1:32 - loss: 1.160 - ETA: 1:31 - loss: 1.158 - ETA: 1:30 - loss: 1.172 - ETA: 1:32 - loss: 1.169 - ETA: 1:32 - loss: 1.182 - ETA: 1:31 - loss: 1.181 - ETA: 1:30 - loss: 1.183 - ETA: 1:31 - loss: 1.181 - ETA: 1:30 - loss: 1.185 - ETA: 1:29 - loss: 1.180 - ETA: 1:28 - loss: 1.181 - ETA: 1:27 - loss: 1.183 - ETA: 1:27 - loss: 1.182 - ETA: 1:26 - loss: 1.184 - ETA: 1:27 - loss: 1.187 - ETA: 1:26 - loss: 1.190 - ETA: 1:26 - loss: 1.188 - ETA: 1:25 - loss: 1.187 - ETA: 1:25 - loss: 1.192 - ETA: 1:25 - loss: 1.196 - ETA: 1:25 - loss: 1.194 - ETA: 1:25 - loss: 1.195 - ETA: 1:25 - loss: 1.195 - ETA: 1:26 - loss: 1.196 - ETA: 1:25 - loss: 1.194 - ETA: 1:25 - loss: 1.195 - ETA: 1:24 - loss: 1.194 - ETA: 1:24 - loss: 1.195 - ETA: 1:23 - loss: 1.194 - ETA: 1:23 - loss: 1.194 - ETA: 1:22 - loss: 1.194 - ETA: 1:22 - loss: 1.196 - ETA: 1:22 - loss: 1.193 - ETA: 1:22 - loss: 1.194 - ETA: 1:22 - loss: 1.194 - ETA: 1:22 - loss: 1.195 - ETA: 1:22 - loss: 1.197 - ETA: 1:22 - loss: 1.196 - ETA: 1:22 - loss: 1.197 - ETA: 1:22 - loss: 1.198 - ETA: 1:22 - loss: 1.196 - ETA: 1:22 - loss: 1.194 - ETA: 1:22 - loss: 1.194 - ETA: 1:22 - loss: 1.193 - ETA: 1:21 - loss: 1.195 - ETA: 1:21 - loss: 1.193 - ETA: 1:21 - loss: 1.190 - ETA: 1:21 - loss: 1.189 - ETA: 1:20 - loss: 1.188 - ETA: 1:20 - loss: 1.188 - ETA: 1:20 - loss: 1.189 - ETA: 1:20 - loss: 1.189 - ETA: 1:19 - loss: 1.191 - ETA: 1:19 - loss: 1.191 - ETA: 1:19 - loss: 1.189 - ETA: 1:19 - loss: 1.189 - ETA: 1:19 - loss: 1.188 - ETA: 1:18 - loss: 1.191 - ETA: 1:18 - loss: 1.193 - ETA: 1:18 - loss: 1.194 - ETA: 1:18 - loss: 1.193 - ETA: 1:18 - loss: 1.192 - ETA: 1:18 - loss: 1.192 - ETA: 1:19 - loss: 1.192 - ETA: 1:18 - loss: 1.191 - ETA: 1:18 - loss: 1.190 - ETA: 1:18 - loss: 1.191 - ETA: 1:18 - loss: 1.190 - ETA: 1:18 - loss: 1.190 - ETA: 1:18 - loss: 1.190 - ETA: 1:17 - loss: 1.190 - ETA: 1:17 - loss: 1.190 - ETA: 1:17 - loss: 1.191 - ETA: 1:17 - loss: 1.191 - ETA: 1:16 - loss: 1.192 - ETA: 1:16 - loss: 1.192 - ETA: 1:16 - loss: 1.191 - ETA: 1:16 - loss: 1.191 - ETA: 1:15 - loss: 1.191 - ETA: 1:15 - loss: 1.192 - ETA: 1:15 - loss: 1.192 - ETA: 1:15 - loss: 1.193 - ETA: 1:15 - loss: 1.194 - ETA: 1:14 - loss: 1.197 - ETA: 1:14 - loss: 1.196 - ETA: 1:14 - loss: 1.195 - ETA: 1:14 - loss: 1.195 - ETA: 1:14 - loss: 1.195 - ETA: 1:14 - loss: 1.194 - ETA: 1:14 - loss: 1.194 - ETA: 1:14 - loss: 1.196 - ETA: 1:13 - loss: 1.196 - ETA: 1:13 - loss: 1.197 - ETA: 1:13 - loss: 1.199 - ETA: 1:13 - loss: 1.197 - ETA: 1:13 - loss: 1.195 - ETA: 1:12 - loss: 1.194 - ETA: 1:12 - loss: 1.194 - ETA: 1:12 - loss: 1.194 - ETA: 1:12 - loss: 1.194 - ETA: 1:12 - loss: 1.194 - ETA: 1:12 - loss: 1.193 - ETA: 1:11 - loss: 1.192 - ETA: 1:11 - loss: 1.192 - ETA: 1:11 - loss: 1.192 - ETA: 1:11 - loss: 1.192 - ETA: 1:11 - loss: 1.193 - ETA: 1:11 - loss: 1.193 - ETA: 1:11 - loss: 1.192 - ETA: 1:10 - loss: 1.193 - ETA: 1:10 - loss: 1.192 - ETA: 1:10 - loss: 1.193 - ETA: 1:09 - loss: 1.191 - ETA: 1:09 - loss: 1.190 - ETA: 1:08 - loss: 1.191 - ETA: 1:08 - loss: 1.190 - ETA: 1:07 - loss: 1.190 - ETA: 1:07 - loss: 1.192 - ETA: 1:06 - loss: 1.190 - ETA: 1:05 - loss: 1.190 - ETA: 1:05 - loss: 1.190 - ETA: 1:04 - loss: 1.190 - ETA: 1:03 - loss: 1.191 - ETA: 1:02 - loss: 1.190 - ETA: 1:02 - loss: 1.190 - ETA: 1:02 - loss: 1.190 - ETA: 1:01 - loss: 1.189 - ETA: 1:00 - loss: 1.188 - ETA: 1:00 - loss: 1.188 - ETA: 59s - loss: 1.187 - ETA: 59s - loss: 1.18 - ETA: 58s - loss: 1.18 - ETA: 58s - loss: 1.18 - ETA: 57s - loss: 1.18 - ETA: 56s - loss: 1.18 - ETA: 56s - loss: 1.18 - ETA: 55s - loss: 1.18 - ETA: 55s - loss: 1.18 - ETA: 54s - loss: 1.19 - ETA: 54s - loss: 1.19 - ETA: 53s - loss: 1.19 - ETA: 52s - loss: 1.19 - ETA: 52s - loss: 1.19 - ETA: 51s - loss: 1.19 - ETA: 51s - loss: 1.19 - ETA: 50s - loss: 1.19 - ETA: 50s - loss: 1.19 - ETA: 49s - loss: 1.19 - ETA: 49s - loss: 1.19 - ETA: 48s - loss: 1.19 - ETA: 48s - loss: 1.19 - ETA: 47s - loss: 1.19 - ETA: 47s - loss: 1.19 - ETA: 47s - loss: 1.19 - ETA: 46s - loss: 1.19 - ETA: 46s - loss: 1.19 - ETA: 45s - loss: 1.19 - ETA: 45s - loss: 1.18 - ETA: 45s - loss: 1.18 - ETA: 44s - loss: 1.18 - ETA: 44s - loss: 1.18 - ETA: 43s - loss: 1.19 - ETA: 43s - loss: 1.18 - ETA: 43s - loss: 1.18 - ETA: 42s - loss: 1.18 - ETA: 42s - loss: 1.18 - ETA: 42s - loss: 1.18 - ETA: 41s - loss: 1.18 - ETA: 41s - loss: 1.18 - ETA: 41s - loss: 1.18 - ETA: 41s - loss: 1.18 - ETA: 40s - loss: 1.18 - ETA: 40s - loss: 1.18 - ETA: 40s - loss: 1.18 - ETA: 39s - loss: 1.18 - ETA: 39s - loss: 1.18 - ETA: 39s - loss: 1.18 - ETA: 39s - loss: 1.18 - ETA: 38s - loss: 1.18 - ETA: 38s - loss: 1.18 - ETA: 38s - loss: 1.18 - ETA: 38s - loss: 1.19 - ETA: 37s - loss: 1.19 - ETA: 37s - loss: 1.19 - ETA: 37s - loss: 1.19 - ETA: 36s - loss: 1.19 - ETA: 36s - loss: 1.19 - ETA: 36s - loss: 1.19 - ETA: 36s - loss: 1.19 - ETA: 36s - loss: 1.19 - ETA: 35s - loss: 1.19 - ETA: 35s - loss: 1.19 - ETA: 35s - loss: 1.19 - ETA: 35s - loss: 1.19 - ETA: 34s - loss: 1.19 - ETA: 34s - loss: 1.19 - ETA: 34s - loss: 1.19 - ETA: 34s - loss: 1.19 - ETA: 34s - loss: 1.19 - ETA: 33s - loss: 1.19 - ETA: 33s - loss: 1.19 - ETA: 33s - loss: 1.19 - ETA: 33s - loss: 1.19 - ETA: 32s - loss: 1.19 - ETA: 32s - loss: 1.19 - ETA: 32s - loss: 1.19 - ETA: 32s - loss: 1.19 - ETA: 32s - loss: 1.19 - ETA: 31s - loss: 1.19 - ETA: 31s - loss: 1.19 - ETA: 31s - loss: 1.19 - ETA: 31s - loss: 1.19 - ETA: 31s - loss: 1.19 - ETA: 30s - loss: 1.19 - ETA: 30s - loss: 1.19 - ETA: 30s - loss: 1.19 - ETA: 30s - loss: 1.19 - ETA: 30s - loss: 1.19 - ETA: 29s - loss: 1.19 - ETA: 29s - loss: 1.19 - ETA: 29s - loss: 1.19 - ETA: 29s - loss: 1.19 - ETA: 29s - loss: 1.19 - ETA: 29s - loss: 1.19 - ETA: 29s - loss: 1.19 - ETA: 28s - loss: 1.19 - ETA: 28s - loss: 1.19 - ETA: 28s - loss: 1.19 - ETA: 28s - loss: 1.19 - ETA: 28s - loss: 1.19 - ETA: 27s - loss: 1.19 - ETA: 27s - loss: 1.19 - ETA: 27s - loss: 1.19 - ETA: 27s - loss: 1.19 - ETA: 27s - loss: 1.19 - ETA: 27s - loss: 1.19 - ETA: 27s - loss: 1.19 - ETA: 27s - loss: 1.19 - ETA: 26s - loss: 1.19 - ETA: 26s - loss: 1.19 - ETA: 26s - loss: 1.19 - ETA: 26s - loss: 1.19 - ETA: 26s - loss: 1.19 - ETA: 26s - loss: 1.19 - ETA: 26s - loss: 1.19 - ETA: 25s - loss: 1.19 - ETA: 25s - loss: 1.19 - ETA: 25s - loss: 1.19 - ETA: 25s - loss: 1.19 - ETA: 25s - loss: 1.19 - ETA: 25s - loss: 1.19 - ETA: 25s - loss: 1.19 - ETA: 25s - loss: 1.19 - ETA: 25s - loss: 1.19 - ETA: 24s - loss: 1.19 - ETA: 24s - loss: 1.19 - ETA: 24s - loss: 1.19 - ETA: 24s - loss: 1.19 - ETA: 24s - loss: 1.19 - ETA: 24s - loss: 1.19 - ETA: 24s - loss: 1.19 - ETA: 24s - loss: 1.19 - ETA: 23s - loss: 1.19 - ETA: 23s - loss: 1.19 - ETA: 23s - loss: 1.19 - ETA: 23s - loss: 1.19 - ETA: 23s - loss: 1.19 - ETA: 23s - loss: 1.19 - ETA: 23s - loss: 1.19 - ETA: 23s - loss: 1.19 - ETA: 23s - loss: 1.19 - ETA: 22s - loss: 1.19 - ETA: 22s - loss: 1.19 - ETA: 22s - loss: 1.19 - ETA: 22s - loss: 1.19 - ETA: 22s - loss: 1.19 - ETA: 22s - loss: 1.19 - ETA: 22s - loss: 1.19 - ETA: 22s - loss: 1.19 - ETA: 22s - loss: 1.19 - ETA: 22s - loss: 1.19 - ETA: 22s - loss: 1.19 - ETA: 22s - loss: 1.19 - ETA: 21s - loss: 1.19 - ETA: 21s - loss: 1.19 - ETA: 21s - loss: 1.19 - ETA: 21s - loss: 1.19 - ETA: 21s - loss: 1.19 - ETA: 21s - loss: 1.19 - ETA: 21s - loss: 1.19 - ETA: 21s - loss: 1.19 - ETA: 21s - loss: 1.19 - ETA: 21s - loss: 1.19 - ETA: 21s - loss: 1.19 - ETA: 20s - loss: 1.19 - ETA: 20s - loss: 1.19 - ETA: 20s - loss: 1.19 - ETA: 20s - loss: 1.19 - ETA: 20s - loss: 1.19 - ETA: 20s - loss: 1.19 - ETA: 20s - loss: 1.19 - ETA: 20s - loss: 1.19 - ETA: 19s - loss: 1.19 - ETA: 19s - loss: 1.19 - ETA: 19s - loss: 1.19 - ETA: 19s - loss: 1.19 - ETA: 19s - loss: 1.19 - ETA: 19s - loss: 1.19 - ETA: 19s - loss: 1.199475006/75006 [==============================] - ETA: 19s - loss: 1.19 - ETA: 19s - loss: 1.19 - ETA: 18s - loss: 1.20 - ETA: 18s - loss: 1.19 - ETA: 18s - loss: 1.19 - ETA: 18s - loss: 1.20 - ETA: 18s - loss: 1.20 - ETA: 18s - loss: 1.19 - ETA: 18s - loss: 1.20 - ETA: 18s - loss: 1.19 - ETA: 18s - loss: 1.19 - ETA: 18s - loss: 1.19 - ETA: 18s - loss: 1.19 - ETA: 17s - loss: 1.19 - ETA: 17s - loss: 1.19 - ETA: 17s - loss: 1.19 - ETA: 17s - loss: 1.19 - ETA: 17s - loss: 1.20 - ETA: 17s - loss: 1.19 - ETA: 17s - loss: 1.19 - ETA: 17s - loss: 1.19 - ETA: 17s - loss: 1.19 - ETA: 16s - loss: 1.19 - ETA: 16s - loss: 1.19 - ETA: 16s - loss: 1.19 - ETA: 16s - loss: 1.19 - ETA: 16s - loss: 1.20 - ETA: 16s - loss: 1.20 - ETA: 16s - loss: 1.20 - ETA: 16s - loss: 1.20 - ETA: 16s - loss: 1.20 - ETA: 16s - loss: 1.20 - ETA: 15s - loss: 1.20 - ETA: 15s - loss: 1.20 - ETA: 15s - loss: 1.20 - ETA: 15s - loss: 1.20 - ETA: 15s - loss: 1.20 - ETA: 15s - loss: 1.20 - ETA: 15s - loss: 1.20 - ETA: 15s - loss: 1.20 - ETA: 15s - loss: 1.20 - ETA: 15s - loss: 1.20 - ETA: 14s - loss: 1.20 - ETA: 14s - loss: 1.20 - ETA: 14s - loss: 1.20 - ETA: 14s - loss: 1.20 - ETA: 14s - loss: 1.20 - ETA: 14s - loss: 1.20 - ETA: 14s - loss: 1.20 - ETA: 14s - loss: 1.20 - ETA: 14s - loss: 1.20 - ETA: 14s - loss: 1.20 - ETA: 13s - loss: 1.20 - ETA: 13s - loss: 1.20 - ETA: 13s - loss: 1.20 - ETA: 13s - loss: 1.20 - ETA: 13s - loss: 1.20 - ETA: 13s - loss: 1.20 - ETA: 13s - loss: 1.20 - ETA: 13s - loss: 1.20 - ETA: 13s - loss: 1.20 - ETA: 13s - loss: 1.20 - ETA: 12s - loss: 1.20 - ETA: 12s - loss: 1.20 - ETA: 12s - loss: 1.20 - ETA: 12s - loss: 1.20 - ETA: 12s - loss: 1.20 - ETA: 12s - loss: 1.20 - ETA: 12s - loss: 1.20 - ETA: 12s - loss: 1.20 - ETA: 12s - loss: 1.20 - ETA: 11s - loss: 1.20 - ETA: 11s - loss: 1.20 - ETA: 11s - loss: 1.20 - ETA: 11s - loss: 1.20 - ETA: 11s - loss: 1.20 - ETA: 11s - loss: 1.20 - ETA: 11s - loss: 1.20 - ETA: 11s - loss: 1.20 - ETA: 11s - loss: 1.20 - ETA: 10s - loss: 1.20 - ETA: 10s - loss: 1.20 - ETA: 10s - loss: 1.20 - ETA: 10s - loss: 1.20 - ETA: 10s - loss: 1.20 - ETA: 10s - loss: 1.20 - ETA: 10s - loss: 1.20 - ETA: 10s - loss: 1.20 - ETA: 10s - loss: 1.20 - ETA: 10s - loss: 1.20 - ETA: 9s - loss: 1.2028 - ETA: 9s - loss: 1.203 - ETA: 9s - loss: 1.202 - ETA: 9s - loss: 1.203 - ETA: 9s - loss: 1.202 - ETA: 9s - loss: 1.202 - ETA: 9s - loss: 1.202 - ETA: 9s - loss: 1.202 - ETA: 9s - loss: 1.202 - ETA: 9s - loss: 1.203 - ETA: 8s - loss: 1.202 - ETA: 8s - loss: 1.202 - ETA: 8s - loss: 1.202 - ETA: 8s - loss: 1.202 - ETA: 8s - loss: 1.202 - ETA: 8s - loss: 1.202 - ETA: 8s - loss: 1.202 - ETA: 8s - loss: 1.203 - ETA: 8s - loss: 1.203 - ETA: 8s - loss: 1.202 - ETA: 7s - loss: 1.203 - ETA: 7s - loss: 1.203 - ETA: 7s - loss: 1.202 - ETA: 7s - loss: 1.202 - ETA: 7s - loss: 1.202 - ETA: 7s - loss: 1.202 - ETA: 7s - loss: 1.202 - ETA: 7s - loss: 1.202 - ETA: 7s - loss: 1.202 - ETA: 7s - loss: 1.202 - ETA: 6s - loss: 1.202 - ETA: 6s - loss: 1.202 - ETA: 6s - loss: 1.202 - ETA: 6s - loss: 1.202 - ETA: 6s - loss: 1.202 - ETA: 6s - loss: 1.202 - ETA: 6s - loss: 1.202 - ETA: 6s - loss: 1.202 - ETA: 6s - loss: 1.202 - ETA: 6s - loss: 1.202 - ETA: 6s - loss: 1.202 - ETA: 6s - loss: 1.202 - ETA: 5s - loss: 1.202 - ETA: 5s - loss: 1.202 - ETA: 5s - loss: 1.202 - ETA: 5s - loss: 1.202 - ETA: 5s - loss: 1.202 - ETA: 5s - loss: 1.202 - ETA: 5s - loss: 1.202 - ETA: 5s - loss: 1.202 - ETA: 5s - loss: 1.203 - ETA: 5s - loss: 1.203 - ETA: 5s - loss: 1.203 - ETA: 4s - loss: 1.203 - ETA: 4s - loss: 1.203 - ETA: 4s - loss: 1.203 - ETA: 4s - loss: 1.203 - ETA: 4s - loss: 1.203 - ETA: 4s - loss: 1.203 - ETA: 4s - loss: 1.203 - ETA: 4s - loss: 1.203 - ETA: 4s - loss: 1.203 - ETA: 4s - loss: 1.203 - ETA: 4s - loss: 1.203 - ETA: 4s - loss: 1.203 - ETA: 3s - loss: 1.203 - ETA: 3s - loss: 1.203 - ETA: 3s - loss: 1.203 - ETA: 3s - loss: 1.203 - ETA: 3s - loss: 1.203 - ETA: 3s - loss: 1.203 - ETA: 3s - loss: 1.204 - ETA: 3s - loss: 1.203 - ETA: 3s - loss: 1.204 - ETA: 3s - loss: 1.204 - ETA: 3s - loss: 1.204 - ETA: 3s - loss: 1.204 - ETA: 2s - loss: 1.204 - ETA: 2s - loss: 1.204 - ETA: 2s - loss: 1.204 - ETA: 2s - loss: 1.204 - ETA: 2s - loss: 1.205 - ETA: 2s - loss: 1.204 - ETA: 2s - loss: 1.204 - ETA: 2s - loss: 1.204 - ETA: 2s - loss: 1.204 - ETA: 2s - loss: 1.205 - ETA: 2s - loss: 1.205 - ETA: 2s - loss: 1.205 - ETA: 2s - loss: 1.204 - ETA: 2s - loss: 1.204 - ETA: 2s - loss: 1.204 - ETA: 1s - loss: 1.204 - ETA: 1s - loss: 1.204 - ETA: 1s - loss: 1.204 - ETA: 1s - loss: 1.204 - ETA: 1s - loss: 1.204 - ETA: 1s - loss: 1.204 - ETA: 1s - loss: 1.204 - ETA: 1s - loss: 1.204 - ETA: 1s - loss: 1.204 - ETA: 1s - loss: 1.204 - ETA: 1s - loss: 1.204 - ETA: 1s - loss: 1.204 - ETA: 1s - loss: 1.204 - ETA: 1s - loss: 1.204 - ETA: 0s - loss: 1.204 - ETA: 0s - loss: 1.204 - ETA: 0s - loss: 1.204 - ETA: 0s - loss: 1.204 - ETA: 0s - loss: 1.204 - ETA: 0s - loss: 1.205 - ETA: 0s - loss: 1.205 - ETA: 0s - loss: 1.205 - ETA: 0s - loss: 1.205 - ETA: 0s - loss: 1.204 - ETA: 0s - loss: 1.205 - ETA: 0s - loss: 1.205 - ETA: 0s - loss: 1.205 - 31s 414us/step - loss: 1.2051 - val_loss: 1.2275\n",
      "Epoch 7/20\n"
     ]
    },
    {
     "name": "stdout",
     "output_type": "stream",
     "text": [
      "62432/75006 [=======================>......] - ETA: 29s - loss: 1.12 - ETA: 18s - loss: 1.19 - ETA: 18s - loss: 1.17 - ETA: 18s - loss: 1.18 - ETA: 18s - loss: 1.16 - ETA: 18s - loss: 1.15 - ETA: 19s - loss: 1.16 - ETA: 19s - loss: 1.16 - ETA: 19s - loss: 1.17 - ETA: 19s - loss: 1.17 - ETA: 19s - loss: 1.17 - ETA: 18s - loss: 1.18 - ETA: 18s - loss: 1.18 - ETA: 18s - loss: 1.18 - ETA: 18s - loss: 1.19 - ETA: 18s - loss: 1.19 - ETA: 18s - loss: 1.19 - ETA: 18s - loss: 1.19 - ETA: 18s - loss: 1.19 - ETA: 18s - loss: 1.19 - ETA: 18s - loss: 1.19 - ETA: 18s - loss: 1.19 - ETA: 17s - loss: 1.19 - ETA: 17s - loss: 1.19 - ETA: 17s - loss: 1.19 - ETA: 17s - loss: 1.19 - ETA: 17s - loss: 1.19 - ETA: 17s - loss: 1.19 - ETA: 17s - loss: 1.19 - ETA: 17s - loss: 1.19 - ETA: 17s - loss: 1.19 - ETA: 17s - loss: 1.19 - ETA: 17s - loss: 1.19 - ETA: 17s - loss: 1.19 - ETA: 17s - loss: 1.19 - ETA: 17s - loss: 1.19 - ETA: 17s - loss: 1.18 - ETA: 17s - loss: 1.18 - ETA: 17s - loss: 1.19 - ETA: 17s - loss: 1.18 - ETA: 17s - loss: 1.18 - ETA: 17s - loss: 1.19 - ETA: 17s - loss: 1.19 - ETA: 18s - loss: 1.19 - ETA: 18s - loss: 1.19 - ETA: 18s - loss: 1.19 - ETA: 18s - loss: 1.19 - ETA: 18s - loss: 1.19 - ETA: 18s - loss: 1.19 - ETA: 18s - loss: 1.19 - ETA: 18s - loss: 1.19 - ETA: 18s - loss: 1.19 - ETA: 18s - loss: 1.18 - ETA: 18s - loss: 1.18 - ETA: 18s - loss: 1.18 - ETA: 18s - loss: 1.18 - ETA: 18s - loss: 1.18 - ETA: 18s - loss: 1.18 - ETA: 18s - loss: 1.18 - ETA: 18s - loss: 1.18 - ETA: 18s - loss: 1.18 - ETA: 17s - loss: 1.18 - ETA: 17s - loss: 1.18 - ETA: 17s - loss: 1.18 - ETA: 17s - loss: 1.18 - ETA: 17s - loss: 1.18 - ETA: 17s - loss: 1.18 - ETA: 17s - loss: 1.18 - ETA: 17s - loss: 1.18 - ETA: 17s - loss: 1.18 - ETA: 17s - loss: 1.18 - ETA: 17s - loss: 1.18 - ETA: 17s - loss: 1.18 - ETA: 17s - loss: 1.18 - ETA: 17s - loss: 1.18 - ETA: 17s - loss: 1.18 - ETA: 17s - loss: 1.18 - ETA: 17s - loss: 1.18 - ETA: 17s - loss: 1.18 - ETA: 17s - loss: 1.18 - ETA: 17s - loss: 1.18 - ETA: 17s - loss: 1.18 - ETA: 17s - loss: 1.18 - ETA: 17s - loss: 1.18 - ETA: 17s - loss: 1.18 - ETA: 17s - loss: 1.18 - ETA: 17s - loss: 1.18 - ETA: 17s - loss: 1.18 - ETA: 17s - loss: 1.18 - ETA: 17s - loss: 1.18 - ETA: 17s - loss: 1.18 - ETA: 17s - loss: 1.18 - ETA: 17s - loss: 1.18 - ETA: 17s - loss: 1.18 - ETA: 17s - loss: 1.18 - ETA: 17s - loss: 1.18 - ETA: 16s - loss: 1.18 - ETA: 16s - loss: 1.18 - ETA: 16s - loss: 1.18 - ETA: 16s - loss: 1.18 - ETA: 16s - loss: 1.18 - ETA: 16s - loss: 1.18 - ETA: 16s - loss: 1.18 - ETA: 16s - loss: 1.18 - ETA: 16s - loss: 1.18 - ETA: 16s - loss: 1.18 - ETA: 16s - loss: 1.18 - ETA: 16s - loss: 1.18 - ETA: 16s - loss: 1.18 - ETA: 15s - loss: 1.18 - ETA: 15s - loss: 1.18 - ETA: 15s - loss: 1.18 - ETA: 15s - loss: 1.18 - ETA: 15s - loss: 1.18 - ETA: 15s - loss: 1.18 - ETA: 15s - loss: 1.18 - ETA: 15s - loss: 1.18 - ETA: 15s - loss: 1.18 - ETA: 15s - loss: 1.18 - ETA: 15s - loss: 1.18 - ETA: 15s - loss: 1.18 - ETA: 15s - loss: 1.18 - ETA: 15s - loss: 1.18 - ETA: 15s - loss: 1.18 - ETA: 15s - loss: 1.18 - ETA: 15s - loss: 1.18 - ETA: 15s - loss: 1.18 - ETA: 15s - loss: 1.18 - ETA: 15s - loss: 1.18 - ETA: 15s - loss: 1.18 - ETA: 15s - loss: 1.18 - ETA: 15s - loss: 1.18 - ETA: 15s - loss: 1.18 - ETA: 15s - loss: 1.18 - ETA: 15s - loss: 1.18 - ETA: 15s - loss: 1.18 - ETA: 15s - loss: 1.18 - ETA: 15s - loss: 1.18 - ETA: 15s - loss: 1.18 - ETA: 15s - loss: 1.18 - ETA: 14s - loss: 1.18 - ETA: 14s - loss: 1.18 - ETA: 14s - loss: 1.18 - ETA: 14s - loss: 1.18 - ETA: 14s - loss: 1.18 - ETA: 14s - loss: 1.18 - ETA: 14s - loss: 1.18 - ETA: 14s - loss: 1.18 - ETA: 14s - loss: 1.18 - ETA: 14s - loss: 1.18 - ETA: 14s - loss: 1.18 - ETA: 14s - loss: 1.18 - ETA: 14s - loss: 1.18 - ETA: 14s - loss: 1.18 - ETA: 13s - loss: 1.18 - ETA: 13s - loss: 1.18 - ETA: 13s - loss: 1.18 - ETA: 13s - loss: 1.18 - ETA: 13s - loss: 1.18 - ETA: 13s - loss: 1.18 - ETA: 13s - loss: 1.18 - ETA: 13s - loss: 1.18 - ETA: 13s - loss: 1.18 - ETA: 13s - loss: 1.18 - ETA: 13s - loss: 1.18 - ETA: 13s - loss: 1.18 - ETA: 13s - loss: 1.18 - ETA: 13s - loss: 1.18 - ETA: 13s - loss: 1.18 - ETA: 13s - loss: 1.18 - ETA: 13s - loss: 1.18 - ETA: 12s - loss: 1.18 - ETA: 12s - loss: 1.18 - ETA: 12s - loss: 1.18 - ETA: 12s - loss: 1.18 - ETA: 12s - loss: 1.18 - ETA: 12s - loss: 1.18 - ETA: 12s - loss: 1.18 - ETA: 12s - loss: 1.18 - ETA: 12s - loss: 1.18 - ETA: 12s - loss: 1.18 - ETA: 12s - loss: 1.18 - ETA: 12s - loss: 1.18 - ETA: 12s - loss: 1.18 - ETA: 12s - loss: 1.18 - ETA: 12s - loss: 1.18 - ETA: 12s - loss: 1.18 - ETA: 12s - loss: 1.18 - ETA: 12s - loss: 1.18 - ETA: 12s - loss: 1.18 - ETA: 11s - loss: 1.18 - ETA: 11s - loss: 1.18 - ETA: 11s - loss: 1.18 - ETA: 11s - loss: 1.18 - ETA: 11s - loss: 1.18 - ETA: 11s - loss: 1.19 - ETA: 11s - loss: 1.19 - ETA: 11s - loss: 1.18 - ETA: 11s - loss: 1.18 - ETA: 11s - loss: 1.18 - ETA: 11s - loss: 1.18 - ETA: 11s - loss: 1.18 - ETA: 11s - loss: 1.18 - ETA: 11s - loss: 1.18 - ETA: 11s - loss: 1.18 - ETA: 11s - loss: 1.18 - ETA: 11s - loss: 1.18 - ETA: 11s - loss: 1.18 - ETA: 11s - loss: 1.19 - ETA: 11s - loss: 1.18 - ETA: 11s - loss: 1.18 - ETA: 11s - loss: 1.19 - ETA: 11s - loss: 1.19 - ETA: 11s - loss: 1.19 - ETA: 11s - loss: 1.19 - ETA: 10s - loss: 1.19 - ETA: 10s - loss: 1.18 - ETA: 10s - loss: 1.19 - ETA: 10s - loss: 1.19 - ETA: 10s - loss: 1.19 - ETA: 10s - loss: 1.19 - ETA: 10s - loss: 1.19 - ETA: 10s - loss: 1.19 - ETA: 10s - loss: 1.18 - ETA: 10s - loss: 1.19 - ETA: 10s - loss: 1.19 - ETA: 10s - loss: 1.18 - ETA: 10s - loss: 1.19 - ETA: 10s - loss: 1.18 - ETA: 10s - loss: 1.18 - ETA: 10s - loss: 1.18 - ETA: 10s - loss: 1.18 - ETA: 9s - loss: 1.1892 - ETA: 9s - loss: 1.189 - ETA: 9s - loss: 1.189 - ETA: 9s - loss: 1.189 - ETA: 9s - loss: 1.189 - ETA: 9s - loss: 1.189 - ETA: 9s - loss: 1.189 - ETA: 9s - loss: 1.189 - ETA: 9s - loss: 1.189 - ETA: 9s - loss: 1.189 - ETA: 9s - loss: 1.189 - ETA: 9s - loss: 1.189 - ETA: 9s - loss: 1.190 - ETA: 9s - loss: 1.189 - ETA: 9s - loss: 1.190 - ETA: 9s - loss: 1.190 - ETA: 9s - loss: 1.189 - ETA: 9s - loss: 1.189 - ETA: 9s - loss: 1.189 - ETA: 8s - loss: 1.189 - ETA: 8s - loss: 1.190 - ETA: 8s - loss: 1.190 - ETA: 8s - loss: 1.190 - ETA: 8s - loss: 1.190 - ETA: 8s - loss: 1.190 - ETA: 8s - loss: 1.190 - ETA: 8s - loss: 1.190 - ETA: 8s - loss: 1.191 - ETA: 8s - loss: 1.191 - ETA: 8s - loss: 1.191 - ETA: 8s - loss: 1.191 - ETA: 8s - loss: 1.191 - ETA: 8s - loss: 1.191 - ETA: 8s - loss: 1.191 - ETA: 8s - loss: 1.191 - ETA: 8s - loss: 1.191 - ETA: 8s - loss: 1.191 - ETA: 8s - loss: 1.191 - ETA: 8s - loss: 1.191 - ETA: 8s - loss: 1.190 - ETA: 8s - loss: 1.191 - ETA: 8s - loss: 1.191 - ETA: 7s - loss: 1.191 - ETA: 7s - loss: 1.191 - ETA: 7s - loss: 1.191 - ETA: 7s - loss: 1.191 - ETA: 7s - loss: 1.191 - ETA: 7s - loss: 1.191 - ETA: 7s - loss: 1.191 - ETA: 7s - loss: 1.191 - ETA: 7s - loss: 1.191 - ETA: 7s - loss: 1.191 - ETA: 7s - loss: 1.192 - ETA: 7s - loss: 1.192 - ETA: 7s - loss: 1.192 - ETA: 7s - loss: 1.192 - ETA: 7s - loss: 1.192 - ETA: 7s - loss: 1.192 - ETA: 7s - loss: 1.192 - ETA: 7s - loss: 1.192 - ETA: 7s - loss: 1.193 - ETA: 7s - loss: 1.192 - ETA: 6s - loss: 1.193 - ETA: 6s - loss: 1.193 - ETA: 6s - loss: 1.193 - ETA: 6s - loss: 1.193 - ETA: 6s - loss: 1.192 - ETA: 6s - loss: 1.192 - ETA: 6s - loss: 1.193 - ETA: 6s - loss: 1.193 - ETA: 6s - loss: 1.193 - ETA: 6s - loss: 1.193 - ETA: 6s - loss: 1.193 - ETA: 6s - loss: 1.194 - ETA: 6s - loss: 1.194 - ETA: 5s - loss: 1.193 - ETA: 5s - loss: 1.193 - ETA: 5s - loss: 1.193 - ETA: 5s - loss: 1.194 - ETA: 5s - loss: 1.194 - ETA: 5s - loss: 1.194 - ETA: 5s - loss: 1.194 - ETA: 5s - loss: 1.194 - ETA: 5s - loss: 1.194 - ETA: 5s - loss: 1.194 - ETA: 5s - loss: 1.194 - ETA: 5s - loss: 1.194 - ETA: 5s - loss: 1.194 - ETA: 4s - loss: 1.194 - ETA: 4s - loss: 1.194 - ETA: 4s - loss: 1.194 - ETA: 4s - loss: 1.194 - ETA: 4s - loss: 1.194 - ETA: 4s - loss: 1.194 - ETA: 4s - loss: 1.194 - ETA: 4s - loss: 1.194 - ETA: 4s - loss: 1.194 - ETA: 4s - loss: 1.194 - ETA: 4s - loss: 1.194 - ETA: 4s - loss: 1.194 - ETA: 4s - loss: 1.194 - ETA: 4s - loss: 1.194 - ETA: 3s - loss: 1.194 - ETA: 3s - loss: 1.194 - ETA: 3s - loss: 1.194 - ETA: 3s - loss: 1.194 - ETA: 3s - loss: 1.194 - ETA: 3s - loss: 1.1946"
     ]
    },
    {
     "name": "stdout",
     "output_type": "stream",
     "text": [
      "75006/75006 [==============================] - ETA: 3s - loss: 1.194 - ETA: 3s - loss: 1.194 - ETA: 3s - loss: 1.194 - ETA: 3s - loss: 1.194 - ETA: 3s - loss: 1.194 - ETA: 3s - loss: 1.194 - ETA: 3s - loss: 1.194 - ETA: 3s - loss: 1.194 - ETA: 3s - loss: 1.194 - ETA: 3s - loss: 1.194 - ETA: 3s - loss: 1.194 - ETA: 3s - loss: 1.194 - ETA: 3s - loss: 1.194 - ETA: 3s - loss: 1.194 - ETA: 2s - loss: 1.194 - ETA: 2s - loss: 1.194 - ETA: 2s - loss: 1.194 - ETA: 2s - loss: 1.194 - ETA: 2s - loss: 1.194 - ETA: 2s - loss: 1.194 - ETA: 2s - loss: 1.194 - ETA: 2s - loss: 1.194 - ETA: 2s - loss: 1.194 - ETA: 2s - loss: 1.194 - ETA: 2s - loss: 1.194 - ETA: 2s - loss: 1.194 - ETA: 2s - loss: 1.194 - ETA: 2s - loss: 1.194 - ETA: 2s - loss: 1.194 - ETA: 2s - loss: 1.194 - ETA: 2s - loss: 1.194 - ETA: 2s - loss: 1.194 - ETA: 2s - loss: 1.194 - ETA: 1s - loss: 1.194 - ETA: 1s - loss: 1.194 - ETA: 1s - loss: 1.194 - ETA: 1s - loss: 1.193 - ETA: 1s - loss: 1.193 - ETA: 1s - loss: 1.193 - ETA: 1s - loss: 1.193 - ETA: 1s - loss: 1.193 - ETA: 1s - loss: 1.193 - ETA: 1s - loss: 1.193 - ETA: 1s - loss: 1.193 - ETA: 1s - loss: 1.193 - ETA: 1s - loss: 1.193 - ETA: 1s - loss: 1.193 - ETA: 0s - loss: 1.194 - ETA: 0s - loss: 1.193 - ETA: 0s - loss: 1.193 - ETA: 0s - loss: 1.193 - ETA: 0s - loss: 1.194 - ETA: 0s - loss: 1.193 - ETA: 0s - loss: 1.194 - ETA: 0s - loss: 1.194 - ETA: 0s - loss: 1.194 - ETA: 0s - loss: 1.194 - ETA: 0s - loss: 1.194 - ETA: 0s - loss: 1.194 - ETA: 0s - loss: 1.194 - ETA: 0s - loss: 1.194 - 22s 298us/step - loss: 1.1946 - val_loss: 1.2292\n",
      "Epoch 8/20\n",
      "74208/75006 [============================>.] - ETA: 20s - loss: 1.21 - ETA: 15s - loss: 1.18 - ETA: 18s - loss: 1.12 - ETA: 18s - loss: 1.11 - ETA: 17s - loss: 1.12 - ETA: 16s - loss: 1.15 - ETA: 16s - loss: 1.14 - ETA: 16s - loss: 1.14 - ETA: 16s - loss: 1.14 - ETA: 15s - loss: 1.15 - ETA: 16s - loss: 1.15 - ETA: 15s - loss: 1.16 - ETA: 15s - loss: 1.16 - ETA: 15s - loss: 1.16 - ETA: 15s - loss: 1.16 - ETA: 15s - loss: 1.16 - ETA: 15s - loss: 1.15 - ETA: 15s - loss: 1.15 - ETA: 15s - loss: 1.15 - ETA: 15s - loss: 1.15 - ETA: 15s - loss: 1.15 - ETA: 15s - loss: 1.15 - ETA: 14s - loss: 1.15 - ETA: 14s - loss: 1.15 - ETA: 14s - loss: 1.15 - ETA: 14s - loss: 1.15 - ETA: 14s - loss: 1.15 - ETA: 14s - loss: 1.16 - ETA: 14s - loss: 1.16 - ETA: 14s - loss: 1.16 - ETA: 14s - loss: 1.16 - ETA: 14s - loss: 1.16 - ETA: 14s - loss: 1.16 - ETA: 14s - loss: 1.16 - ETA: 14s - loss: 1.16 - ETA: 14s - loss: 1.16 - ETA: 14s - loss: 1.16 - ETA: 14s - loss: 1.16 - ETA: 14s - loss: 1.17 - ETA: 14s - loss: 1.17 - ETA: 14s - loss: 1.17 - ETA: 13s - loss: 1.17 - ETA: 13s - loss: 1.17 - ETA: 13s - loss: 1.17 - ETA: 13s - loss: 1.17 - ETA: 13s - loss: 1.17 - ETA: 13s - loss: 1.17 - ETA: 13s - loss: 1.16 - ETA: 13s - loss: 1.17 - ETA: 13s - loss: 1.17 - ETA: 13s - loss: 1.17 - ETA: 13s - loss: 1.17 - ETA: 13s - loss: 1.17 - ETA: 13s - loss: 1.17 - ETA: 13s - loss: 1.17 - ETA: 13s - loss: 1.17 - ETA: 13s - loss: 1.17 - ETA: 13s - loss: 1.17 - ETA: 13s - loss: 1.17 - ETA: 12s - loss: 1.17 - ETA: 12s - loss: 1.17 - ETA: 12s - loss: 1.17 - ETA: 12s - loss: 1.17 - ETA: 12s - loss: 1.17 - ETA: 12s - loss: 1.17 - ETA: 12s - loss: 1.17 - ETA: 12s - loss: 1.17 - ETA: 12s - loss: 1.17 - ETA: 12s - loss: 1.17 - ETA: 12s - loss: 1.17 - ETA: 12s - loss: 1.17 - ETA: 12s - loss: 1.17 - ETA: 12s - loss: 1.17 - ETA: 12s - loss: 1.17 - ETA: 12s - loss: 1.17 - ETA: 12s - loss: 1.17 - ETA: 12s - loss: 1.17 - ETA: 12s - loss: 1.17 - ETA: 12s - loss: 1.17 - ETA: 12s - loss: 1.17 - ETA: 12s - loss: 1.17 - ETA: 12s - loss: 1.17 - ETA: 12s - loss: 1.17 - ETA: 12s - loss: 1.17 - ETA: 12s - loss: 1.17 - ETA: 12s - loss: 1.17 - ETA: 12s - loss: 1.17 - ETA: 12s - loss: 1.17 - ETA: 12s - loss: 1.17 - ETA: 12s - loss: 1.17 - ETA: 12s - loss: 1.17 - ETA: 12s - loss: 1.17 - ETA: 12s - loss: 1.17 - ETA: 12s - loss: 1.17 - ETA: 12s - loss: 1.17 - ETA: 11s - loss: 1.17 - ETA: 11s - loss: 1.17 - ETA: 11s - loss: 1.17 - ETA: 11s - loss: 1.17 - ETA: 11s - loss: 1.17 - ETA: 11s - loss: 1.17 - ETA: 11s - loss: 1.17 - ETA: 11s - loss: 1.17 - ETA: 11s - loss: 1.17 - ETA: 11s - loss: 1.17 - ETA: 11s - loss: 1.17 - ETA: 11s - loss: 1.17 - ETA: 11s - loss: 1.17 - ETA: 11s - loss: 1.17 - ETA: 11s - loss: 1.17 - ETA: 11s - loss: 1.17 - ETA: 10s - loss: 1.17 - ETA: 10s - loss: 1.17 - ETA: 10s - loss: 1.17 - ETA: 10s - loss: 1.17 - ETA: 10s - loss: 1.17 - ETA: 10s - loss: 1.17 - ETA: 10s - loss: 1.17 - ETA: 10s - loss: 1.17 - ETA: 10s - loss: 1.17 - ETA: 10s - loss: 1.17 - ETA: 10s - loss: 1.17 - ETA: 10s - loss: 1.17 - ETA: 10s - loss: 1.17 - ETA: 10s - loss: 1.17 - ETA: 10s - loss: 1.17 - ETA: 10s - loss: 1.17 - ETA: 10s - loss: 1.17 - ETA: 9s - loss: 1.1766 - ETA: 9s - loss: 1.176 - ETA: 9s - loss: 1.176 - ETA: 9s - loss: 1.175 - ETA: 9s - loss: 1.176 - ETA: 9s - loss: 1.175 - ETA: 9s - loss: 1.175 - ETA: 9s - loss: 1.175 - ETA: 9s - loss: 1.175 - ETA: 9s - loss: 1.175 - ETA: 9s - loss: 1.176 - ETA: 9s - loss: 1.176 - ETA: 9s - loss: 1.176 - ETA: 9s - loss: 1.176 - ETA: 9s - loss: 1.176 - ETA: 9s - loss: 1.176 - ETA: 9s - loss: 1.175 - ETA: 9s - loss: 1.175 - ETA: 9s - loss: 1.175 - ETA: 9s - loss: 1.176 - ETA: 9s - loss: 1.175 - ETA: 9s - loss: 1.175 - ETA: 9s - loss: 1.175 - ETA: 9s - loss: 1.175 - ETA: 9s - loss: 1.176 - ETA: 9s - loss: 1.176 - ETA: 9s - loss: 1.176 - ETA: 9s - loss: 1.176 - ETA: 9s - loss: 1.176 - ETA: 9s - loss: 1.176 - ETA: 9s - loss: 1.176 - ETA: 9s - loss: 1.175 - ETA: 9s - loss: 1.176 - ETA: 8s - loss: 1.176 - ETA: 8s - loss: 1.176 - ETA: 8s - loss: 1.175 - ETA: 8s - loss: 1.175 - ETA: 8s - loss: 1.176 - ETA: 8s - loss: 1.176 - ETA: 8s - loss: 1.176 - ETA: 8s - loss: 1.176 - ETA: 8s - loss: 1.176 - ETA: 8s - loss: 1.176 - ETA: 8s - loss: 1.176 - ETA: 8s - loss: 1.176 - ETA: 8s - loss: 1.176 - ETA: 8s - loss: 1.176 - ETA: 8s - loss: 1.176 - ETA: 8s - loss: 1.176 - ETA: 8s - loss: 1.176 - ETA: 8s - loss: 1.176 - ETA: 8s - loss: 1.176 - ETA: 8s - loss: 1.176 - ETA: 8s - loss: 1.176 - ETA: 8s - loss: 1.176 - ETA: 8s - loss: 1.176 - ETA: 8s - loss: 1.176 - ETA: 8s - loss: 1.177 - ETA: 8s - loss: 1.177 - ETA: 8s - loss: 1.177 - ETA: 8s - loss: 1.176 - ETA: 8s - loss: 1.177 - ETA: 7s - loss: 1.177 - ETA: 7s - loss: 1.177 - ETA: 7s - loss: 1.177 - ETA: 7s - loss: 1.177 - ETA: 7s - loss: 1.177 - ETA: 7s - loss: 1.177 - ETA: 7s - loss: 1.176 - ETA: 7s - loss: 1.176 - ETA: 7s - loss: 1.176 - ETA: 7s - loss: 1.177 - ETA: 7s - loss: 1.177 - ETA: 7s - loss: 1.177 - ETA: 7s - loss: 1.177 - ETA: 7s - loss: 1.177 - ETA: 7s - loss: 1.177 - ETA: 7s - loss: 1.177 - ETA: 7s - loss: 1.177 - ETA: 7s - loss: 1.177 - ETA: 7s - loss: 1.177 - ETA: 7s - loss: 1.177 - ETA: 7s - loss: 1.177 - ETA: 7s - loss: 1.178 - ETA: 7s - loss: 1.178 - ETA: 7s - loss: 1.178 - ETA: 7s - loss: 1.178 - ETA: 6s - loss: 1.178 - ETA: 6s - loss: 1.178 - ETA: 6s - loss: 1.177 - ETA: 6s - loss: 1.178 - ETA: 6s - loss: 1.178 - ETA: 6s - loss: 1.178 - ETA: 6s - loss: 1.178 - ETA: 6s - loss: 1.178 - ETA: 6s - loss: 1.178 - ETA: 6s - loss: 1.178 - ETA: 6s - loss: 1.178 - ETA: 6s - loss: 1.178 - ETA: 6s - loss: 1.179 - ETA: 6s - loss: 1.179 - ETA: 6s - loss: 1.179 - ETA: 6s - loss: 1.179 - ETA: 6s - loss: 1.179 - ETA: 6s - loss: 1.179 - ETA: 5s - loss: 1.179 - ETA: 5s - loss: 1.179 - ETA: 5s - loss: 1.179 - ETA: 5s - loss: 1.180 - ETA: 5s - loss: 1.180 - ETA: 5s - loss: 1.180 - ETA: 5s - loss: 1.179 - ETA: 5s - loss: 1.179 - ETA: 5s - loss: 1.180 - ETA: 5s - loss: 1.180 - ETA: 5s - loss: 1.180 - ETA: 5s - loss: 1.180 - ETA: 5s - loss: 1.180 - ETA: 5s - loss: 1.181 - ETA: 5s - loss: 1.181 - ETA: 5s - loss: 1.181 - ETA: 5s - loss: 1.180 - ETA: 5s - loss: 1.181 - ETA: 4s - loss: 1.181 - ETA: 4s - loss: 1.181 - ETA: 4s - loss: 1.181 - ETA: 4s - loss: 1.181 - ETA: 4s - loss: 1.181 - ETA: 4s - loss: 1.181 - ETA: 4s - loss: 1.181 - ETA: 4s - loss: 1.181 - ETA: 4s - loss: 1.181 - ETA: 4s - loss: 1.181 - ETA: 4s - loss: 1.182 - ETA: 4s - loss: 1.182 - ETA: 4s - loss: 1.182 - ETA: 4s - loss: 1.182 - ETA: 4s - loss: 1.182 - ETA: 4s - loss: 1.182 - ETA: 3s - loss: 1.182 - ETA: 3s - loss: 1.182 - ETA: 3s - loss: 1.182 - ETA: 3s - loss: 1.182 - ETA: 3s - loss: 1.182 - ETA: 3s - loss: 1.182 - ETA: 3s - loss: 1.182 - ETA: 3s - loss: 1.181 - ETA: 3s - loss: 1.181 - ETA: 3s - loss: 1.181 - ETA: 3s - loss: 1.181 - ETA: 3s - loss: 1.182 - ETA: 3s - loss: 1.182 - ETA: 3s - loss: 1.182 - ETA: 3s - loss: 1.182 - ETA: 3s - loss: 1.182 - ETA: 3s - loss: 1.182 - ETA: 3s - loss: 1.182 - ETA: 2s - loss: 1.182 - ETA: 2s - loss: 1.182 - ETA: 2s - loss: 1.182 - ETA: 2s - loss: 1.181 - ETA: 2s - loss: 1.181 - ETA: 2s - loss: 1.182 - ETA: 2s - loss: 1.182 - ETA: 2s - loss: 1.182 - ETA: 2s - loss: 1.182 - ETA: 2s - loss: 1.182 - ETA: 2s - loss: 1.182 - ETA: 2s - loss: 1.182 - ETA: 2s - loss: 1.181 - ETA: 2s - loss: 1.182 - ETA: 2s - loss: 1.182 - ETA: 2s - loss: 1.182 - ETA: 2s - loss: 1.182 - ETA: 2s - loss: 1.182 - ETA: 2s - loss: 1.182 - ETA: 1s - loss: 1.183 - ETA: 1s - loss: 1.183 - ETA: 1s - loss: 1.183 - ETA: 1s - loss: 1.183 - ETA: 1s - loss: 1.183 - ETA: 1s - loss: 1.183 - ETA: 1s - loss: 1.183 - ETA: 1s - loss: 1.183 - ETA: 1s - loss: 1.183 - ETA: 1s - loss: 1.183 - ETA: 1s - loss: 1.183 - ETA: 1s - loss: 1.183 - ETA: 1s - loss: 1.183 - ETA: 1s - loss: 1.183 - ETA: 1s - loss: 1.183 - ETA: 1s - loss: 1.183 - ETA: 1s - loss: 1.183 - ETA: 1s - loss: 1.183 - ETA: 1s - loss: 1.183 - ETA: 0s - loss: 1.183 - ETA: 0s - loss: 1.183 - ETA: 0s - loss: 1.183 - ETA: 0s - loss: 1.183 - ETA: 0s - loss: 1.183 - ETA: 0s - loss: 1.184 - ETA: 0s - loss: 1.184 - ETA: 0s - loss: 1.183 - ETA: 0s - loss: 1.183 - ETA: 0s - loss: 1.183 - ETA: 0s - loss: 1.183 - ETA: 0s - loss: 1.183 - ETA: 0s - loss: 1.183 - ETA: 0s - loss: 1.184 - ETA: 0s - loss: 1.184 - ETA: 0s - loss: 1.184 - ETA: 0s - loss: 1.184175006/75006 [==============================] - ETA: 0s - loss: 1.184 - ETA: 0s - loss: 1.184 - ETA: 0s - loss: 1.184 - 19s 257us/step - loss: 1.1843 - val_loss: 1.2281\n",
      "Epoch 9/20\n",
      "75006/75006 [==============================] - ETA: 30s - loss: 1.31 - ETA: 20s - loss: 1.08 - ETA: 19s - loss: 1.14 - ETA: 19s - loss: 1.15 - ETA: 18s - loss: 1.15 - ETA: 18s - loss: 1.14 - ETA: 18s - loss: 1.14 - ETA: 17s - loss: 1.13 - ETA: 17s - loss: 1.13 - ETA: 17s - loss: 1.14 - ETA: 17s - loss: 1.13 - ETA: 17s - loss: 1.14 - ETA: 16s - loss: 1.13 - ETA: 16s - loss: 1.14 - ETA: 16s - loss: 1.14 - ETA: 16s - loss: 1.13 - ETA: 16s - loss: 1.14 - ETA: 16s - loss: 1.13 - ETA: 16s - loss: 1.13 - ETA: 16s - loss: 1.13 - ETA: 16s - loss: 1.13 - ETA: 16s - loss: 1.14 - ETA: 16s - loss: 1.14 - ETA: 16s - loss: 1.14 - ETA: 15s - loss: 1.14 - ETA: 15s - loss: 1.14 - ETA: 15s - loss: 1.13 - ETA: 15s - loss: 1.13 - ETA: 15s - loss: 1.13 - ETA: 15s - loss: 1.13 - ETA: 15s - loss: 1.13 - ETA: 15s - loss: 1.13 - ETA: 15s - loss: 1.14 - ETA: 15s - loss: 1.13 - ETA: 15s - loss: 1.13 - ETA: 15s - loss: 1.13 - ETA: 15s - loss: 1.13 - ETA: 15s - loss: 1.13 - ETA: 15s - loss: 1.14 - ETA: 15s - loss: 1.14 - ETA: 15s - loss: 1.14 - ETA: 15s - loss: 1.14 - ETA: 15s - loss: 1.14 - ETA: 15s - loss: 1.14 - ETA: 15s - loss: 1.14 - ETA: 15s - loss: 1.14 - ETA: 15s - loss: 1.14 - ETA: 15s - loss: 1.14 - ETA: 15s - loss: 1.14 - ETA: 14s - loss: 1.14 - ETA: 14s - loss: 1.14 - ETA: 14s - loss: 1.14 - ETA: 14s - loss: 1.14 - ETA: 14s - loss: 1.14 - ETA: 14s - loss: 1.14 - ETA: 14s - loss: 1.14 - ETA: 14s - loss: 1.14 - ETA: 14s - loss: 1.14 - ETA: 14s - loss: 1.14 - ETA: 14s - loss: 1.14 - ETA: 14s - loss: 1.15 - ETA: 14s - loss: 1.15 - ETA: 14s - loss: 1.15 - ETA: 14s - loss: 1.15 - ETA: 14s - loss: 1.14 - ETA: 14s - loss: 1.15 - ETA: 13s - loss: 1.14 - ETA: 13s - loss: 1.15 - ETA: 13s - loss: 1.14 - ETA: 13s - loss: 1.15 - ETA: 13s - loss: 1.15 - ETA: 13s - loss: 1.15 - ETA: 13s - loss: 1.15 - ETA: 13s - loss: 1.15 - ETA: 13s - loss: 1.15 - ETA: 13s - loss: 1.15 - ETA: 13s - loss: 1.15 - ETA: 13s - loss: 1.15 - ETA: 13s - loss: 1.15 - ETA: 13s - loss: 1.15 - ETA: 13s - loss: 1.15 - ETA: 13s - loss: 1.15 - ETA: 13s - loss: 1.15 - ETA: 13s - loss: 1.15 - ETA: 13s - loss: 1.15 - ETA: 13s - loss: 1.15 - ETA: 13s - loss: 1.15 - ETA: 12s - loss: 1.15 - ETA: 12s - loss: 1.15 - ETA: 12s - loss: 1.15 - ETA: 12s - loss: 1.15 - ETA: 12s - loss: 1.15 - ETA: 12s - loss: 1.15 - ETA: 12s - loss: 1.15 - ETA: 12s - loss: 1.15 - ETA: 12s - loss: 1.15 - ETA: 12s - loss: 1.15 - ETA: 12s - loss: 1.15 - ETA: 12s - loss: 1.15 - ETA: 12s - loss: 1.15 - ETA: 12s - loss: 1.15 - ETA: 12s - loss: 1.15 - ETA: 12s - loss: 1.15 - ETA: 12s - loss: 1.15 - ETA: 12s - loss: 1.16 - ETA: 12s - loss: 1.15 - ETA: 12s - loss: 1.16 - ETA: 12s - loss: 1.15 - ETA: 12s - loss: 1.15 - ETA: 12s - loss: 1.16 - ETA: 12s - loss: 1.16 - ETA: 12s - loss: 1.16 - ETA: 12s - loss: 1.16 - ETA: 12s - loss: 1.16 - ETA: 12s - loss: 1.16 - ETA: 12s - loss: 1.16 - ETA: 12s - loss: 1.16 - ETA: 12s - loss: 1.16 - ETA: 11s - loss: 1.16 - ETA: 11s - loss: 1.16 - ETA: 11s - loss: 1.16 - ETA: 11s - loss: 1.16 - ETA: 11s - loss: 1.16 - ETA: 11s - loss: 1.16 - ETA: 11s - loss: 1.16 - ETA: 11s - loss: 1.16 - ETA: 11s - loss: 1.16 - ETA: 11s - loss: 1.16 - ETA: 11s - loss: 1.16 - ETA: 11s - loss: 1.16 - ETA: 11s - loss: 1.16 - ETA: 11s - loss: 1.16 - ETA: 11s - loss: 1.16 - ETA: 11s - loss: 1.16 - ETA: 11s - loss: 1.16 - ETA: 11s - loss: 1.16 - ETA: 11s - loss: 1.16 - ETA: 11s - loss: 1.16 - ETA: 11s - loss: 1.16 - ETA: 11s - loss: 1.16 - ETA: 11s - loss: 1.16 - ETA: 11s - loss: 1.16 - ETA: 11s - loss: 1.16 - ETA: 10s - loss: 1.16 - ETA: 10s - loss: 1.16 - ETA: 10s - loss: 1.16 - ETA: 10s - loss: 1.16 - ETA: 10s - loss: 1.16 - ETA: 10s - loss: 1.16 - ETA: 10s - loss: 1.16 - ETA: 10s - loss: 1.16 - ETA: 10s - loss: 1.16 - ETA: 10s - loss: 1.16 - ETA: 10s - loss: 1.16 - ETA: 10s - loss: 1.16 - ETA: 10s - loss: 1.16 - ETA: 10s - loss: 1.16 - ETA: 10s - loss: 1.16 - ETA: 10s - loss: 1.16 - ETA: 10s - loss: 1.16 - ETA: 10s - loss: 1.16 - ETA: 10s - loss: 1.16 - ETA: 10s - loss: 1.16 - ETA: 10s - loss: 1.16 - ETA: 10s - loss: 1.16 - ETA: 10s - loss: 1.16 - ETA: 10s - loss: 1.16 - ETA: 9s - loss: 1.1676 - ETA: 9s - loss: 1.167 - ETA: 9s - loss: 1.167 - ETA: 9s - loss: 1.167 - ETA: 9s - loss: 1.167 - ETA: 9s - loss: 1.166 - ETA: 9s - loss: 1.167 - ETA: 9s - loss: 1.166 - ETA: 9s - loss: 1.166 - ETA: 9s - loss: 1.166 - ETA: 9s - loss: 1.166 - ETA: 9s - loss: 1.166 - ETA: 9s - loss: 1.167 - ETA: 9s - loss: 1.166 - ETA: 9s - loss: 1.166 - ETA: 9s - loss: 1.166 - ETA: 9s - loss: 1.166 - ETA: 9s - loss: 1.166 - ETA: 9s - loss: 1.166 - ETA: 8s - loss: 1.166 - ETA: 8s - loss: 1.165 - ETA: 8s - loss: 1.165 - ETA: 8s - loss: 1.166 - ETA: 8s - loss: 1.166 - ETA: 8s - loss: 1.165 - ETA: 8s - loss: 1.165 - ETA: 8s - loss: 1.165 - ETA: 8s - loss: 1.165 - ETA: 8s - loss: 1.165 - ETA: 8s - loss: 1.165 - ETA: 8s - loss: 1.165 - ETA: 8s - loss: 1.165 - ETA: 8s - loss: 1.166 - ETA: 8s - loss: 1.166 - ETA: 8s - loss: 1.165 - ETA: 8s - loss: 1.166 - ETA: 8s - loss: 1.167 - ETA: 7s - loss: 1.166 - ETA: 7s - loss: 1.167 - ETA: 7s - loss: 1.167 - ETA: 7s - loss: 1.167 - ETA: 7s - loss: 1.167 - ETA: 7s - loss: 1.167 - ETA: 7s - loss: 1.168 - ETA: 7s - loss: 1.168 - ETA: 7s - loss: 1.168 - ETA: 7s - loss: 1.168 - ETA: 7s - loss: 1.168 - ETA: 7s - loss: 1.168 - ETA: 7s - loss: 1.169 - ETA: 7s - loss: 1.169 - ETA: 6s - loss: 1.169 - ETA: 6s - loss: 1.169 - ETA: 6s - loss: 1.169 - ETA: 6s - loss: 1.169 - ETA: 6s - loss: 1.169 - ETA: 6s - loss: 1.169 - ETA: 6s - loss: 1.170 - ETA: 6s - loss: 1.170 - ETA: 6s - loss: 1.170 - ETA: 6s - loss: 1.170 - ETA: 6s - loss: 1.170 - ETA: 6s - loss: 1.171 - ETA: 6s - loss: 1.170 - ETA: 6s - loss: 1.170 - ETA: 6s - loss: 1.170 - ETA: 6s - loss: 1.170 - ETA: 6s - loss: 1.170 - ETA: 5s - loss: 1.170 - ETA: 5s - loss: 1.170 - ETA: 5s - loss: 1.170 - ETA: 5s - loss: 1.170 - ETA: 5s - loss: 1.171 - ETA: 5s - loss: 1.170 - ETA: 5s - loss: 1.170 - ETA: 5s - loss: 1.170 - ETA: 5s - loss: 1.170 - ETA: 5s - loss: 1.170 - ETA: 5s - loss: 1.171 - ETA: 5s - loss: 1.171 - ETA: 5s - loss: 1.171 - ETA: 5s - loss: 1.171 - ETA: 5s - loss: 1.171 - ETA: 5s - loss: 1.171 - ETA: 4s - loss: 1.171 - ETA: 4s - loss: 1.171 - ETA: 4s - loss: 1.171 - ETA: 4s - loss: 1.171 - ETA: 4s - loss: 1.171 - ETA: 4s - loss: 1.171 - ETA: 4s - loss: 1.171 - ETA: 4s - loss: 1.171 - ETA: 4s - loss: 1.171 - ETA: 4s - loss: 1.171 - ETA: 4s - loss: 1.171 - ETA: 4s - loss: 1.171 - ETA: 4s - loss: 1.171 - ETA: 4s - loss: 1.171 - ETA: 4s - loss: 1.171 - ETA: 3s - loss: 1.171 - ETA: 3s - loss: 1.172 - ETA: 3s - loss: 1.172 - ETA: 3s - loss: 1.172 - ETA: 3s - loss: 1.172 - ETA: 3s - loss: 1.172 - ETA: 3s - loss: 1.173 - ETA: 3s - loss: 1.173 - ETA: 3s - loss: 1.173 - ETA: 3s - loss: 1.173 - ETA: 3s - loss: 1.173 - ETA: 3s - loss: 1.173 - ETA: 3s - loss: 1.173 - ETA: 3s - loss: 1.173 - ETA: 3s - loss: 1.173 - ETA: 2s - loss: 1.173 - ETA: 2s - loss: 1.173 - ETA: 2s - loss: 1.173 - ETA: 2s - loss: 1.173 - ETA: 2s - loss: 1.173 - ETA: 2s - loss: 1.173 - ETA: 2s - loss: 1.173 - ETA: 2s - loss: 1.174 - ETA: 2s - loss: 1.174 - ETA: 2s - loss: 1.174 - ETA: 2s - loss: 1.174 - ETA: 2s - loss: 1.174 - ETA: 2s - loss: 1.174 - ETA: 2s - loss: 1.174 - ETA: 2s - loss: 1.173 - ETA: 2s - loss: 1.174 - ETA: 1s - loss: 1.174 - ETA: 1s - loss: 1.174 - ETA: 1s - loss: 1.174 - ETA: 1s - loss: 1.174 - ETA: 1s - loss: 1.175 - ETA: 1s - loss: 1.174 - ETA: 1s - loss: 1.174 - ETA: 1s - loss: 1.174 - ETA: 1s - loss: 1.174 - ETA: 1s - loss: 1.174 - ETA: 1s - loss: 1.174 - ETA: 1s - loss: 1.175 - ETA: 1s - loss: 1.175 - ETA: 1s - loss: 1.175 - ETA: 1s - loss: 1.175 - ETA: 0s - loss: 1.175 - ETA: 0s - loss: 1.175 - ETA: 0s - loss: 1.174 - ETA: 0s - loss: 1.174 - ETA: 0s - loss: 1.174 - ETA: 0s - loss: 1.174 - ETA: 0s - loss: 1.174 - ETA: 0s - loss: 1.174 - ETA: 0s - loss: 1.174 - ETA: 0s - loss: 1.175 - ETA: 0s - loss: 1.175 - ETA: 0s - loss: 1.175 - ETA: 0s - loss: 1.175 - ETA: 0s - loss: 1.175 - ETA: 0s - loss: 1.175 - ETA: 0s - loss: 1.174 - 18s 240us/step - loss: 1.1746 - val_loss: 1.2365\n",
      "Epoch 10/20\n"
     ]
    },
    {
     "name": "stdout",
     "output_type": "stream",
     "text": [
      "75006/75006 [==============================] - ETA: 20s - loss: 1.01 - ETA: 14s - loss: 1.15 - ETA: 14s - loss: 1.15 - ETA: 13s - loss: 1.17 - ETA: 15s - loss: 1.17 - ETA: 14s - loss: 1.16 - ETA: 14s - loss: 1.16 - ETA: 14s - loss: 1.16 - ETA: 14s - loss: 1.15 - ETA: 13s - loss: 1.16 - ETA: 13s - loss: 1.16 - ETA: 13s - loss: 1.16 - ETA: 13s - loss: 1.16 - ETA: 13s - loss: 1.16 - ETA: 13s - loss: 1.15 - ETA: 13s - loss: 1.15 - ETA: 13s - loss: 1.15 - ETA: 13s - loss: 1.15 - ETA: 13s - loss: 1.15 - ETA: 13s - loss: 1.15 - ETA: 13s - loss: 1.15 - ETA: 13s - loss: 1.15 - ETA: 13s - loss: 1.15 - ETA: 13s - loss: 1.15 - ETA: 13s - loss: 1.15 - ETA: 12s - loss: 1.15 - ETA: 12s - loss: 1.15 - ETA: 12s - loss: 1.15 - ETA: 12s - loss: 1.15 - ETA: 12s - loss: 1.15 - ETA: 12s - loss: 1.15 - ETA: 12s - loss: 1.15 - ETA: 12s - loss: 1.15 - ETA: 12s - loss: 1.15 - ETA: 12s - loss: 1.15 - ETA: 12s - loss: 1.15 - ETA: 12s - loss: 1.15 - ETA: 12s - loss: 1.15 - ETA: 12s - loss: 1.15 - ETA: 12s - loss: 1.15 - ETA: 12s - loss: 1.15 - ETA: 12s - loss: 1.15 - ETA: 12s - loss: 1.15 - ETA: 12s - loss: 1.15 - ETA: 12s - loss: 1.15 - ETA: 12s - loss: 1.15 - ETA: 12s - loss: 1.15 - ETA: 12s - loss: 1.15 - ETA: 12s - loss: 1.15 - ETA: 12s - loss: 1.15 - ETA: 12s - loss: 1.15 - ETA: 12s - loss: 1.15 - ETA: 12s - loss: 1.15 - ETA: 12s - loss: 1.15 - ETA: 12s - loss: 1.15 - ETA: 12s - loss: 1.15 - ETA: 12s - loss: 1.15 - ETA: 12s - loss: 1.15 - ETA: 12s - loss: 1.15 - ETA: 12s - loss: 1.15 - ETA: 12s - loss: 1.15 - ETA: 12s - loss: 1.15 - ETA: 12s - loss: 1.15 - ETA: 12s - loss: 1.15 - ETA: 12s - loss: 1.15 - ETA: 11s - loss: 1.15 - ETA: 11s - loss: 1.15 - ETA: 11s - loss: 1.15 - ETA: 11s - loss: 1.15 - ETA: 11s - loss: 1.15 - ETA: 11s - loss: 1.15 - ETA: 11s - loss: 1.15 - ETA: 11s - loss: 1.15 - ETA: 11s - loss: 1.15 - ETA: 11s - loss: 1.15 - ETA: 11s - loss: 1.15 - ETA: 11s - loss: 1.15 - ETA: 11s - loss: 1.15 - ETA: 11s - loss: 1.15 - ETA: 11s - loss: 1.15 - ETA: 11s - loss: 1.15 - ETA: 11s - loss: 1.15 - ETA: 11s - loss: 1.15 - ETA: 11s - loss: 1.15 - ETA: 11s - loss: 1.15 - ETA: 11s - loss: 1.15 - ETA: 11s - loss: 1.15 - ETA: 11s - loss: 1.15 - ETA: 11s - loss: 1.15 - ETA: 11s - loss: 1.15 - ETA: 11s - loss: 1.15 - ETA: 10s - loss: 1.15 - ETA: 10s - loss: 1.15 - ETA: 10s - loss: 1.15 - ETA: 10s - loss: 1.15 - ETA: 10s - loss: 1.15 - ETA: 10s - loss: 1.15 - ETA: 10s - loss: 1.15 - ETA: 10s - loss: 1.15 - ETA: 10s - loss: 1.15 - ETA: 10s - loss: 1.15 - ETA: 10s - loss: 1.15 - ETA: 10s - loss: 1.15 - ETA: 10s - loss: 1.15 - ETA: 10s - loss: 1.15 - ETA: 10s - loss: 1.15 - ETA: 10s - loss: 1.16 - ETA: 10s - loss: 1.16 - ETA: 10s - loss: 1.16 - ETA: 10s - loss: 1.16 - ETA: 10s - loss: 1.16 - ETA: 10s - loss: 1.16 - ETA: 10s - loss: 1.16 - ETA: 10s - loss: 1.16 - ETA: 10s - loss: 1.15 - ETA: 10s - loss: 1.16 - ETA: 10s - loss: 1.15 - ETA: 9s - loss: 1.1600 - ETA: 9s - loss: 1.160 - ETA: 9s - loss: 1.160 - ETA: 9s - loss: 1.160 - ETA: 9s - loss: 1.160 - ETA: 9s - loss: 1.160 - ETA: 9s - loss: 1.160 - ETA: 9s - loss: 1.160 - ETA: 9s - loss: 1.160 - ETA: 9s - loss: 1.160 - ETA: 9s - loss: 1.160 - ETA: 9s - loss: 1.160 - ETA: 9s - loss: 1.161 - ETA: 9s - loss: 1.161 - ETA: 9s - loss: 1.161 - ETA: 9s - loss: 1.160 - ETA: 9s - loss: 1.160 - ETA: 9s - loss: 1.160 - ETA: 9s - loss: 1.160 - ETA: 9s - loss: 1.161 - ETA: 9s - loss: 1.161 - ETA: 9s - loss: 1.161 - ETA: 9s - loss: 1.161 - ETA: 9s - loss: 1.161 - ETA: 9s - loss: 1.161 - ETA: 9s - loss: 1.161 - ETA: 9s - loss: 1.161 - ETA: 9s - loss: 1.162 - ETA: 8s - loss: 1.162 - ETA: 8s - loss: 1.162 - ETA: 8s - loss: 1.162 - ETA: 8s - loss: 1.162 - ETA: 8s - loss: 1.161 - ETA: 8s - loss: 1.161 - ETA: 8s - loss: 1.161 - ETA: 8s - loss: 1.162 - ETA: 8s - loss: 1.162 - ETA: 8s - loss: 1.163 - ETA: 8s - loss: 1.163 - ETA: 8s - loss: 1.163 - ETA: 8s - loss: 1.162 - ETA: 8s - loss: 1.162 - ETA: 8s - loss: 1.162 - ETA: 8s - loss: 1.162 - ETA: 8s - loss: 1.162 - ETA: 8s - loss: 1.162 - ETA: 8s - loss: 1.163 - ETA: 8s - loss: 1.163 - ETA: 8s - loss: 1.163 - ETA: 8s - loss: 1.162 - ETA: 8s - loss: 1.163 - ETA: 8s - loss: 1.163 - ETA: 8s - loss: 1.163 - ETA: 8s - loss: 1.163 - ETA: 8s - loss: 1.163 - ETA: 8s - loss: 1.163 - ETA: 8s - loss: 1.162 - ETA: 7s - loss: 1.163 - ETA: 7s - loss: 1.162 - ETA: 7s - loss: 1.162 - ETA: 7s - loss: 1.162 - ETA: 7s - loss: 1.163 - ETA: 7s - loss: 1.163 - ETA: 7s - loss: 1.163 - ETA: 7s - loss: 1.163 - ETA: 7s - loss: 1.163 - ETA: 7s - loss: 1.163 - ETA: 7s - loss: 1.163 - ETA: 7s - loss: 1.163 - ETA: 7s - loss: 1.163 - ETA: 7s - loss: 1.163 - ETA: 7s - loss: 1.163 - ETA: 7s - loss: 1.164 - ETA: 7s - loss: 1.163 - ETA: 7s - loss: 1.163 - ETA: 6s - loss: 1.163 - ETA: 6s - loss: 1.164 - ETA: 6s - loss: 1.164 - ETA: 6s - loss: 1.164 - ETA: 6s - loss: 1.164 - ETA: 6s - loss: 1.165 - ETA: 6s - loss: 1.165 - ETA: 6s - loss: 1.165 - ETA: 6s - loss: 1.165 - ETA: 6s - loss: 1.165 - ETA: 6s - loss: 1.165 - ETA: 6s - loss: 1.165 - ETA: 6s - loss: 1.165 - ETA: 6s - loss: 1.164 - ETA: 6s - loss: 1.164 - ETA: 6s - loss: 1.165 - ETA: 6s - loss: 1.165 - ETA: 5s - loss: 1.165 - ETA: 5s - loss: 1.165 - ETA: 5s - loss: 1.165 - ETA: 5s - loss: 1.165 - ETA: 5s - loss: 1.165 - ETA: 5s - loss: 1.166 - ETA: 5s - loss: 1.166 - ETA: 5s - loss: 1.166 - ETA: 5s - loss: 1.166 - ETA: 5s - loss: 1.166 - ETA: 5s - loss: 1.166 - ETA: 5s - loss: 1.166 - ETA: 5s - loss: 1.166 - ETA: 5s - loss: 1.166 - ETA: 5s - loss: 1.166 - ETA: 5s - loss: 1.166 - ETA: 4s - loss: 1.167 - ETA: 4s - loss: 1.167 - ETA: 4s - loss: 1.167 - ETA: 4s - loss: 1.167 - ETA: 4s - loss: 1.167 - ETA: 4s - loss: 1.167 - ETA: 4s - loss: 1.167 - ETA: 4s - loss: 1.168 - ETA: 4s - loss: 1.168 - ETA: 4s - loss: 1.168 - ETA: 4s - loss: 1.168 - ETA: 4s - loss: 1.168 - ETA: 4s - loss: 1.168 - ETA: 4s - loss: 1.168 - ETA: 4s - loss: 1.169 - ETA: 4s - loss: 1.169 - ETA: 4s - loss: 1.168 - ETA: 3s - loss: 1.168 - ETA: 3s - loss: 1.168 - ETA: 3s - loss: 1.169 - ETA: 3s - loss: 1.169 - ETA: 3s - loss: 1.169 - ETA: 3s - loss: 1.169 - ETA: 3s - loss: 1.168 - ETA: 3s - loss: 1.169 - ETA: 3s - loss: 1.169 - ETA: 3s - loss: 1.169 - ETA: 3s - loss: 1.169 - ETA: 3s - loss: 1.169 - ETA: 3s - loss: 1.169 - ETA: 3s - loss: 1.169 - ETA: 3s - loss: 1.169 - ETA: 3s - loss: 1.169 - ETA: 3s - loss: 1.169 - ETA: 3s - loss: 1.169 - ETA: 2s - loss: 1.169 - ETA: 2s - loss: 1.169 - ETA: 2s - loss: 1.169 - ETA: 2s - loss: 1.169 - ETA: 2s - loss: 1.168 - ETA: 2s - loss: 1.168 - ETA: 2s - loss: 1.168 - ETA: 2s - loss: 1.169 - ETA: 2s - loss: 1.169 - ETA: 2s - loss: 1.169 - ETA: 2s - loss: 1.169 - ETA: 2s - loss: 1.169 - ETA: 2s - loss: 1.169 - ETA: 2s - loss: 1.169 - ETA: 2s - loss: 1.168 - ETA: 2s - loss: 1.168 - ETA: 2s - loss: 1.168 - ETA: 2s - loss: 1.168 - ETA: 2s - loss: 1.168 - ETA: 2s - loss: 1.168 - ETA: 1s - loss: 1.168 - ETA: 1s - loss: 1.168 - ETA: 1s - loss: 1.169 - ETA: 1s - loss: 1.169 - ETA: 1s - loss: 1.168 - ETA: 1s - loss: 1.168 - ETA: 1s - loss: 1.168 - ETA: 1s - loss: 1.168 - ETA: 1s - loss: 1.168 - ETA: 1s - loss: 1.168 - ETA: 1s - loss: 1.168 - ETA: 1s - loss: 1.168 - ETA: 1s - loss: 1.168 - ETA: 1s - loss: 1.168 - ETA: 1s - loss: 1.168 - ETA: 1s - loss: 1.168 - ETA: 1s - loss: 1.169 - ETA: 0s - loss: 1.168 - ETA: 0s - loss: 1.168 - ETA: 0s - loss: 1.168 - ETA: 0s - loss: 1.168 - ETA: 0s - loss: 1.168 - ETA: 0s - loss: 1.168 - ETA: 0s - loss: 1.168 - ETA: 0s - loss: 1.168 - ETA: 0s - loss: 1.168 - ETA: 0s - loss: 1.168 - ETA: 0s - loss: 1.168 - ETA: 0s - loss: 1.168 - ETA: 0s - loss: 1.168 - ETA: 0s - loss: 1.168 - ETA: 0s - loss: 1.168 - ETA: 0s - loss: 1.168 - ETA: 0s - loss: 1.168 - 17s 230us/step - loss: 1.1684 - val_loss: 1.2320\n",
      "Epoch 11/20\n",
      "75006/75006 [==============================] - ETA: 21s - loss: 1.26 - ETA: 16s - loss: 1.12 - ETA: 15s - loss: 1.11 - ETA: 15s - loss: 1.10 - ETA: 15s - loss: 1.13 - ETA: 14s - loss: 1.12 - ETA: 14s - loss: 1.12 - ETA: 15s - loss: 1.12 - ETA: 15s - loss: 1.12 - ETA: 15s - loss: 1.12 - ETA: 15s - loss: 1.12 - ETA: 14s - loss: 1.13 - ETA: 14s - loss: 1.14 - ETA: 14s - loss: 1.14 - ETA: 14s - loss: 1.14 - ETA: 14s - loss: 1.14 - ETA: 14s - loss: 1.13 - ETA: 14s - loss: 1.14 - ETA: 14s - loss: 1.14 - ETA: 14s - loss: 1.14 - ETA: 14s - loss: 1.14 - ETA: 14s - loss: 1.14 - ETA: 14s - loss: 1.14 - ETA: 14s - loss: 1.14 - ETA: 13s - loss: 1.14 - ETA: 13s - loss: 1.14 - ETA: 13s - loss: 1.14 - ETA: 14s - loss: 1.14 - ETA: 14s - loss: 1.14 - ETA: 14s - loss: 1.14 - ETA: 14s - loss: 1.14 - ETA: 14s - loss: 1.14 - ETA: 14s - loss: 1.14 - ETA: 14s - loss: 1.14 - ETA: 14s - loss: 1.14 - ETA: 14s - loss: 1.14 - ETA: 14s - loss: 1.14 - ETA: 14s - loss: 1.14 - ETA: 14s - loss: 1.14 - ETA: 14s - loss: 1.14 - ETA: 14s - loss: 1.14 - ETA: 13s - loss: 1.14 - ETA: 13s - loss: 1.14 - ETA: 13s - loss: 1.14 - ETA: 13s - loss: 1.14 - ETA: 13s - loss: 1.14 - ETA: 13s - loss: 1.14 - ETA: 13s - loss: 1.14 - ETA: 13s - loss: 1.14 - ETA: 13s - loss: 1.14 - ETA: 12s - loss: 1.14 - ETA: 12s - loss: 1.14 - ETA: 12s - loss: 1.14 - ETA: 12s - loss: 1.14 - ETA: 12s - loss: 1.14 - ETA: 12s - loss: 1.14 - ETA: 12s - loss: 1.14 - ETA: 12s - loss: 1.14 - ETA: 12s - loss: 1.14 - ETA: 12s - loss: 1.14 - ETA: 11s - loss: 1.14 - ETA: 11s - loss: 1.14 - ETA: 11s - loss: 1.14 - ETA: 11s - loss: 1.14 - ETA: 11s - loss: 1.14 - ETA: 11s - loss: 1.14 - ETA: 11s - loss: 1.14 - ETA: 11s - loss: 1.14 - ETA: 11s - loss: 1.14 - ETA: 11s - loss: 1.14 - ETA: 11s - loss: 1.14 - ETA: 11s - loss: 1.14 - ETA: 11s - loss: 1.14 - ETA: 11s - loss: 1.14 - ETA: 11s - loss: 1.14 - ETA: 11s - loss: 1.14 - ETA: 11s - loss: 1.14 - ETA: 10s - loss: 1.14 - ETA: 10s - loss: 1.14 - ETA: 10s - loss: 1.14 - ETA: 10s - loss: 1.14 - ETA: 10s - loss: 1.14 - ETA: 10s - loss: 1.14 - ETA: 10s - loss: 1.14 - ETA: 10s - loss: 1.14 - ETA: 10s - loss: 1.14 - ETA: 10s - loss: 1.14 - ETA: 10s - loss: 1.14 - ETA: 10s - loss: 1.14 - ETA: 10s - loss: 1.14 - ETA: 10s - loss: 1.14 - ETA: 10s - loss: 1.14 - ETA: 10s - loss: 1.14 - ETA: 10s - loss: 1.14 - ETA: 9s - loss: 1.1474 - ETA: 9s - loss: 1.148 - ETA: 9s - loss: 1.148 - ETA: 9s - loss: 1.148 - ETA: 9s - loss: 1.148 - ETA: 9s - loss: 1.148 - ETA: 9s - loss: 1.148 - ETA: 9s - loss: 1.147 - ETA: 9s - loss: 1.148 - ETA: 9s - loss: 1.149 - ETA: 9s - loss: 1.148 - ETA: 9s - loss: 1.148 - ETA: 9s - loss: 1.147 - ETA: 9s - loss: 1.148 - ETA: 9s - loss: 1.147 - ETA: 9s - loss: 1.147 - ETA: 9s - loss: 1.148 - ETA: 9s - loss: 1.148 - ETA: 9s - loss: 1.147 - ETA: 9s - loss: 1.148 - ETA: 9s - loss: 1.149 - ETA: 9s - loss: 1.150 - ETA: 9s - loss: 1.150 - ETA: 9s - loss: 1.150 - ETA: 9s - loss: 1.150 - ETA: 9s - loss: 1.150 - ETA: 8s - loss: 1.149 - ETA: 8s - loss: 1.150 - ETA: 8s - loss: 1.150 - ETA: 8s - loss: 1.150 - ETA: 8s - loss: 1.150 - ETA: 8s - loss: 1.150 - ETA: 8s - loss: 1.150 - ETA: 8s - loss: 1.150 - ETA: 8s - loss: 1.151 - ETA: 8s - loss: 1.151 - ETA: 8s - loss: 1.151 - ETA: 8s - loss: 1.150 - ETA: 8s - loss: 1.150 - ETA: 8s - loss: 1.150 - ETA: 8s - loss: 1.151 - ETA: 8s - loss: 1.151 - ETA: 8s - loss: 1.151 - ETA: 8s - loss: 1.152 - ETA: 7s - loss: 1.152 - ETA: 7s - loss: 1.153 - ETA: 7s - loss: 1.153 - ETA: 7s - loss: 1.153 - ETA: 7s - loss: 1.154 - ETA: 7s - loss: 1.154 - ETA: 7s - loss: 1.154 - ETA: 7s - loss: 1.155 - ETA: 7s - loss: 1.155 - ETA: 7s - loss: 1.155 - ETA: 7s - loss: 1.154 - ETA: 7s - loss: 1.155 - ETA: 7s - loss: 1.155 - ETA: 7s - loss: 1.155 - ETA: 7s - loss: 1.155 - ETA: 7s - loss: 1.155 - ETA: 6s - loss: 1.155 - ETA: 6s - loss: 1.155 - ETA: 6s - loss: 1.155 - ETA: 6s - loss: 1.155 - ETA: 6s - loss: 1.154 - ETA: 6s - loss: 1.154 - ETA: 6s - loss: 1.154 - ETA: 6s - loss: 1.154 - ETA: 6s - loss: 1.154 - ETA: 6s - loss: 1.154 - ETA: 6s - loss: 1.155 - ETA: 6s - loss: 1.155 - ETA: 6s - loss: 1.154 - ETA: 6s - loss: 1.154 - ETA: 6s - loss: 1.155 - ETA: 5s - loss: 1.154 - ETA: 5s - loss: 1.154 - ETA: 5s - loss: 1.155 - ETA: 5s - loss: 1.154 - ETA: 5s - loss: 1.155 - ETA: 5s - loss: 1.155 - ETA: 5s - loss: 1.155 - ETA: 5s - loss: 1.155 - ETA: 5s - loss: 1.156 - ETA: 5s - loss: 1.155 - ETA: 5s - loss: 1.155 - ETA: 5s - loss: 1.156 - ETA: 5s - loss: 1.156 - ETA: 5s - loss: 1.156 - ETA: 5s - loss: 1.157 - ETA: 5s - loss: 1.157 - ETA: 5s - loss: 1.157 - ETA: 4s - loss: 1.157 - ETA: 4s - loss: 1.157 - ETA: 4s - loss: 1.157 - ETA: 4s - loss: 1.157 - ETA: 4s - loss: 1.157 - ETA: 4s - loss: 1.158 - ETA: 4s - loss: 1.157 - ETA: 4s - loss: 1.157 - ETA: 4s - loss: 1.157 - ETA: 4s - loss: 1.157 - ETA: 4s - loss: 1.157 - ETA: 4s - loss: 1.158 - ETA: 4s - loss: 1.158 - ETA: 4s - loss: 1.157 - ETA: 4s - loss: 1.158 - ETA: 4s - loss: 1.158 - ETA: 4s - loss: 1.158 - ETA: 4s - loss: 1.157 - ETA: 4s - loss: 1.157 - ETA: 3s - loss: 1.157 - ETA: 3s - loss: 1.158 - ETA: 3s - loss: 1.158 - ETA: 3s - loss: 1.158 - ETA: 3s - loss: 1.158 - ETA: 3s - loss: 1.158 - ETA: 3s - loss: 1.158 - ETA: 3s - loss: 1.158 - ETA: 3s - loss: 1.158 - ETA: 3s - loss: 1.158 - ETA: 3s - loss: 1.158 - ETA: 3s - loss: 1.158 - ETA: 3s - loss: 1.159 - ETA: 3s - loss: 1.159 - ETA: 3s - loss: 1.159 - ETA: 3s - loss: 1.158 - ETA: 3s - loss: 1.158 - ETA: 3s - loss: 1.158 - ETA: 3s - loss: 1.158 - ETA: 3s - loss: 1.158 - ETA: 3s - loss: 1.158 - ETA: 3s - loss: 1.158 - ETA: 3s - loss: 1.158 - ETA: 3s - loss: 1.158 - ETA: 3s - loss: 1.158 - ETA: 3s - loss: 1.158 - ETA: 3s - loss: 1.158 - ETA: 3s - loss: 1.158 - ETA: 3s - loss: 1.159 - ETA: 3s - loss: 1.158 - ETA: 2s - loss: 1.158 - ETA: 2s - loss: 1.158 - ETA: 2s - loss: 1.159 - ETA: 2s - loss: 1.159 - ETA: 2s - loss: 1.159 - ETA: 2s - loss: 1.159 - ETA: 2s - loss: 1.159 - ETA: 2s - loss: 1.159 - ETA: 2s - loss: 1.159 - ETA: 2s - loss: 1.159 - ETA: 2s - loss: 1.159 - ETA: 2s - loss: 1.159 - ETA: 2s - loss: 1.160 - ETA: 2s - loss: 1.160 - ETA: 2s - loss: 1.159 - ETA: 2s - loss: 1.159 - ETA: 2s - loss: 1.160 - ETA: 2s - loss: 1.160 - ETA: 2s - loss: 1.160 - ETA: 2s - loss: 1.160 - ETA: 2s - loss: 1.160 - ETA: 2s - loss: 1.160 - ETA: 2s - loss: 1.160 - ETA: 2s - loss: 1.160 - ETA: 1s - loss: 1.160 - ETA: 1s - loss: 1.160 - ETA: 1s - loss: 1.160 - ETA: 1s - loss: 1.160 - ETA: 1s - loss: 1.160 - ETA: 1s - loss: 1.160 - ETA: 1s - loss: 1.160 - ETA: 1s - loss: 1.160 - ETA: 1s - loss: 1.160 - ETA: 1s - loss: 1.160 - ETA: 1s - loss: 1.160 - ETA: 1s - loss: 1.160 - ETA: 1s - loss: 1.160 - ETA: 1s - loss: 1.160 - ETA: 1s - loss: 1.160 - ETA: 1s - loss: 1.160 - ETA: 1s - loss: 1.160 - ETA: 1s - loss: 1.160 - ETA: 1s - loss: 1.160 - ETA: 1s - loss: 1.160 - ETA: 1s - loss: 1.160 - ETA: 0s - loss: 1.160 - ETA: 0s - loss: 1.160 - ETA: 0s - loss: 1.160 - ETA: 0s - loss: 1.160 - ETA: 0s - loss: 1.160 - ETA: 0s - loss: 1.160 - ETA: 0s - loss: 1.160 - ETA: 0s - loss: 1.160 - ETA: 0s - loss: 1.160 - ETA: 0s - loss: 1.160 - ETA: 0s - loss: 1.160 - ETA: 0s - loss: 1.161 - ETA: 0s - loss: 1.161 - ETA: 0s - loss: 1.161 - ETA: 0s - loss: 1.161 - ETA: 0s - loss: 1.161 - ETA: 0s - loss: 1.162 - ETA: 0s - loss: 1.161 - 16s 217us/step - loss: 1.1620 - val_loss: 1.2318\n",
      "Epoch 12/20\n"
     ]
    },
    {
     "name": "stdout",
     "output_type": "stream",
     "text": [
      "75006/75006 [==============================] - ETA: 19s - loss: 1.01 - ETA: 14s - loss: 1.15 - ETA: 14s - loss: 1.15 - ETA: 13s - loss: 1.17 - ETA: 13s - loss: 1.15 - ETA: 13s - loss: 1.13 - ETA: 13s - loss: 1.13 - ETA: 13s - loss: 1.13 - ETA: 13s - loss: 1.13 - ETA: 13s - loss: 1.13 - ETA: 13s - loss: 1.13 - ETA: 13s - loss: 1.13 - ETA: 13s - loss: 1.13 - ETA: 13s - loss: 1.13 - ETA: 13s - loss: 1.13 - ETA: 13s - loss: 1.13 - ETA: 13s - loss: 1.13 - ETA: 14s - loss: 1.13 - ETA: 14s - loss: 1.13 - ETA: 13s - loss: 1.13 - ETA: 13s - loss: 1.13 - ETA: 13s - loss: 1.13 - ETA: 13s - loss: 1.13 - ETA: 13s - loss: 1.13 - ETA: 13s - loss: 1.13 - ETA: 13s - loss: 1.13 - ETA: 13s - loss: 1.13 - ETA: 13s - loss: 1.13 - ETA: 13s - loss: 1.14 - ETA: 13s - loss: 1.14 - ETA: 13s - loss: 1.14 - ETA: 13s - loss: 1.14 - ETA: 13s - loss: 1.14 - ETA: 13s - loss: 1.14 - ETA: 13s - loss: 1.14 - ETA: 13s - loss: 1.14 - ETA: 13s - loss: 1.15 - ETA: 13s - loss: 1.15 - ETA: 13s - loss: 1.14 - ETA: 13s - loss: 1.14 - ETA: 13s - loss: 1.15 - ETA: 13s - loss: 1.15 - ETA: 13s - loss: 1.14 - ETA: 13s - loss: 1.14 - ETA: 12s - loss: 1.14 - ETA: 12s - loss: 1.14 - ETA: 12s - loss: 1.14 - ETA: 12s - loss: 1.14 - ETA: 12s - loss: 1.14 - ETA: 12s - loss: 1.14 - ETA: 12s - loss: 1.14 - ETA: 12s - loss: 1.14 - ETA: 12s - loss: 1.14 - ETA: 12s - loss: 1.14 - ETA: 12s - loss: 1.14 - ETA: 12s - loss: 1.14 - ETA: 12s - loss: 1.14 - ETA: 11s - loss: 1.14 - ETA: 11s - loss: 1.14 - ETA: 11s - loss: 1.14 - ETA: 11s - loss: 1.14 - ETA: 11s - loss: 1.14 - ETA: 11s - loss: 1.14 - ETA: 11s - loss: 1.14 - ETA: 11s - loss: 1.14 - ETA: 11s - loss: 1.14 - ETA: 11s - loss: 1.14 - ETA: 11s - loss: 1.14 - ETA: 11s - loss: 1.14 - ETA: 11s - loss: 1.14 - ETA: 10s - loss: 1.14 - ETA: 10s - loss: 1.14 - ETA: 10s - loss: 1.14 - ETA: 10s - loss: 1.14 - ETA: 10s - loss: 1.14 - ETA: 10s - loss: 1.14 - ETA: 10s - loss: 1.14 - ETA: 10s - loss: 1.14 - ETA: 10s - loss: 1.14 - ETA: 10s - loss: 1.14 - ETA: 10s - loss: 1.14 - ETA: 10s - loss: 1.14 - ETA: 10s - loss: 1.14 - ETA: 10s - loss: 1.14 - ETA: 10s - loss: 1.14 - ETA: 9s - loss: 1.1455 - ETA: 9s - loss: 1.146 - ETA: 9s - loss: 1.145 - ETA: 9s - loss: 1.146 - ETA: 9s - loss: 1.146 - ETA: 9s - loss: 1.146 - ETA: 9s - loss: 1.146 - ETA: 9s - loss: 1.147 - ETA: 9s - loss: 1.147 - ETA: 9s - loss: 1.146 - ETA: 9s - loss: 1.146 - ETA: 9s - loss: 1.146 - ETA: 9s - loss: 1.147 - ETA: 9s - loss: 1.147 - ETA: 9s - loss: 1.146 - ETA: 9s - loss: 1.146 - ETA: 8s - loss: 1.147 - ETA: 8s - loss: 1.146 - ETA: 8s - loss: 1.146 - ETA: 8s - loss: 1.147 - ETA: 8s - loss: 1.146 - ETA: 8s - loss: 1.146 - ETA: 8s - loss: 1.145 - ETA: 8s - loss: 1.145 - ETA: 8s - loss: 1.145 - ETA: 8s - loss: 1.144 - ETA: 8s - loss: 1.144 - ETA: 8s - loss: 1.145 - ETA: 8s - loss: 1.144 - ETA: 8s - loss: 1.145 - ETA: 8s - loss: 1.144 - ETA: 8s - loss: 1.145 - ETA: 8s - loss: 1.144 - ETA: 8s - loss: 1.144 - ETA: 8s - loss: 1.143 - ETA: 8s - loss: 1.145 - ETA: 7s - loss: 1.145 - ETA: 7s - loss: 1.145 - ETA: 7s - loss: 1.145 - ETA: 7s - loss: 1.145 - ETA: 7s - loss: 1.145 - ETA: 7s - loss: 1.146 - ETA: 7s - loss: 1.146 - ETA: 7s - loss: 1.146 - ETA: 7s - loss: 1.146 - ETA: 7s - loss: 1.146 - ETA: 7s - loss: 1.147 - ETA: 7s - loss: 1.147 - ETA: 7s - loss: 1.147 - ETA: 7s - loss: 1.147 - ETA: 7s - loss: 1.147 - ETA: 7s - loss: 1.147 - ETA: 7s - loss: 1.147 - ETA: 7s - loss: 1.147 - ETA: 7s - loss: 1.148 - ETA: 6s - loss: 1.148 - ETA: 6s - loss: 1.148 - ETA: 6s - loss: 1.149 - ETA: 6s - loss: 1.149 - ETA: 6s - loss: 1.150 - ETA: 6s - loss: 1.150 - ETA: 6s - loss: 1.149 - ETA: 6s - loss: 1.151 - ETA: 6s - loss: 1.151 - ETA: 6s - loss: 1.151 - ETA: 6s - loss: 1.151 - ETA: 6s - loss: 1.151 - ETA: 6s - loss: 1.151 - ETA: 6s - loss: 1.151 - ETA: 6s - loss: 1.151 - ETA: 6s - loss: 1.151 - ETA: 6s - loss: 1.151 - ETA: 6s - loss: 1.151 - ETA: 6s - loss: 1.151 - ETA: 5s - loss: 1.151 - ETA: 5s - loss: 1.152 - ETA: 5s - loss: 1.151 - ETA: 5s - loss: 1.151 - ETA: 5s - loss: 1.152 - ETA: 5s - loss: 1.152 - ETA: 5s - loss: 1.152 - ETA: 5s - loss: 1.152 - ETA: 5s - loss: 1.152 - ETA: 5s - loss: 1.153 - ETA: 5s - loss: 1.153 - ETA: 5s - loss: 1.153 - ETA: 5s - loss: 1.153 - ETA: 5s - loss: 1.153 - ETA: 5s - loss: 1.153 - ETA: 5s - loss: 1.153 - ETA: 5s - loss: 1.153 - ETA: 5s - loss: 1.152 - ETA: 4s - loss: 1.153 - ETA: 4s - loss: 1.153 - ETA: 4s - loss: 1.153 - ETA: 4s - loss: 1.153 - ETA: 4s - loss: 1.153 - ETA: 4s - loss: 1.153 - ETA: 4s - loss: 1.153 - ETA: 4s - loss: 1.153 - ETA: 4s - loss: 1.153 - ETA: 4s - loss: 1.153 - ETA: 4s - loss: 1.154 - ETA: 4s - loss: 1.154 - ETA: 4s - loss: 1.153 - ETA: 4s - loss: 1.154 - ETA: 4s - loss: 1.154 - ETA: 4s - loss: 1.154 - ETA: 4s - loss: 1.154 - ETA: 4s - loss: 1.154 - ETA: 3s - loss: 1.154 - ETA: 3s - loss: 1.154 - ETA: 3s - loss: 1.154 - ETA: 3s - loss: 1.154 - ETA: 3s - loss: 1.154 - ETA: 3s - loss: 1.154 - ETA: 3s - loss: 1.154 - ETA: 3s - loss: 1.154 - ETA: 3s - loss: 1.154 - ETA: 3s - loss: 1.154 - ETA: 3s - loss: 1.154 - ETA: 3s - loss: 1.154 - ETA: 3s - loss: 1.154 - ETA: 3s - loss: 1.154 - ETA: 3s - loss: 1.154 - ETA: 3s - loss: 1.154 - ETA: 3s - loss: 1.154 - ETA: 3s - loss: 1.154 - ETA: 3s - loss: 1.154 - ETA: 2s - loss: 1.154 - ETA: 2s - loss: 1.154 - ETA: 2s - loss: 1.154 - ETA: 2s - loss: 1.154 - ETA: 2s - loss: 1.155 - ETA: 2s - loss: 1.154 - ETA: 2s - loss: 1.154 - ETA: 2s - loss: 1.154 - ETA: 2s - loss: 1.154 - ETA: 2s - loss: 1.154 - ETA: 2s - loss: 1.154 - ETA: 2s - loss: 1.154 - ETA: 2s - loss: 1.154 - ETA: 2s - loss: 1.154 - ETA: 2s - loss: 1.155 - ETA: 2s - loss: 1.155 - ETA: 2s - loss: 1.155 - ETA: 1s - loss: 1.154 - ETA: 1s - loss: 1.154 - ETA: 1s - loss: 1.155 - ETA: 1s - loss: 1.155 - ETA: 1s - loss: 1.155 - ETA: 1s - loss: 1.155 - ETA: 1s - loss: 1.156 - ETA: 1s - loss: 1.156 - ETA: 1s - loss: 1.156 - ETA: 1s - loss: 1.156 - ETA: 1s - loss: 1.156 - ETA: 1s - loss: 1.156 - ETA: 1s - loss: 1.156 - ETA: 1s - loss: 1.156 - ETA: 1s - loss: 1.156 - ETA: 1s - loss: 1.156 - ETA: 1s - loss: 1.156 - ETA: 1s - loss: 1.156 - ETA: 0s - loss: 1.157 - ETA: 0s - loss: 1.157 - ETA: 0s - loss: 1.157 - ETA: 0s - loss: 1.157 - ETA: 0s - loss: 1.157 - ETA: 0s - loss: 1.157 - ETA: 0s - loss: 1.157 - ETA: 0s - loss: 1.157 - ETA: 0s - loss: 1.157 - ETA: 0s - loss: 1.157 - ETA: 0s - loss: 1.157 - ETA: 0s - loss: 1.157 - ETA: 0s - loss: 1.157 - ETA: 0s - loss: 1.157 - ETA: 0s - loss: 1.157 - ETA: 0s - loss: 1.157 - ETA: 0s - loss: 1.157 - 14s 192us/step - loss: 1.1575 - val_loss: 1.2357\n",
      "Epoch 13/20\n",
      "75006/75006 [==============================] - ETA: 20s - loss: 1.04 - ETA: 14s - loss: 1.08 - ETA: 13s - loss: 1.13 - ETA: 13s - loss: 1.12 - ETA: 13s - loss: 1.11 - ETA: 13s - loss: 1.12 - ETA: 12s - loss: 1.13 - ETA: 12s - loss: 1.14 - ETA: 12s - loss: 1.13 - ETA: 12s - loss: 1.13 - ETA: 12s - loss: 1.13 - ETA: 12s - loss: 1.13 - ETA: 12s - loss: 1.13 - ETA: 12s - loss: 1.13 - ETA: 12s - loss: 1.12 - ETA: 12s - loss: 1.12 - ETA: 12s - loss: 1.12 - ETA: 12s - loss: 1.12 - ETA: 12s - loss: 1.12 - ETA: 12s - loss: 1.12 - ETA: 12s - loss: 1.12 - ETA: 12s - loss: 1.13 - ETA: 12s - loss: 1.13 - ETA: 11s - loss: 1.12 - ETA: 11s - loss: 1.12 - ETA: 11s - loss: 1.12 - ETA: 11s - loss: 1.13 - ETA: 11s - loss: 1.13 - ETA: 11s - loss: 1.13 - ETA: 11s - loss: 1.13 - ETA: 11s - loss: 1.13 - ETA: 11s - loss: 1.13 - ETA: 11s - loss: 1.13 - ETA: 11s - loss: 1.13 - ETA: 11s - loss: 1.13 - ETA: 11s - loss: 1.13 - ETA: 11s - loss: 1.13 - ETA: 11s - loss: 1.13 - ETA: 11s - loss: 1.13 - ETA: 11s - loss: 1.13 - ETA: 11s - loss: 1.13 - ETA: 11s - loss: 1.13 - ETA: 11s - loss: 1.13 - ETA: 11s - loss: 1.13 - ETA: 10s - loss: 1.13 - ETA: 10s - loss: 1.13 - ETA: 10s - loss: 1.13 - ETA: 10s - loss: 1.13 - ETA: 10s - loss: 1.13 - ETA: 10s - loss: 1.13 - ETA: 10s - loss: 1.13 - ETA: 10s - loss: 1.13 - ETA: 10s - loss: 1.13 - ETA: 10s - loss: 1.13 - ETA: 10s - loss: 1.13 - ETA: 10s - loss: 1.13 - ETA: 10s - loss: 1.13 - ETA: 10s - loss: 1.13 - ETA: 10s - loss: 1.13 - ETA: 10s - loss: 1.13 - ETA: 10s - loss: 1.13 - ETA: 9s - loss: 1.1359 - ETA: 9s - loss: 1.135 - ETA: 9s - loss: 1.135 - ETA: 9s - loss: 1.137 - ETA: 9s - loss: 1.138 - ETA: 9s - loss: 1.138 - ETA: 9s - loss: 1.138 - ETA: 9s - loss: 1.139 - ETA: 9s - loss: 1.139 - ETA: 9s - loss: 1.140 - ETA: 9s - loss: 1.141 - ETA: 9s - loss: 1.142 - ETA: 9s - loss: 1.141 - ETA: 9s - loss: 1.141 - ETA: 9s - loss: 1.141 - ETA: 9s - loss: 1.140 - ETA: 9s - loss: 1.140 - ETA: 9s - loss: 1.139 - ETA: 8s - loss: 1.139 - ETA: 8s - loss: 1.140 - ETA: 8s - loss: 1.140 - ETA: 8s - loss: 1.140 - ETA: 8s - loss: 1.140 - ETA: 8s - loss: 1.140 - ETA: 8s - loss: 1.140 - ETA: 8s - loss: 1.140 - ETA: 8s - loss: 1.140 - ETA: 8s - loss: 1.140 - ETA: 8s - loss: 1.141 - ETA: 8s - loss: 1.141 - ETA: 8s - loss: 1.141 - ETA: 8s - loss: 1.141 - ETA: 8s - loss: 1.141 - ETA: 8s - loss: 1.141 - ETA: 8s - loss: 1.141 - ETA: 8s - loss: 1.141 - ETA: 8s - loss: 1.141 - ETA: 7s - loss: 1.141 - ETA: 7s - loss: 1.143 - ETA: 7s - loss: 1.143 - ETA: 7s - loss: 1.143 - ETA: 7s - loss: 1.143 - ETA: 7s - loss: 1.144 - ETA: 7s - loss: 1.144 - ETA: 7s - loss: 1.144 - ETA: 7s - loss: 1.144 - ETA: 7s - loss: 1.144 - ETA: 7s - loss: 1.144 - ETA: 7s - loss: 1.144 - ETA: 7s - loss: 1.144 - ETA: 7s - loss: 1.144 - ETA: 7s - loss: 1.144 - ETA: 7s - loss: 1.144 - ETA: 7s - loss: 1.144 - ETA: 6s - loss: 1.144 - ETA: 6s - loss: 1.144 - ETA: 6s - loss: 1.144 - ETA: 6s - loss: 1.144 - ETA: 6s - loss: 1.144 - ETA: 6s - loss: 1.144 - ETA: 6s - loss: 1.145 - ETA: 6s - loss: 1.144 - ETA: 6s - loss: 1.144 - ETA: 6s - loss: 1.144 - ETA: 6s - loss: 1.144 - ETA: 6s - loss: 1.144 - ETA: 6s - loss: 1.144 - ETA: 6s - loss: 1.144 - ETA: 6s - loss: 1.143 - ETA: 6s - loss: 1.143 - ETA: 6s - loss: 1.143 - ETA: 6s - loss: 1.143 - ETA: 6s - loss: 1.142 - ETA: 5s - loss: 1.142 - ETA: 5s - loss: 1.142 - ETA: 5s - loss: 1.142 - ETA: 5s - loss: 1.142 - ETA: 5s - loss: 1.143 - ETA: 5s - loss: 1.143 - ETA: 5s - loss: 1.143 - ETA: 5s - loss: 1.143 - ETA: 5s - loss: 1.142 - ETA: 5s - loss: 1.142 - ETA: 5s - loss: 1.142 - ETA: 5s - loss: 1.142 - ETA: 5s - loss: 1.143 - ETA: 5s - loss: 1.143 - ETA: 5s - loss: 1.143 - ETA: 5s - loss: 1.143 - ETA: 5s - loss: 1.143 - ETA: 5s - loss: 1.143 - ETA: 5s - loss: 1.143 - ETA: 5s - loss: 1.143 - ETA: 4s - loss: 1.143 - ETA: 4s - loss: 1.143 - ETA: 4s - loss: 1.144 - ETA: 4s - loss: 1.144 - ETA: 4s - loss: 1.144 - ETA: 4s - loss: 1.144 - ETA: 4s - loss: 1.144 - ETA: 4s - loss: 1.144 - ETA: 4s - loss: 1.144 - ETA: 4s - loss: 1.144 - ETA: 4s - loss: 1.144 - ETA: 4s - loss: 1.144 - ETA: 4s - loss: 1.144 - ETA: 4s - loss: 1.144 - ETA: 4s - loss: 1.144 - ETA: 4s - loss: 1.144 - ETA: 4s - loss: 1.144 - ETA: 4s - loss: 1.144 - ETA: 3s - loss: 1.144 - ETA: 3s - loss: 1.145 - ETA: 3s - loss: 1.145 - ETA: 3s - loss: 1.145 - ETA: 3s - loss: 1.145 - ETA: 3s - loss: 1.145 - ETA: 3s - loss: 1.145 - ETA: 3s - loss: 1.146 - ETA: 3s - loss: 1.145 - ETA: 3s - loss: 1.146 - ETA: 3s - loss: 1.146 - ETA: 3s - loss: 1.146 - ETA: 3s - loss: 1.146 - ETA: 3s - loss: 1.147 - ETA: 3s - loss: 1.147 - ETA: 3s - loss: 1.147 - ETA: 3s - loss: 1.146 - ETA: 3s - loss: 1.146 - ETA: 2s - loss: 1.146 - ETA: 2s - loss: 1.147 - ETA: 2s - loss: 1.147 - ETA: 2s - loss: 1.147 - ETA: 2s - loss: 1.147 - ETA: 2s - loss: 1.147 - ETA: 2s - loss: 1.147 - ETA: 2s - loss: 1.147 - ETA: 2s - loss: 1.147 - ETA: 2s - loss: 1.147 - ETA: 2s - loss: 1.147 - ETA: 2s - loss: 1.147 - ETA: 2s - loss: 1.147 - ETA: 2s - loss: 1.147 - ETA: 2s - loss: 1.147 - ETA: 2s - loss: 1.147 - ETA: 2s - loss: 1.148 - ETA: 2s - loss: 1.148 - ETA: 1s - loss: 1.148 - ETA: 1s - loss: 1.148 - ETA: 1s - loss: 1.148 - ETA: 1s - loss: 1.148 - ETA: 1s - loss: 1.148 - ETA: 1s - loss: 1.148 - ETA: 1s - loss: 1.148 - ETA: 1s - loss: 1.148 - ETA: 1s - loss: 1.148 - ETA: 1s - loss: 1.148 - ETA: 1s - loss: 1.149 - ETA: 1s - loss: 1.149 - ETA: 1s - loss: 1.149 - ETA: 1s - loss: 1.149 - ETA: 1s - loss: 1.149 - ETA: 1s - loss: 1.149 - ETA: 1s - loss: 1.149 - ETA: 1s - loss: 1.149 - ETA: 0s - loss: 1.150 - ETA: 0s - loss: 1.150 - ETA: 0s - loss: 1.150 - ETA: 0s - loss: 1.150 - ETA: 0s - loss: 1.150 - ETA: 0s - loss: 1.151 - ETA: 0s - loss: 1.151 - ETA: 0s - loss: 1.151 - ETA: 0s - loss: 1.151 - ETA: 0s - loss: 1.151 - ETA: 0s - loss: 1.151 - ETA: 0s - loss: 1.151 - ETA: 0s - loss: 1.151 - ETA: 0s - loss: 1.151 - ETA: 0s - loss: 1.151 - ETA: 0s - loss: 1.151 - ETA: 0s - loss: 1.151 - ETA: 0s - loss: 1.151 - ETA: 0s - loss: 1.151 - 13s 177us/step - loss: 1.1516 - val_loss: 1.2450\n",
      "Epoch 14/20\n"
     ]
    },
    {
     "name": "stdout",
     "output_type": "stream",
     "text": [
      "75006/75006 [==============================] - ETA: 16s - loss: 1.27 - ETA: 11s - loss: 1.14 - ETA: 11s - loss: 1.11 - ETA: 12s - loss: 1.09 - ETA: 13s - loss: 1.08 - ETA: 14s - loss: 1.10 - ETA: 14s - loss: 1.10 - ETA: 14s - loss: 1.11 - ETA: 14s - loss: 1.12 - ETA: 14s - loss: 1.11 - ETA: 14s - loss: 1.11 - ETA: 13s - loss: 1.11 - ETA: 13s - loss: 1.11 - ETA: 13s - loss: 1.10 - ETA: 13s - loss: 1.11 - ETA: 13s - loss: 1.11 - ETA: 13s - loss: 1.10 - ETA: 13s - loss: 1.11 - ETA: 12s - loss: 1.11 - ETA: 12s - loss: 1.11 - ETA: 12s - loss: 1.11 - ETA: 12s - loss: 1.11 - ETA: 12s - loss: 1.11 - ETA: 12s - loss: 1.12 - ETA: 12s - loss: 1.12 - ETA: 12s - loss: 1.12 - ETA: 12s - loss: 1.12 - ETA: 12s - loss: 1.12 - ETA: 12s - loss: 1.12 - ETA: 12s - loss: 1.12 - ETA: 12s - loss: 1.12 - ETA: 12s - loss: 1.13 - ETA: 12s - loss: 1.13 - ETA: 12s - loss: 1.13 - ETA: 11s - loss: 1.13 - ETA: 11s - loss: 1.13 - ETA: 11s - loss: 1.13 - ETA: 11s - loss: 1.13 - ETA: 11s - loss: 1.13 - ETA: 11s - loss: 1.13 - ETA: 11s - loss: 1.13 - ETA: 11s - loss: 1.13 - ETA: 11s - loss: 1.13 - ETA: 11s - loss: 1.13 - ETA: 11s - loss: 1.13 - ETA: 11s - loss: 1.13 - ETA: 11s - loss: 1.13 - ETA: 11s - loss: 1.13 - ETA: 11s - loss: 1.13 - ETA: 11s - loss: 1.13 - ETA: 10s - loss: 1.13 - ETA: 10s - loss: 1.13 - ETA: 10s - loss: 1.13 - ETA: 10s - loss: 1.13 - ETA: 10s - loss: 1.13 - ETA: 10s - loss: 1.13 - ETA: 10s - loss: 1.13 - ETA: 10s - loss: 1.13 - ETA: 10s - loss: 1.13 - ETA: 10s - loss: 1.13 - ETA: 10s - loss: 1.13 - ETA: 10s - loss: 1.13 - ETA: 10s - loss: 1.14 - ETA: 9s - loss: 1.1414 - ETA: 9s - loss: 1.141 - ETA: 9s - loss: 1.142 - ETA: 9s - loss: 1.142 - ETA: 9s - loss: 1.142 - ETA: 9s - loss: 1.143 - ETA: 9s - loss: 1.142 - ETA: 9s - loss: 1.143 - ETA: 9s - loss: 1.143 - ETA: 9s - loss: 1.144 - ETA: 9s - loss: 1.144 - ETA: 9s - loss: 1.143 - ETA: 9s - loss: 1.144 - ETA: 9s - loss: 1.144 - ETA: 9s - loss: 1.144 - ETA: 9s - loss: 1.144 - ETA: 8s - loss: 1.143 - ETA: 8s - loss: 1.143 - ETA: 8s - loss: 1.143 - ETA: 8s - loss: 1.143 - ETA: 8s - loss: 1.142 - ETA: 8s - loss: 1.142 - ETA: 8s - loss: 1.142 - ETA: 8s - loss: 1.141 - ETA: 8s - loss: 1.140 - ETA: 8s - loss: 1.140 - ETA: 8s - loss: 1.140 - ETA: 8s - loss: 1.140 - ETA: 8s - loss: 1.140 - ETA: 8s - loss: 1.140 - ETA: 8s - loss: 1.141 - ETA: 8s - loss: 1.141 - ETA: 8s - loss: 1.141 - ETA: 7s - loss: 1.141 - ETA: 7s - loss: 1.141 - ETA: 7s - loss: 1.141 - ETA: 7s - loss: 1.141 - ETA: 7s - loss: 1.142 - ETA: 7s - loss: 1.141 - ETA: 7s - loss: 1.141 - ETA: 7s - loss: 1.141 - ETA: 7s - loss: 1.141 - ETA: 7s - loss: 1.140 - ETA: 7s - loss: 1.140 - ETA: 7s - loss: 1.140 - ETA: 7s - loss: 1.140 - ETA: 7s - loss: 1.141 - ETA: 7s - loss: 1.140 - ETA: 7s - loss: 1.139 - ETA: 7s - loss: 1.139 - ETA: 6s - loss: 1.139 - ETA: 6s - loss: 1.140 - ETA: 6s - loss: 1.140 - ETA: 6s - loss: 1.140 - ETA: 6s - loss: 1.140 - ETA: 6s - loss: 1.141 - ETA: 6s - loss: 1.141 - ETA: 6s - loss: 1.142 - ETA: 6s - loss: 1.142 - ETA: 6s - loss: 1.142 - ETA: 6s - loss: 1.143 - ETA: 6s - loss: 1.142 - ETA: 6s - loss: 1.143 - ETA: 6s - loss: 1.143 - ETA: 6s - loss: 1.143 - ETA: 6s - loss: 1.143 - ETA: 6s - loss: 1.142 - ETA: 6s - loss: 1.143 - ETA: 5s - loss: 1.143 - ETA: 5s - loss: 1.142 - ETA: 5s - loss: 1.142 - ETA: 5s - loss: 1.142 - ETA: 5s - loss: 1.142 - ETA: 5s - loss: 1.142 - ETA: 5s - loss: 1.142 - ETA: 5s - loss: 1.142 - ETA: 5s - loss: 1.142 - ETA: 5s - loss: 1.142 - ETA: 5s - loss: 1.142 - ETA: 5s - loss: 1.142 - ETA: 5s - loss: 1.142 - ETA: 5s - loss: 1.142 - ETA: 5s - loss: 1.142 - ETA: 5s - loss: 1.143 - ETA: 5s - loss: 1.143 - ETA: 5s - loss: 1.144 - ETA: 4s - loss: 1.144 - ETA: 4s - loss: 1.144 - ETA: 4s - loss: 1.144 - ETA: 4s - loss: 1.145 - ETA: 4s - loss: 1.145 - ETA: 4s - loss: 1.145 - ETA: 4s - loss: 1.145 - ETA: 4s - loss: 1.145 - ETA: 4s - loss: 1.144 - ETA: 4s - loss: 1.144 - ETA: 4s - loss: 1.144 - ETA: 4s - loss: 1.144 - ETA: 4s - loss: 1.144 - ETA: 4s - loss: 1.145 - ETA: 4s - loss: 1.145 - ETA: 4s - loss: 1.145 - ETA: 4s - loss: 1.145 - ETA: 4s - loss: 1.145 - ETA: 4s - loss: 1.145 - ETA: 3s - loss: 1.145 - ETA: 3s - loss: 1.146 - ETA: 3s - loss: 1.145 - ETA: 3s - loss: 1.145 - ETA: 3s - loss: 1.145 - ETA: 3s - loss: 1.145 - ETA: 3s - loss: 1.145 - ETA: 3s - loss: 1.145 - ETA: 3s - loss: 1.145 - ETA: 3s - loss: 1.145 - ETA: 3s - loss: 1.145 - ETA: 3s - loss: 1.145 - ETA: 3s - loss: 1.145 - ETA: 3s - loss: 1.145 - ETA: 3s - loss: 1.145 - ETA: 3s - loss: 1.145 - ETA: 3s - loss: 1.145 - ETA: 3s - loss: 1.145 - ETA: 3s - loss: 1.145 - ETA: 2s - loss: 1.145 - ETA: 2s - loss: 1.145 - ETA: 2s - loss: 1.145 - ETA: 2s - loss: 1.144 - ETA: 2s - loss: 1.144 - ETA: 2s - loss: 1.144 - ETA: 2s - loss: 1.144 - ETA: 2s - loss: 1.144 - ETA: 2s - loss: 1.145 - ETA: 2s - loss: 1.144 - ETA: 2s - loss: 1.145 - ETA: 2s - loss: 1.144 - ETA: 2s - loss: 1.145 - ETA: 2s - loss: 1.145 - ETA: 2s - loss: 1.144 - ETA: 2s - loss: 1.145 - ETA: 2s - loss: 1.145 - ETA: 2s - loss: 1.145 - ETA: 2s - loss: 1.145 - ETA: 2s - loss: 1.145 - ETA: 1s - loss: 1.145 - ETA: 1s - loss: 1.145 - ETA: 1s - loss: 1.145 - ETA: 1s - loss: 1.145 - ETA: 1s - loss: 1.145 - ETA: 1s - loss: 1.145 - ETA: 1s - loss: 1.145 - ETA: 1s - loss: 1.145 - ETA: 1s - loss: 1.145 - ETA: 1s - loss: 1.145 - ETA: 1s - loss: 1.145 - ETA: 1s - loss: 1.145 - ETA: 1s - loss: 1.145 - ETA: 1s - loss: 1.145 - ETA: 1s - loss: 1.145 - ETA: 1s - loss: 1.145 - ETA: 1s - loss: 1.145 - ETA: 1s - loss: 1.145 - ETA: 0s - loss: 1.145 - ETA: 0s - loss: 1.145 - ETA: 0s - loss: 1.145 - ETA: 0s - loss: 1.145 - ETA: 0s - loss: 1.145 - ETA: 0s - loss: 1.145 - ETA: 0s - loss: 1.145 - ETA: 0s - loss: 1.145 - ETA: 0s - loss: 1.145 - ETA: 0s - loss: 1.145 - ETA: 0s - loss: 1.145 - ETA: 0s - loss: 1.145 - ETA: 0s - loss: 1.145 - ETA: 0s - loss: 1.145 - ETA: 0s - loss: 1.145 - ETA: 0s - loss: 1.145 - ETA: 0s - loss: 1.145 - ETA: 0s - loss: 1.145 - ETA: 0s - loss: 1.145 - ETA: 0s - loss: 1.145 - 13s 177us/step - loss: 1.1455 - val_loss: 1.2354\n",
      "Epoch 15/20\n",
      "75006/75006 [==============================] - ETA: 18s - loss: 1.12 - ETA: 13s - loss: 1.13 - ETA: 12s - loss: 1.13 - ETA: 12s - loss: 1.12 - ETA: 12s - loss: 1.12 - ETA: 12s - loss: 1.12 - ETA: 12s - loss: 1.13 - ETA: 12s - loss: 1.12 - ETA: 12s - loss: 1.13 - ETA: 11s - loss: 1.13 - ETA: 11s - loss: 1.12 - ETA: 11s - loss: 1.12 - ETA: 11s - loss: 1.12 - ETA: 11s - loss: 1.12 - ETA: 11s - loss: 1.12 - ETA: 11s - loss: 1.12 - ETA: 11s - loss: 1.12 - ETA: 11s - loss: 1.12 - ETA: 11s - loss: 1.12 - ETA: 11s - loss: 1.12 - ETA: 11s - loss: 1.11 - ETA: 11s - loss: 1.11 - ETA: 11s - loss: 1.11 - ETA: 11s - loss: 1.11 - ETA: 11s - loss: 1.12 - ETA: 11s - loss: 1.12 - ETA: 11s - loss: 1.12 - ETA: 11s - loss: 1.12 - ETA: 11s - loss: 1.12 - ETA: 11s - loss: 1.12 - ETA: 11s - loss: 1.12 - ETA: 11s - loss: 1.12 - ETA: 11s - loss: 1.12 - ETA: 11s - loss: 1.12 - ETA: 11s - loss: 1.12 - ETA: 11s - loss: 1.12 - ETA: 11s - loss: 1.12 - ETA: 11s - loss: 1.12 - ETA: 11s - loss: 1.12 - ETA: 11s - loss: 1.12 - ETA: 11s - loss: 1.12 - ETA: 11s - loss: 1.12 - ETA: 11s - loss: 1.12 - ETA: 11s - loss: 1.12 - ETA: 11s - loss: 1.12 - ETA: 11s - loss: 1.12 - ETA: 11s - loss: 1.12 - ETA: 11s - loss: 1.12 - ETA: 10s - loss: 1.12 - ETA: 10s - loss: 1.12 - ETA: 10s - loss: 1.12 - ETA: 10s - loss: 1.12 - ETA: 10s - loss: 1.13 - ETA: 10s - loss: 1.13 - ETA: 10s - loss: 1.13 - ETA: 10s - loss: 1.13 - ETA: 10s - loss: 1.13 - ETA: 10s - loss: 1.13 - ETA: 10s - loss: 1.13 - ETA: 10s - loss: 1.13 - ETA: 10s - loss: 1.13 - ETA: 10s - loss: 1.13 - ETA: 10s - loss: 1.13 - ETA: 10s - loss: 1.13 - ETA: 10s - loss: 1.13 - ETA: 10s - loss: 1.13 - ETA: 10s - loss: 1.13 - ETA: 10s - loss: 1.13 - ETA: 10s - loss: 1.13 - ETA: 10s - loss: 1.13 - ETA: 10s - loss: 1.13 - ETA: 10s - loss: 1.13 - ETA: 10s - loss: 1.13 - ETA: 10s - loss: 1.13 - ETA: 10s - loss: 1.13 - ETA: 10s - loss: 1.13 - ETA: 10s - loss: 1.13 - ETA: 10s - loss: 1.13 - ETA: 10s - loss: 1.13 - ETA: 10s - loss: 1.13 - ETA: 10s - loss: 1.13 - ETA: 10s - loss: 1.13 - ETA: 10s - loss: 1.13 - ETA: 10s - loss: 1.13 - ETA: 10s - loss: 1.13 - ETA: 10s - loss: 1.13 - ETA: 10s - loss: 1.13 - ETA: 10s - loss: 1.13 - ETA: 10s - loss: 1.13 - ETA: 10s - loss: 1.13 - ETA: 10s - loss: 1.13 - ETA: 10s - loss: 1.13 - ETA: 9s - loss: 1.1329 - ETA: 9s - loss: 1.132 - ETA: 9s - loss: 1.132 - ETA: 9s - loss: 1.132 - ETA: 9s - loss: 1.132 - ETA: 9s - loss: 1.132 - ETA: 9s - loss: 1.133 - ETA: 9s - loss: 1.133 - ETA: 9s - loss: 1.134 - ETA: 9s - loss: 1.134 - ETA: 9s - loss: 1.134 - ETA: 9s - loss: 1.133 - ETA: 9s - loss: 1.133 - ETA: 9s - loss: 1.133 - ETA: 9s - loss: 1.134 - ETA: 9s - loss: 1.134 - ETA: 9s - loss: 1.134 - ETA: 9s - loss: 1.135 - ETA: 8s - loss: 1.135 - ETA: 8s - loss: 1.135 - ETA: 8s - loss: 1.135 - ETA: 8s - loss: 1.135 - ETA: 8s - loss: 1.135 - ETA: 8s - loss: 1.135 - ETA: 8s - loss: 1.135 - ETA: 8s - loss: 1.134 - ETA: 8s - loss: 1.135 - ETA: 8s - loss: 1.135 - ETA: 8s - loss: 1.135 - ETA: 8s - loss: 1.135 - ETA: 8s - loss: 1.135 - ETA: 8s - loss: 1.134 - ETA: 8s - loss: 1.134 - ETA: 8s - loss: 1.134 - ETA: 8s - loss: 1.134 - ETA: 8s - loss: 1.134 - ETA: 8s - loss: 1.134 - ETA: 8s - loss: 1.134 - ETA: 8s - loss: 1.134 - ETA: 8s - loss: 1.134 - ETA: 7s - loss: 1.134 - ETA: 7s - loss: 1.135 - ETA: 7s - loss: 1.135 - ETA: 7s - loss: 1.135 - ETA: 7s - loss: 1.135 - ETA: 7s - loss: 1.136 - ETA: 7s - loss: 1.136 - ETA: 7s - loss: 1.136 - ETA: 7s - loss: 1.135 - ETA: 7s - loss: 1.135 - ETA: 7s - loss: 1.135 - ETA: 7s - loss: 1.135 - ETA: 7s - loss: 1.135 - ETA: 7s - loss: 1.135 - ETA: 7s - loss: 1.135 - ETA: 6s - loss: 1.135 - ETA: 6s - loss: 1.135 - ETA: 6s - loss: 1.136 - ETA: 6s - loss: 1.136 - ETA: 6s - loss: 1.136 - ETA: 6s - loss: 1.137 - ETA: 6s - loss: 1.137 - ETA: 6s - loss: 1.137 - ETA: 6s - loss: 1.137 - ETA: 6s - loss: 1.137 - ETA: 6s - loss: 1.138 - ETA: 6s - loss: 1.137 - ETA: 6s - loss: 1.137 - ETA: 6s - loss: 1.138 - ETA: 6s - loss: 1.138 - ETA: 6s - loss: 1.138 - ETA: 6s - loss: 1.138 - ETA: 6s - loss: 1.138 - ETA: 6s - loss: 1.138 - ETA: 6s - loss: 1.138 - ETA: 6s - loss: 1.138 - ETA: 6s - loss: 1.137 - ETA: 6s - loss: 1.138 - ETA: 6s - loss: 1.137 - ETA: 6s - loss: 1.137 - ETA: 5s - loss: 1.138 - ETA: 5s - loss: 1.137 - ETA: 5s - loss: 1.137 - ETA: 5s - loss: 1.137 - ETA: 5s - loss: 1.137 - ETA: 5s - loss: 1.138 - ETA: 5s - loss: 1.138 - ETA: 5s - loss: 1.137 - ETA: 5s - loss: 1.137 - ETA: 5s - loss: 1.138 - ETA: 5s - loss: 1.138 - ETA: 5s - loss: 1.138 - ETA: 5s - loss: 1.138 - ETA: 5s - loss: 1.139 - ETA: 5s - loss: 1.139 - ETA: 5s - loss: 1.139 - ETA: 5s - loss: 1.139 - ETA: 5s - loss: 1.138 - ETA: 5s - loss: 1.138 - ETA: 4s - loss: 1.138 - ETA: 4s - loss: 1.139 - ETA: 4s - loss: 1.139 - ETA: 4s - loss: 1.139 - ETA: 4s - loss: 1.140 - ETA: 4s - loss: 1.140 - ETA: 4s - loss: 1.140 - ETA: 4s - loss: 1.140 - ETA: 4s - loss: 1.140 - ETA: 4s - loss: 1.140 - ETA: 4s - loss: 1.140 - ETA: 4s - loss: 1.140 - ETA: 4s - loss: 1.141 - ETA: 4s - loss: 1.141 - ETA: 4s - loss: 1.141 - ETA: 4s - loss: 1.140 - ETA: 3s - loss: 1.141 - ETA: 3s - loss: 1.141 - ETA: 3s - loss: 1.141 - ETA: 3s - loss: 1.141 - ETA: 3s - loss: 1.141 - ETA: 3s - loss: 1.141 - ETA: 3s - loss: 1.141 - ETA: 3s - loss: 1.141 - ETA: 3s - loss: 1.141 - ETA: 3s - loss: 1.141 - ETA: 3s - loss: 1.142 - ETA: 3s - loss: 1.141 - ETA: 3s - loss: 1.142 - ETA: 3s - loss: 1.142 - ETA: 3s - loss: 1.142 - ETA: 3s - loss: 1.142 - ETA: 2s - loss: 1.142 - ETA: 2s - loss: 1.142 - ETA: 2s - loss: 1.142 - ETA: 2s - loss: 1.142 - ETA: 2s - loss: 1.142 - ETA: 2s - loss: 1.142 - ETA: 2s - loss: 1.142 - ETA: 2s - loss: 1.142 - ETA: 2s - loss: 1.142 - ETA: 2s - loss: 1.142 - ETA: 2s - loss: 1.142 - ETA: 2s - loss: 1.142 - ETA: 2s - loss: 1.142 - ETA: 2s - loss: 1.142 - ETA: 2s - loss: 1.143 - ETA: 2s - loss: 1.142 - ETA: 2s - loss: 1.143 - ETA: 2s - loss: 1.143 - ETA: 1s - loss: 1.143 - ETA: 1s - loss: 1.143 - ETA: 1s - loss: 1.143 - ETA: 1s - loss: 1.143 - ETA: 1s - loss: 1.143 - ETA: 1s - loss: 1.144 - ETA: 1s - loss: 1.144 - ETA: 1s - loss: 1.143 - ETA: 1s - loss: 1.143 - ETA: 1s - loss: 1.143 - ETA: 1s - loss: 1.143 - ETA: 1s - loss: 1.143 - ETA: 1s - loss: 1.143 - ETA: 1s - loss: 1.143 - ETA: 1s - loss: 1.143 - ETA: 1s - loss: 1.143 - ETA: 1s - loss: 1.143 - ETA: 1s - loss: 1.143 - ETA: 1s - loss: 1.143 - ETA: 1s - loss: 1.143 - ETA: 1s - loss: 1.143 - ETA: 0s - loss: 1.143 - ETA: 0s - loss: 1.143 - ETA: 0s - loss: 1.143 - ETA: 0s - loss: 1.143 - ETA: 0s - loss: 1.143 - ETA: 0s - loss: 1.143 - ETA: 0s - loss: 1.143 - ETA: 0s - loss: 1.143 - ETA: 0s - loss: 1.143 - ETA: 0s - loss: 1.143 - ETA: 0s - loss: 1.143 - ETA: 0s - loss: 1.143 - ETA: 0s - loss: 1.143 - ETA: 0s - loss: 1.143 - ETA: 0s - loss: 1.143 - ETA: 0s - loss: 1.143 - ETA: 0s - loss: 1.143 - 15s 202us/step - loss: 1.1442 - val_loss: 1.2356\n",
      "Epoch 16/20\n"
     ]
    },
    {
     "name": "stdout",
     "output_type": "stream",
     "text": [
      "75006/75006 [==============================] - ETA: 20s - loss: 1.16 - ETA: 13s - loss: 1.08 - ETA: 13s - loss: 1.10 - ETA: 12s - loss: 1.09 - ETA: 12s - loss: 1.10 - ETA: 12s - loss: 1.11 - ETA: 12s - loss: 1.12 - ETA: 12s - loss: 1.12 - ETA: 12s - loss: 1.12 - ETA: 12s - loss: 1.12 - ETA: 12s - loss: 1.13 - ETA: 12s - loss: 1.12 - ETA: 12s - loss: 1.12 - ETA: 12s - loss: 1.12 - ETA: 12s - loss: 1.12 - ETA: 12s - loss: 1.12 - ETA: 11s - loss: 1.12 - ETA: 11s - loss: 1.12 - ETA: 11s - loss: 1.12 - ETA: 11s - loss: 1.12 - ETA: 11s - loss: 1.12 - ETA: 11s - loss: 1.12 - ETA: 11s - loss: 1.12 - ETA: 11s - loss: 1.12 - ETA: 11s - loss: 1.12 - ETA: 11s - loss: 1.12 - ETA: 11s - loss: 1.12 - ETA: 11s - loss: 1.12 - ETA: 11s - loss: 1.12 - ETA: 11s - loss: 1.12 - ETA: 11s - loss: 1.12 - ETA: 11s - loss: 1.12 - ETA: 11s - loss: 1.12 - ETA: 10s - loss: 1.12 - ETA: 10s - loss: 1.12 - ETA: 10s - loss: 1.12 - ETA: 10s - loss: 1.12 - ETA: 10s - loss: 1.12 - ETA: 10s - loss: 1.12 - ETA: 10s - loss: 1.12 - ETA: 10s - loss: 1.12 - ETA: 10s - loss: 1.12 - ETA: 10s - loss: 1.13 - ETA: 10s - loss: 1.13 - ETA: 10s - loss: 1.13 - ETA: 10s - loss: 1.13 - ETA: 10s - loss: 1.12 - ETA: 10s - loss: 1.12 - ETA: 10s - loss: 1.12 - ETA: 10s - loss: 1.12 - ETA: 10s - loss: 1.12 - ETA: 10s - loss: 1.12 - ETA: 9s - loss: 1.1276 - ETA: 9s - loss: 1.127 - ETA: 9s - loss: 1.127 - ETA: 9s - loss: 1.128 - ETA: 9s - loss: 1.129 - ETA: 9s - loss: 1.129 - ETA: 9s - loss: 1.130 - ETA: 9s - loss: 1.131 - ETA: 9s - loss: 1.131 - ETA: 9s - loss: 1.132 - ETA: 9s - loss: 1.132 - ETA: 9s - loss: 1.132 - ETA: 9s - loss: 1.132 - ETA: 9s - loss: 1.133 - ETA: 9s - loss: 1.134 - ETA: 9s - loss: 1.134 - ETA: 9s - loss: 1.133 - ETA: 9s - loss: 1.132 - ETA: 9s - loss: 1.134 - ETA: 9s - loss: 1.134 - ETA: 9s - loss: 1.134 - ETA: 9s - loss: 1.132 - ETA: 9s - loss: 1.133 - ETA: 9s - loss: 1.132 - ETA: 8s - loss: 1.132 - ETA: 8s - loss: 1.132 - ETA: 8s - loss: 1.132 - ETA: 8s - loss: 1.132 - ETA: 8s - loss: 1.132 - ETA: 8s - loss: 1.132 - ETA: 8s - loss: 1.130 - ETA: 8s - loss: 1.130 - ETA: 8s - loss: 1.129 - ETA: 8s - loss: 1.129 - ETA: 8s - loss: 1.129 - ETA: 8s - loss: 1.129 - ETA: 8s - loss: 1.129 - ETA: 8s - loss: 1.129 - ETA: 8s - loss: 1.128 - ETA: 8s - loss: 1.128 - ETA: 8s - loss: 1.129 - ETA: 8s - loss: 1.129 - ETA: 8s - loss: 1.129 - ETA: 8s - loss: 1.130 - ETA: 8s - loss: 1.130 - ETA: 8s - loss: 1.130 - ETA: 8s - loss: 1.130 - ETA: 8s - loss: 1.131 - ETA: 8s - loss: 1.131 - ETA: 8s - loss: 1.130 - ETA: 8s - loss: 1.130 - ETA: 8s - loss: 1.130 - ETA: 8s - loss: 1.131 - ETA: 8s - loss: 1.130 - ETA: 7s - loss: 1.130 - ETA: 7s - loss: 1.129 - ETA: 7s - loss: 1.129 - ETA: 7s - loss: 1.129 - ETA: 7s - loss: 1.128 - ETA: 7s - loss: 1.128 - ETA: 7s - loss: 1.129 - ETA: 7s - loss: 1.130 - ETA: 7s - loss: 1.130 - ETA: 7s - loss: 1.130 - ETA: 7s - loss: 1.131 - ETA: 7s - loss: 1.131 - ETA: 7s - loss: 1.131 - ETA: 7s - loss: 1.131 - ETA: 7s - loss: 1.131 - ETA: 7s - loss: 1.131 - ETA: 7s - loss: 1.131 - ETA: 7s - loss: 1.131 - ETA: 7s - loss: 1.132 - ETA: 7s - loss: 1.131 - ETA: 6s - loss: 1.132 - ETA: 6s - loss: 1.132 - ETA: 6s - loss: 1.133 - ETA: 6s - loss: 1.133 - ETA: 6s - loss: 1.133 - ETA: 6s - loss: 1.134 - ETA: 6s - loss: 1.133 - ETA: 6s - loss: 1.133 - ETA: 6s - loss: 1.134 - ETA: 6s - loss: 1.133 - ETA: 6s - loss: 1.134 - ETA: 6s - loss: 1.133 - ETA: 6s - loss: 1.134 - ETA: 6s - loss: 1.134 - ETA: 6s - loss: 1.134 - ETA: 6s - loss: 1.133 - ETA: 6s - loss: 1.133 - ETA: 5s - loss: 1.133 - ETA: 5s - loss: 1.133 - ETA: 5s - loss: 1.133 - ETA: 5s - loss: 1.133 - ETA: 5s - loss: 1.134 - ETA: 5s - loss: 1.134 - ETA: 5s - loss: 1.134 - ETA: 5s - loss: 1.135 - ETA: 5s - loss: 1.135 - ETA: 5s - loss: 1.135 - ETA: 5s - loss: 1.135 - ETA: 5s - loss: 1.135 - ETA: 5s - loss: 1.135 - ETA: 5s - loss: 1.135 - ETA: 5s - loss: 1.134 - ETA: 5s - loss: 1.135 - ETA: 5s - loss: 1.135 - ETA: 5s - loss: 1.135 - ETA: 4s - loss: 1.135 - ETA: 4s - loss: 1.135 - ETA: 4s - loss: 1.136 - ETA: 4s - loss: 1.135 - ETA: 4s - loss: 1.136 - ETA: 4s - loss: 1.136 - ETA: 4s - loss: 1.136 - ETA: 4s - loss: 1.136 - ETA: 4s - loss: 1.136 - ETA: 4s - loss: 1.136 - ETA: 4s - loss: 1.136 - ETA: 4s - loss: 1.136 - ETA: 4s - loss: 1.136 - ETA: 4s - loss: 1.136 - ETA: 4s - loss: 1.137 - ETA: 4s - loss: 1.137 - ETA: 4s - loss: 1.137 - ETA: 4s - loss: 1.137 - ETA: 4s - loss: 1.137 - ETA: 4s - loss: 1.137 - ETA: 4s - loss: 1.137 - ETA: 4s - loss: 1.137 - ETA: 4s - loss: 1.137 - ETA: 3s - loss: 1.136 - ETA: 3s - loss: 1.136 - ETA: 3s - loss: 1.137 - ETA: 3s - loss: 1.137 - ETA: 3s - loss: 1.137 - ETA: 3s - loss: 1.137 - ETA: 3s - loss: 1.137 - ETA: 3s - loss: 1.137 - ETA: 3s - loss: 1.137 - ETA: 3s - loss: 1.137 - ETA: 3s - loss: 1.137 - ETA: 3s - loss: 1.137 - ETA: 3s - loss: 1.138 - ETA: 3s - loss: 1.138 - ETA: 3s - loss: 1.137 - ETA: 3s - loss: 1.138 - ETA: 3s - loss: 1.138 - ETA: 3s - loss: 1.138 - ETA: 3s - loss: 1.138 - ETA: 2s - loss: 1.138 - ETA: 2s - loss: 1.138 - ETA: 2s - loss: 1.139 - ETA: 2s - loss: 1.139 - ETA: 2s - loss: 1.139 - ETA: 2s - loss: 1.139 - ETA: 2s - loss: 1.139 - ETA: 2s - loss: 1.139 - ETA: 2s - loss: 1.139 - ETA: 2s - loss: 1.139 - ETA: 2s - loss: 1.139 - ETA: 2s - loss: 1.139 - ETA: 2s - loss: 1.139 - ETA: 2s - loss: 1.139 - ETA: 2s - loss: 1.139 - ETA: 2s - loss: 1.139 - ETA: 2s - loss: 1.139 - ETA: 1s - loss: 1.139 - ETA: 1s - loss: 1.139 - ETA: 1s - loss: 1.139 - ETA: 1s - loss: 1.139 - ETA: 1s - loss: 1.139 - ETA: 1s - loss: 1.140 - ETA: 1s - loss: 1.139 - ETA: 1s - loss: 1.140 - ETA: 1s - loss: 1.140 - ETA: 1s - loss: 1.140 - ETA: 1s - loss: 1.141 - ETA: 1s - loss: 1.141 - ETA: 1s - loss: 1.141 - ETA: 1s - loss: 1.141 - ETA: 1s - loss: 1.141 - ETA: 1s - loss: 1.141 - ETA: 1s - loss: 1.141 - ETA: 0s - loss: 1.141 - ETA: 0s - loss: 1.141 - ETA: 0s - loss: 1.141 - ETA: 0s - loss: 1.141 - ETA: 0s - loss: 1.141 - ETA: 0s - loss: 1.141 - ETA: 0s - loss: 1.141 - ETA: 0s - loss: 1.141 - ETA: 0s - loss: 1.141 - ETA: 0s - loss: 1.141 - ETA: 0s - loss: 1.141 - ETA: 0s - loss: 1.141 - ETA: 0s - loss: 1.141 - ETA: 0s - loss: 1.141 - ETA: 0s - loss: 1.141 - ETA: 0s - loss: 1.141 - ETA: 0s - loss: 1.141 - ETA: 0s - loss: 1.141 - ETA: 0s - loss: 1.141 - ETA: 0s - loss: 1.141 - 14s 186us/step - loss: 1.1414 - val_loss: 1.2430\n",
      "Epoch 17/20\n",
      "75006/75006 [==============================] - ETA: 18s - loss: 1.00 - ETA: 13s - loss: 1.06 - ETA: 13s - loss: 1.10 - ETA: 13s - loss: 1.13 - ETA: 13s - loss: 1.11 - ETA: 13s - loss: 1.11 - ETA: 13s - loss: 1.12 - ETA: 13s - loss: 1.11 - ETA: 13s - loss: 1.11 - ETA: 13s - loss: 1.12 - ETA: 13s - loss: 1.12 - ETA: 13s - loss: 1.12 - ETA: 14s - loss: 1.12 - ETA: 14s - loss: 1.12 - ETA: 14s - loss: 1.11 - ETA: 13s - loss: 1.12 - ETA: 13s - loss: 1.11 - ETA: 13s - loss: 1.11 - ETA: 13s - loss: 1.12 - ETA: 13s - loss: 1.12 - ETA: 13s - loss: 1.12 - ETA: 13s - loss: 1.12 - ETA: 13s - loss: 1.12 - ETA: 13s - loss: 1.12 - ETA: 13s - loss: 1.12 - ETA: 13s - loss: 1.13 - ETA: 13s - loss: 1.13 - ETA: 13s - loss: 1.13 - ETA: 12s - loss: 1.13 - ETA: 12s - loss: 1.13 - ETA: 12s - loss: 1.13 - ETA: 12s - loss: 1.13 - ETA: 12s - loss: 1.13 - ETA: 12s - loss: 1.13 - ETA: 12s - loss: 1.13 - ETA: 12s - loss: 1.13 - ETA: 12s - loss: 1.13 - ETA: 12s - loss: 1.13 - ETA: 12s - loss: 1.13 - ETA: 11s - loss: 1.13 - ETA: 11s - loss: 1.13 - ETA: 11s - loss: 1.13 - ETA: 11s - loss: 1.12 - ETA: 11s - loss: 1.12 - ETA: 11s - loss: 1.12 - ETA: 11s - loss: 1.12 - ETA: 11s - loss: 1.12 - ETA: 11s - loss: 1.12 - ETA: 11s - loss: 1.12 - ETA: 11s - loss: 1.12 - ETA: 11s - loss: 1.12 - ETA: 11s - loss: 1.12 - ETA: 11s - loss: 1.12 - ETA: 10s - loss: 1.12 - ETA: 10s - loss: 1.12 - ETA: 10s - loss: 1.12 - ETA: 10s - loss: 1.12 - ETA: 10s - loss: 1.12 - ETA: 10s - loss: 1.12 - ETA: 10s - loss: 1.12 - ETA: 10s - loss: 1.12 - ETA: 10s - loss: 1.12 - ETA: 10s - loss: 1.12 - ETA: 10s - loss: 1.12 - ETA: 10s - loss: 1.12 - ETA: 10s - loss: 1.12 - ETA: 10s - loss: 1.12 - ETA: 10s - loss: 1.12 - ETA: 10s - loss: 1.12 - ETA: 10s - loss: 1.12 - ETA: 9s - loss: 1.1250 - ETA: 9s - loss: 1.125 - ETA: 9s - loss: 1.124 - ETA: 9s - loss: 1.124 - ETA: 9s - loss: 1.124 - ETA: 9s - loss: 1.124 - ETA: 9s - loss: 1.124 - ETA: 9s - loss: 1.125 - ETA: 9s - loss: 1.124 - ETA: 9s - loss: 1.124 - ETA: 9s - loss: 1.124 - ETA: 9s - loss: 1.124 - ETA: 9s - loss: 1.125 - ETA: 9s - loss: 1.125 - ETA: 9s - loss: 1.126 - ETA: 9s - loss: 1.126 - ETA: 8s - loss: 1.126 - ETA: 8s - loss: 1.126 - ETA: 8s - loss: 1.127 - ETA: 8s - loss: 1.127 - ETA: 8s - loss: 1.128 - ETA: 8s - loss: 1.129 - ETA: 8s - loss: 1.128 - ETA: 8s - loss: 1.128 - ETA: 8s - loss: 1.128 - ETA: 8s - loss: 1.128 - ETA: 8s - loss: 1.128 - ETA: 8s - loss: 1.129 - ETA: 8s - loss: 1.130 - ETA: 8s - loss: 1.130 - ETA: 8s - loss: 1.130 - ETA: 8s - loss: 1.130 - ETA: 8s - loss: 1.131 - ETA: 8s - loss: 1.131 - ETA: 7s - loss: 1.131 - ETA: 7s - loss: 1.132 - ETA: 7s - loss: 1.131 - ETA: 7s - loss: 1.131 - ETA: 7s - loss: 1.131 - ETA: 7s - loss: 1.131 - ETA: 7s - loss: 1.132 - ETA: 7s - loss: 1.132 - ETA: 7s - loss: 1.132 - ETA: 7s - loss: 1.133 - ETA: 7s - loss: 1.133 - ETA: 7s - loss: 1.133 - ETA: 7s - loss: 1.132 - ETA: 7s - loss: 1.133 - ETA: 7s - loss: 1.133 - ETA: 7s - loss: 1.133 - ETA: 7s - loss: 1.133 - ETA: 7s - loss: 1.133 - ETA: 6s - loss: 1.133 - ETA: 6s - loss: 1.133 - ETA: 6s - loss: 1.133 - ETA: 6s - loss: 1.133 - ETA: 6s - loss: 1.133 - ETA: 6s - loss: 1.133 - ETA: 6s - loss: 1.134 - ETA: 6s - loss: 1.134 - ETA: 6s - loss: 1.134 - ETA: 6s - loss: 1.134 - ETA: 6s - loss: 1.134 - ETA: 6s - loss: 1.134 - ETA: 6s - loss: 1.134 - ETA: 6s - loss: 1.134 - ETA: 6s - loss: 1.135 - ETA: 6s - loss: 1.136 - ETA: 6s - loss: 1.136 - ETA: 5s - loss: 1.136 - ETA: 5s - loss: 1.136 - ETA: 5s - loss: 1.136 - ETA: 5s - loss: 1.136 - ETA: 5s - loss: 1.135 - ETA: 5s - loss: 1.135 - ETA: 5s - loss: 1.135 - ETA: 5s - loss: 1.134 - ETA: 5s - loss: 1.134 - ETA: 5s - loss: 1.134 - ETA: 5s - loss: 1.135 - ETA: 5s - loss: 1.135 - ETA: 5s - loss: 1.135 - ETA: 5s - loss: 1.135 - ETA: 5s - loss: 1.135 - ETA: 5s - loss: 1.135 - ETA: 5s - loss: 1.135 - ETA: 5s - loss: 1.135 - ETA: 4s - loss: 1.135 - ETA: 4s - loss: 1.135 - ETA: 4s - loss: 1.136 - ETA: 4s - loss: 1.136 - ETA: 4s - loss: 1.136 - ETA: 4s - loss: 1.135 - ETA: 4s - loss: 1.135 - ETA: 4s - loss: 1.135 - ETA: 4s - loss: 1.135 - ETA: 4s - loss: 1.136 - ETA: 4s - loss: 1.135 - ETA: 4s - loss: 1.135 - ETA: 4s - loss: 1.136 - ETA: 4s - loss: 1.135 - ETA: 4s - loss: 1.135 - ETA: 4s - loss: 1.135 - ETA: 4s - loss: 1.135 - ETA: 4s - loss: 1.135 - ETA: 4s - loss: 1.135 - ETA: 3s - loss: 1.135 - ETA: 3s - loss: 1.134 - ETA: 3s - loss: 1.134 - ETA: 3s - loss: 1.135 - ETA: 3s - loss: 1.135 - ETA: 3s - loss: 1.135 - ETA: 3s - loss: 1.135 - ETA: 3s - loss: 1.135 - ETA: 3s - loss: 1.135 - ETA: 3s - loss: 1.135 - ETA: 3s - loss: 1.135 - ETA: 3s - loss: 1.135 - ETA: 3s - loss: 1.135 - ETA: 3s - loss: 1.135 - ETA: 3s - loss: 1.135 - ETA: 3s - loss: 1.135 - ETA: 3s - loss: 1.135 - ETA: 3s - loss: 1.135 - ETA: 2s - loss: 1.134 - ETA: 2s - loss: 1.134 - ETA: 2s - loss: 1.134 - ETA: 2s - loss: 1.134 - ETA: 2s - loss: 1.134 - ETA: 2s - loss: 1.135 - ETA: 2s - loss: 1.135 - ETA: 2s - loss: 1.135 - ETA: 2s - loss: 1.135 - ETA: 2s - loss: 1.135 - ETA: 2s - loss: 1.135 - ETA: 2s - loss: 1.135 - ETA: 2s - loss: 1.135 - ETA: 2s - loss: 1.135 - ETA: 2s - loss: 1.135 - ETA: 2s - loss: 1.135 - ETA: 2s - loss: 1.135 - ETA: 2s - loss: 1.135 - ETA: 2s - loss: 1.135 - ETA: 2s - loss: 1.135 - ETA: 1s - loss: 1.135 - ETA: 1s - loss: 1.135 - ETA: 1s - loss: 1.136 - ETA: 1s - loss: 1.136 - ETA: 1s - loss: 1.136 - ETA: 1s - loss: 1.136 - ETA: 1s - loss: 1.136 - ETA: 1s - loss: 1.136 - ETA: 1s - loss: 1.136 - ETA: 1s - loss: 1.136 - ETA: 1s - loss: 1.136 - ETA: 1s - loss: 1.136 - ETA: 1s - loss: 1.136 - ETA: 1s - loss: 1.136 - ETA: 1s - loss: 1.136 - ETA: 1s - loss: 1.136 - ETA: 1s - loss: 1.136 - ETA: 1s - loss: 1.136 - ETA: 1s - loss: 1.136 - ETA: 0s - loss: 1.136 - ETA: 0s - loss: 1.137 - ETA: 0s - loss: 1.136 - ETA: 0s - loss: 1.136 - ETA: 0s - loss: 1.136 - ETA: 0s - loss: 1.137 - ETA: 0s - loss: 1.137 - ETA: 0s - loss: 1.137 - ETA: 0s - loss: 1.137 - ETA: 0s - loss: 1.137 - ETA: 0s - loss: 1.138 - ETA: 0s - loss: 1.137 - ETA: 0s - loss: 1.137 - ETA: 0s - loss: 1.137 - ETA: 0s - loss: 1.137 - ETA: 0s - loss: 1.137 - ETA: 0s - loss: 1.137 - ETA: 0s - loss: 1.137 - ETA: 0s - loss: 1.137 - ETA: 0s - loss: 1.137 - 15s 203us/step - loss: 1.1377 - val_loss: 1.2401\n",
      "Epoch 18/20\n"
     ]
    },
    {
     "name": "stdout",
     "output_type": "stream",
     "text": [
      "21376/75006 [=======>......................] - ETA: 1:10 - loss: 1.197 - ETA: 1:06 - loss: 1.219 - ETA: 1:06 - loss: 1.157 - ETA: 1:05 - loss: 1.163 - ETA: 1:05 - loss: 1.129 - ETA: 1:05 - loss: 1.129 - ETA: 1:05 - loss: 1.110 - ETA: 1:05 - loss: 1.096 - ETA: 1:05 - loss: 1.118 - ETA: 1:05 - loss: 1.113 - ETA: 1:05 - loss: 1.113 - ETA: 1:07 - loss: 1.108 - ETA: 1:06 - loss: 1.139 - ETA: 1:07 - loss: 1.142 - ETA: 1:06 - loss: 1.146 - ETA: 1:06 - loss: 1.151 - ETA: 1:06 - loss: 1.155 - ETA: 1:06 - loss: 1.150 - ETA: 1:06 - loss: 1.148 - ETA: 1:06 - loss: 1.147 - ETA: 1:06 - loss: 1.146 - ETA: 1:05 - loss: 1.142 - ETA: 1:05 - loss: 1.136 - ETA: 1:05 - loss: 1.138 - ETA: 1:05 - loss: 1.131 - ETA: 1:05 - loss: 1.130 - ETA: 1:05 - loss: 1.129 - ETA: 1:05 - loss: 1.128 - ETA: 1:04 - loss: 1.130 - ETA: 1:04 - loss: 1.128 - ETA: 1:04 - loss: 1.134 - ETA: 1:04 - loss: 1.134 - ETA: 1:04 - loss: 1.132 - ETA: 1:04 - loss: 1.132 - ETA: 1:04 - loss: 1.134 - ETA: 1:04 - loss: 1.137 - ETA: 1:04 - loss: 1.134 - ETA: 1:04 - loss: 1.135 - ETA: 1:04 - loss: 1.135 - ETA: 1:03 - loss: 1.135 - ETA: 1:03 - loss: 1.135 - ETA: 1:03 - loss: 1.133 - ETA: 1:03 - loss: 1.131 - ETA: 1:03 - loss: 1.130 - ETA: 1:03 - loss: 1.130 - ETA: 1:03 - loss: 1.130 - ETA: 1:02 - loss: 1.131 - ETA: 1:02 - loss: 1.126 - ETA: 1:02 - loss: 1.127 - ETA: 1:02 - loss: 1.129 - ETA: 1:02 - loss: 1.127 - ETA: 1:02 - loss: 1.127 - ETA: 1:02 - loss: 1.124 - ETA: 1:02 - loss: 1.121 - ETA: 1:02 - loss: 1.121 - ETA: 1:02 - loss: 1.120 - ETA: 1:02 - loss: 1.118 - ETA: 1:01 - loss: 1.118 - ETA: 1:01 - loss: 1.117 - ETA: 1:01 - loss: 1.115 - ETA: 1:01 - loss: 1.114 - ETA: 1:01 - loss: 1.111 - ETA: 1:01 - loss: 1.110 - ETA: 1:01 - loss: 1.109 - ETA: 1:01 - loss: 1.109 - ETA: 1:01 - loss: 1.110 - ETA: 1:01 - loss: 1.114 - ETA: 1:01 - loss: 1.116 - ETA: 1:01 - loss: 1.116 - ETA: 1:01 - loss: 1.116 - ETA: 1:01 - loss: 1.114 - ETA: 1:01 - loss: 1.111 - ETA: 1:00 - loss: 1.112 - ETA: 1:00 - loss: 1.114 - ETA: 1:00 - loss: 1.114 - ETA: 1:00 - loss: 1.111 - ETA: 1:00 - loss: 1.111 - ETA: 1:00 - loss: 1.112 - ETA: 1:00 - loss: 1.112 - ETA: 1:00 - loss: 1.112 - ETA: 1:00 - loss: 1.113 - ETA: 1:00 - loss: 1.113 - ETA: 1:00 - loss: 1.113 - ETA: 1:00 - loss: 1.113 - ETA: 1:00 - loss: 1.113 - ETA: 1:00 - loss: 1.114 - ETA: 1:00 - loss: 1.113 - ETA: 1:00 - loss: 1.113 - ETA: 1:00 - loss: 1.111 - ETA: 1:00 - loss: 1.112 - ETA: 59s - loss: 1.112 - ETA: 59s - loss: 1.11 - ETA: 59s - loss: 1.11 - ETA: 59s - loss: 1.11 - ETA: 59s - loss: 1.11 - ETA: 59s - loss: 1.11 - ETA: 59s - loss: 1.11 - ETA: 59s - loss: 1.11 - ETA: 59s - loss: 1.11 - ETA: 59s - loss: 1.11 - ETA: 59s - loss: 1.11 - ETA: 59s - loss: 1.11 - ETA: 58s - loss: 1.11 - ETA: 58s - loss: 1.11 - ETA: 58s - loss: 1.11 - ETA: 58s - loss: 1.11 - ETA: 58s - loss: 1.11 - ETA: 58s - loss: 1.11 - ETA: 58s - loss: 1.11 - ETA: 58s - loss: 1.11 - ETA: 58s - loss: 1.11 - ETA: 58s - loss: 1.10 - ETA: 58s - loss: 1.11 - ETA: 58s - loss: 1.11 - ETA: 58s - loss: 1.11 - ETA: 58s - loss: 1.11 - ETA: 58s - loss: 1.11 - ETA: 58s - loss: 1.11 - ETA: 58s - loss: 1.11 - ETA: 58s - loss: 1.11 - ETA: 57s - loss: 1.11 - ETA: 57s - loss: 1.10 - ETA: 57s - loss: 1.11 - ETA: 57s - loss: 1.11 - ETA: 57s - loss: 1.11 - ETA: 57s - loss: 1.11 - ETA: 57s - loss: 1.11 - ETA: 57s - loss: 1.11 - ETA: 57s - loss: 1.11 - ETA: 57s - loss: 1.11 - ETA: 57s - loss: 1.11 - ETA: 57s - loss: 1.11 - ETA: 57s - loss: 1.11 - ETA: 57s - loss: 1.11 - ETA: 57s - loss: 1.11 - ETA: 56s - loss: 1.11 - ETA: 56s - loss: 1.11 - ETA: 56s - loss: 1.11 - ETA: 56s - loss: 1.11 - ETA: 56s - loss: 1.11 - ETA: 56s - loss: 1.11 - ETA: 56s - loss: 1.11 - ETA: 56s - loss: 1.11 - ETA: 56s - loss: 1.11 - ETA: 56s - loss: 1.11 - ETA: 56s - loss: 1.11 - ETA: 56s - loss: 1.11 - ETA: 56s - loss: 1.12 - ETA: 56s - loss: 1.11 - ETA: 56s - loss: 1.12 - ETA: 55s - loss: 1.12 - ETA: 55s - loss: 1.12 - ETA: 55s - loss: 1.12 - ETA: 55s - loss: 1.12 - ETA: 55s - loss: 1.12 - ETA: 55s - loss: 1.12 - ETA: 55s - loss: 1.12 - ETA: 55s - loss: 1.12 - ETA: 55s - loss: 1.12 - ETA: 55s - loss: 1.12 - ETA: 55s - loss: 1.11 - ETA: 55s - loss: 1.11 - ETA: 55s - loss: 1.12 - ETA: 55s - loss: 1.12 - ETA: 55s - loss: 1.12 - ETA: 55s - loss: 1.12 - ETA: 55s - loss: 1.12 - ETA: 54s - loss: 1.12 - ETA: 54s - loss: 1.12 - ETA: 54s - loss: 1.12 - ETA: 54s - loss: 1.12 - ETA: 54s - loss: 1.12 - ETA: 54s - loss: 1.12 - ETA: 54s - loss: 1.12 - ETA: 54s - loss: 1.12 - ETA: 54s - loss: 1.12 - ETA: 54s - loss: 1.12 - ETA: 54s - loss: 1.12 - ETA: 54s - loss: 1.12 - ETA: 54s - loss: 1.12 - ETA: 54s - loss: 1.12 - ETA: 54s - loss: 1.12 - ETA: 54s - loss: 1.12 - ETA: 54s - loss: 1.12 - ETA: 54s - loss: 1.12 - ETA: 54s - loss: 1.12 - ETA: 54s - loss: 1.12 - ETA: 54s - loss: 1.12 - ETA: 54s - loss: 1.12 - ETA: 54s - loss: 1.12 - ETA: 54s - loss: 1.12 - ETA: 54s - loss: 1.12 - ETA: 54s - loss: 1.12 - ETA: 54s - loss: 1.12 - ETA: 54s - loss: 1.12 - ETA: 54s - loss: 1.12 - ETA: 54s - loss: 1.12 - ETA: 54s - loss: 1.11 - ETA: 54s - loss: 1.11 - ETA: 54s - loss: 1.11 - ETA: 54s - loss: 1.11 - ETA: 54s - loss: 1.11 - ETA: 54s - loss: 1.11 - ETA: 54s - loss: 1.11 - ETA: 54s - loss: 1.11 - ETA: 54s - loss: 1.11 - ETA: 54s - loss: 1.11 - ETA: 53s - loss: 1.11 - ETA: 53s - loss: 1.11 - ETA: 53s - loss: 1.11 - ETA: 53s - loss: 1.11 - ETA: 53s - loss: 1.12 - ETA: 53s - loss: 1.12 - ETA: 53s - loss: 1.12 - ETA: 53s - loss: 1.12 - ETA: 53s - loss: 1.11 - ETA: 53s - loss: 1.11 - ETA: 53s - loss: 1.11 - ETA: 53s - loss: 1.11 - ETA: 53s - loss: 1.11 - ETA: 53s - loss: 1.11 - ETA: 53s - loss: 1.11 - ETA: 53s - loss: 1.11 - ETA: 53s - loss: 1.11 - ETA: 53s - loss: 1.11 - ETA: 52s - loss: 1.11 - ETA: 52s - loss: 1.11 - ETA: 52s - loss: 1.11 - ETA: 52s - loss: 1.11 - ETA: 52s - loss: 1.11 - ETA: 52s - loss: 1.11 - ETA: 52s - loss: 1.11 - ETA: 52s - loss: 1.11 - ETA: 52s - loss: 1.11 - ETA: 52s - loss: 1.11 - ETA: 52s - loss: 1.11 - ETA: 52s - loss: 1.11 - ETA: 52s - loss: 1.11 - ETA: 52s - loss: 1.12 - ETA: 52s - loss: 1.11 - ETA: 51s - loss: 1.11 - ETA: 51s - loss: 1.11 - ETA: 51s - loss: 1.11 - ETA: 51s - loss: 1.11 - ETA: 51s - loss: 1.11 - ETA: 51s - loss: 1.11 - ETA: 51s - loss: 1.11 - ETA: 51s - loss: 1.11 - ETA: 51s - loss: 1.11 - ETA: 51s - loss: 1.11 - ETA: 51s - loss: 1.11 - ETA: 51s - loss: 1.11 - ETA: 51s - loss: 1.11 - ETA: 51s - loss: 1.11 - ETA: 51s - loss: 1.11 - ETA: 51s - loss: 1.11 - ETA: 51s - loss: 1.11 - ETA: 51s - loss: 1.11 - ETA: 50s - loss: 1.11 - ETA: 50s - loss: 1.12 - ETA: 50s - loss: 1.11 - ETA: 50s - loss: 1.11 - ETA: 50s - loss: 1.11 - ETA: 50s - loss: 1.11 - ETA: 50s - loss: 1.11 - ETA: 50s - loss: 1.11 - ETA: 50s - loss: 1.11 - ETA: 50s - loss: 1.11 - ETA: 50s - loss: 1.11 - ETA: 50s - loss: 1.11 - ETA: 50s - loss: 1.11 - ETA: 50s - loss: 1.11 - ETA: 50s - loss: 1.11 - ETA: 50s - loss: 1.11 - ETA: 50s - loss: 1.11 - ETA: 50s - loss: 1.11 - ETA: 50s - loss: 1.11 - ETA: 49s - loss: 1.11 - ETA: 49s - loss: 1.11 - ETA: 49s - loss: 1.11 - ETA: 49s - loss: 1.11 - ETA: 49s - loss: 1.11 - ETA: 49s - loss: 1.11 - ETA: 49s - loss: 1.11 - ETA: 49s - loss: 1.11 - ETA: 49s - loss: 1.11 - ETA: 49s - loss: 1.11 - ETA: 49s - loss: 1.11 - ETA: 49s - loss: 1.11 - ETA: 49s - loss: 1.11 - ETA: 49s - loss: 1.11 - ETA: 49s - loss: 1.11 - ETA: 49s - loss: 1.11 - ETA: 49s - loss: 1.11 - ETA: 49s - loss: 1.11 - ETA: 49s - loss: 1.11 - ETA: 49s - loss: 1.11 - ETA: 49s - loss: 1.11 - ETA: 49s - loss: 1.11 - ETA: 48s - loss: 1.11 - ETA: 48s - loss: 1.11 - ETA: 48s - loss: 1.11 - ETA: 48s - loss: 1.11 - ETA: 48s - loss: 1.11 - ETA: 48s - loss: 1.11 - ETA: 48s - loss: 1.11 - ETA: 48s - loss: 1.11 - ETA: 48s - loss: 1.11 - ETA: 48s - loss: 1.11 - ETA: 48s - loss: 1.11 - ETA: 48s - loss: 1.11 - ETA: 48s - loss: 1.11 - ETA: 48s - loss: 1.11 - ETA: 48s - loss: 1.11 - ETA: 48s - loss: 1.11 - ETA: 48s - loss: 1.11 - ETA: 48s - loss: 1.11 - ETA: 48s - loss: 1.11 - ETA: 47s - loss: 1.11 - ETA: 47s - loss: 1.11 - ETA: 47s - loss: 1.11 - ETA: 47s - loss: 1.11 - ETA: 47s - loss: 1.11 - ETA: 47s - loss: 1.11 - ETA: 47s - loss: 1.11 - ETA: 47s - loss: 1.11 - ETA: 47s - loss: 1.11 - ETA: 47s - loss: 1.11 - ETA: 47s - loss: 1.11 - ETA: 47s - loss: 1.11 - ETA: 47s - loss: 1.11 - ETA: 47s - loss: 1.1171"
     ]
    },
    {
     "name": "stdout",
     "output_type": "stream",
     "text": [
      "44768/75006 [================>.............] - ETA: 47s - loss: 1.11 - ETA: 47s - loss: 1.11 - ETA: 47s - loss: 1.11 - ETA: 47s - loss: 1.11 - ETA: 46s - loss: 1.11 - ETA: 46s - loss: 1.11 - ETA: 46s - loss: 1.11 - ETA: 46s - loss: 1.11 - ETA: 46s - loss: 1.11 - ETA: 46s - loss: 1.11 - ETA: 46s - loss: 1.11 - ETA: 46s - loss: 1.11 - ETA: 46s - loss: 1.11 - ETA: 46s - loss: 1.11 - ETA: 46s - loss: 1.11 - ETA: 46s - loss: 1.11 - ETA: 46s - loss: 1.11 - ETA: 46s - loss: 1.11 - ETA: 46s - loss: 1.11 - ETA: 46s - loss: 1.11 - ETA: 46s - loss: 1.11 - ETA: 46s - loss: 1.11 - ETA: 45s - loss: 1.11 - ETA: 45s - loss: 1.11 - ETA: 45s - loss: 1.11 - ETA: 45s - loss: 1.11 - ETA: 45s - loss: 1.11 - ETA: 45s - loss: 1.11 - ETA: 45s - loss: 1.11 - ETA: 45s - loss: 1.11 - ETA: 45s - loss: 1.11 - ETA: 45s - loss: 1.11 - ETA: 45s - loss: 1.11 - ETA: 45s - loss: 1.11 - ETA: 45s - loss: 1.11 - ETA: 45s - loss: 1.11 - ETA: 45s - loss: 1.11 - ETA: 45s - loss: 1.11 - ETA: 45s - loss: 1.11 - ETA: 45s - loss: 1.11 - ETA: 44s - loss: 1.11 - ETA: 44s - loss: 1.11 - ETA: 44s - loss: 1.11 - ETA: 44s - loss: 1.11 - ETA: 44s - loss: 1.11 - ETA: 44s - loss: 1.11 - ETA: 44s - loss: 1.11 - ETA: 44s - loss: 1.11 - ETA: 44s - loss: 1.11 - ETA: 44s - loss: 1.11 - ETA: 44s - loss: 1.11 - ETA: 44s - loss: 1.11 - ETA: 44s - loss: 1.11 - ETA: 44s - loss: 1.11 - ETA: 44s - loss: 1.11 - ETA: 44s - loss: 1.11 - ETA: 44s - loss: 1.11 - ETA: 43s - loss: 1.11 - ETA: 43s - loss: 1.11 - ETA: 43s - loss: 1.11 - ETA: 43s - loss: 1.11 - ETA: 43s - loss: 1.11 - ETA: 43s - loss: 1.11 - ETA: 43s - loss: 1.11 - ETA: 43s - loss: 1.11 - ETA: 43s - loss: 1.11 - ETA: 43s - loss: 1.11 - ETA: 43s - loss: 1.11 - ETA: 43s - loss: 1.12 - ETA: 43s - loss: 1.12 - ETA: 43s - loss: 1.12 - ETA: 43s - loss: 1.11 - ETA: 43s - loss: 1.11 - ETA: 43s - loss: 1.12 - ETA: 43s - loss: 1.12 - ETA: 43s - loss: 1.12 - ETA: 43s - loss: 1.12 - ETA: 42s - loss: 1.12 - ETA: 42s - loss: 1.12 - ETA: 42s - loss: 1.12 - ETA: 42s - loss: 1.12 - ETA: 42s - loss: 1.12 - ETA: 42s - loss: 1.12 - ETA: 42s - loss: 1.12 - ETA: 42s - loss: 1.12 - ETA: 42s - loss: 1.12 - ETA: 42s - loss: 1.12 - ETA: 42s - loss: 1.12 - ETA: 42s - loss: 1.12 - ETA: 42s - loss: 1.12 - ETA: 42s - loss: 1.12 - ETA: 42s - loss: 1.12 - ETA: 42s - loss: 1.12 - ETA: 42s - loss: 1.12 - ETA: 42s - loss: 1.12 - ETA: 42s - loss: 1.12 - ETA: 42s - loss: 1.12 - ETA: 42s - loss: 1.12 - ETA: 41s - loss: 1.12 - ETA: 41s - loss: 1.12 - ETA: 41s - loss: 1.12 - ETA: 41s - loss: 1.12 - ETA: 41s - loss: 1.12 - ETA: 41s - loss: 1.12 - ETA: 41s - loss: 1.12 - ETA: 41s - loss: 1.12 - ETA: 41s - loss: 1.12 - ETA: 41s - loss: 1.12 - ETA: 41s - loss: 1.12 - ETA: 41s - loss: 1.12 - ETA: 41s - loss: 1.12 - ETA: 41s - loss: 1.12 - ETA: 41s - loss: 1.12 - ETA: 41s - loss: 1.12 - ETA: 41s - loss: 1.12 - ETA: 41s - loss: 1.12 - ETA: 41s - loss: 1.12 - ETA: 41s - loss: 1.12 - ETA: 41s - loss: 1.12 - ETA: 41s - loss: 1.12 - ETA: 41s - loss: 1.12 - ETA: 40s - loss: 1.12 - ETA: 40s - loss: 1.12 - ETA: 40s - loss: 1.12 - ETA: 40s - loss: 1.12 - ETA: 40s - loss: 1.12 - ETA: 40s - loss: 1.12 - ETA: 40s - loss: 1.12 - ETA: 40s - loss: 1.12 - ETA: 40s - loss: 1.12 - ETA: 40s - loss: 1.12 - ETA: 40s - loss: 1.12 - ETA: 40s - loss: 1.12 - ETA: 40s - loss: 1.12 - ETA: 40s - loss: 1.12 - ETA: 40s - loss: 1.12 - ETA: 40s - loss: 1.12 - ETA: 40s - loss: 1.12 - ETA: 40s - loss: 1.12 - ETA: 40s - loss: 1.12 - ETA: 40s - loss: 1.12 - ETA: 40s - loss: 1.12 - ETA: 40s - loss: 1.12 - ETA: 39s - loss: 1.12 - ETA: 39s - loss: 1.12 - ETA: 39s - loss: 1.12 - ETA: 39s - loss: 1.12 - ETA: 39s - loss: 1.12 - ETA: 39s - loss: 1.12 - ETA: 39s - loss: 1.12 - ETA: 39s - loss: 1.12 - ETA: 39s - loss: 1.12 - ETA: 39s - loss: 1.12 - ETA: 39s - loss: 1.12 - ETA: 39s - loss: 1.12 - ETA: 39s - loss: 1.12 - ETA: 39s - loss: 1.12 - ETA: 39s - loss: 1.12 - ETA: 39s - loss: 1.12 - ETA: 39s - loss: 1.12 - ETA: 39s - loss: 1.12 - ETA: 39s - loss: 1.12 - ETA: 38s - loss: 1.12 - ETA: 38s - loss: 1.12 - ETA: 38s - loss: 1.12 - ETA: 38s - loss: 1.12 - ETA: 38s - loss: 1.12 - ETA: 38s - loss: 1.12 - ETA: 38s - loss: 1.12 - ETA: 38s - loss: 1.12 - ETA: 38s - loss: 1.12 - ETA: 38s - loss: 1.12 - ETA: 38s - loss: 1.12 - ETA: 38s - loss: 1.12 - ETA: 38s - loss: 1.12 - ETA: 38s - loss: 1.12 - ETA: 38s - loss: 1.12 - ETA: 38s - loss: 1.12 - ETA: 37s - loss: 1.12 - ETA: 37s - loss: 1.12 - ETA: 37s - loss: 1.12 - ETA: 37s - loss: 1.12 - ETA: 37s - loss: 1.12 - ETA: 37s - loss: 1.12 - ETA: 37s - loss: 1.12 - ETA: 37s - loss: 1.12 - ETA: 37s - loss: 1.12 - ETA: 37s - loss: 1.12 - ETA: 37s - loss: 1.12 - ETA: 37s - loss: 1.12 - ETA: 37s - loss: 1.12 - ETA: 37s - loss: 1.12 - ETA: 37s - loss: 1.12 - ETA: 37s - loss: 1.12 - ETA: 36s - loss: 1.12 - ETA: 36s - loss: 1.12 - ETA: 36s - loss: 1.12 - ETA: 36s - loss: 1.12 - ETA: 36s - loss: 1.12 - ETA: 36s - loss: 1.12 - ETA: 36s - loss: 1.12 - ETA: 36s - loss: 1.12 - ETA: 36s - loss: 1.12 - ETA: 36s - loss: 1.12 - ETA: 36s - loss: 1.12 - ETA: 36s - loss: 1.12 - ETA: 36s - loss: 1.12 - ETA: 36s - loss: 1.12 - ETA: 36s - loss: 1.12 - ETA: 36s - loss: 1.12 - ETA: 36s - loss: 1.12 - ETA: 36s - loss: 1.12 - ETA: 35s - loss: 1.12 - ETA: 35s - loss: 1.12 - ETA: 35s - loss: 1.12 - ETA: 35s - loss: 1.12 - ETA: 35s - loss: 1.12 - ETA: 35s - loss: 1.12 - ETA: 35s - loss: 1.12 - ETA: 35s - loss: 1.12 - ETA: 35s - loss: 1.12 - ETA: 35s - loss: 1.12 - ETA: 35s - loss: 1.12 - ETA: 35s - loss: 1.12 - ETA: 35s - loss: 1.12 - ETA: 35s - loss: 1.12 - ETA: 35s - loss: 1.12 - ETA: 35s - loss: 1.12 - ETA: 35s - loss: 1.12 - ETA: 34s - loss: 1.12 - ETA: 34s - loss: 1.12 - ETA: 34s - loss: 1.12 - ETA: 34s - loss: 1.12 - ETA: 34s - loss: 1.12 - ETA: 34s - loss: 1.12 - ETA: 34s - loss: 1.12 - ETA: 34s - loss: 1.12 - ETA: 34s - loss: 1.12 - ETA: 34s - loss: 1.12 - ETA: 34s - loss: 1.12 - ETA: 34s - loss: 1.12 - ETA: 34s - loss: 1.12 - ETA: 34s - loss: 1.12 - ETA: 34s - loss: 1.12 - ETA: 34s - loss: 1.12 - ETA: 34s - loss: 1.12 - ETA: 34s - loss: 1.12 - ETA: 33s - loss: 1.12 - ETA: 33s - loss: 1.12 - ETA: 33s - loss: 1.12 - ETA: 33s - loss: 1.12 - ETA: 33s - loss: 1.12 - ETA: 33s - loss: 1.12 - ETA: 33s - loss: 1.12 - ETA: 33s - loss: 1.12 - ETA: 33s - loss: 1.12 - ETA: 33s - loss: 1.12 - ETA: 33s - loss: 1.12 - ETA: 33s - loss: 1.12 - ETA: 33s - loss: 1.12 - ETA: 33s - loss: 1.12 - ETA: 33s - loss: 1.12 - ETA: 33s - loss: 1.12 - ETA: 33s - loss: 1.12 - ETA: 32s - loss: 1.12 - ETA: 32s - loss: 1.12 - ETA: 32s - loss: 1.12 - ETA: 32s - loss: 1.12 - ETA: 32s - loss: 1.12 - ETA: 32s - loss: 1.12 - ETA: 32s - loss: 1.12 - ETA: 32s - loss: 1.12 - ETA: 32s - loss: 1.12 - ETA: 32s - loss: 1.12 - ETA: 32s - loss: 1.12 - ETA: 32s - loss: 1.12 - ETA: 32s - loss: 1.12 - ETA: 32s - loss: 1.12 - ETA: 32s - loss: 1.12 - ETA: 32s - loss: 1.12 - ETA: 32s - loss: 1.12 - ETA: 31s - loss: 1.12 - ETA: 31s - loss: 1.12 - ETA: 31s - loss: 1.12 - ETA: 31s - loss: 1.12 - ETA: 31s - loss: 1.12 - ETA: 31s - loss: 1.12 - ETA: 31s - loss: 1.12 - ETA: 31s - loss: 1.12 - ETA: 31s - loss: 1.12 - ETA: 31s - loss: 1.12 - ETA: 31s - loss: 1.12 - ETA: 31s - loss: 1.12 - ETA: 31s - loss: 1.12 - ETA: 31s - loss: 1.12 - ETA: 31s - loss: 1.12 - ETA: 31s - loss: 1.12 - ETA: 31s - loss: 1.12 - ETA: 31s - loss: 1.12 - ETA: 30s - loss: 1.12 - ETA: 30s - loss: 1.12 - ETA: 30s - loss: 1.12 - ETA: 30s - loss: 1.12 - ETA: 30s - loss: 1.12 - ETA: 30s - loss: 1.12 - ETA: 30s - loss: 1.12 - ETA: 30s - loss: 1.12 - ETA: 30s - loss: 1.12 - ETA: 30s - loss: 1.12 - ETA: 30s - loss: 1.12 - ETA: 30s - loss: 1.12 - ETA: 30s - loss: 1.12 - ETA: 30s - loss: 1.12 - ETA: 30s - loss: 1.12 - ETA: 29s - loss: 1.12 - ETA: 29s - loss: 1.12 - ETA: 29s - loss: 1.12 - ETA: 29s - loss: 1.12 - ETA: 29s - loss: 1.12 - ETA: 29s - loss: 1.12 - ETA: 29s - loss: 1.12 - ETA: 28s - loss: 1.12 - ETA: 28s - loss: 1.12 - ETA: 28s - loss: 1.12 - ETA: 28s - loss: 1.12 - ETA: 28s - loss: 1.12 - ETA: 28s - loss: 1.12 - ETA: 28s - loss: 1.12 - ETA: 27s - loss: 1.12 - ETA: 27s - loss: 1.12 - ETA: 27s - loss: 1.12 - ETA: 27s - loss: 1.12 - ETA: 27s - loss: 1.12 - ETA: 27s - loss: 1.12 - ETA: 26s - loss: 1.12 - ETA: 26s - loss: 1.12 - ETA: 26s - loss: 1.12 - ETA: 26s - loss: 1.12 - ETA: 26s - loss: 1.12 - ETA: 26s - loss: 1.1260"
     ]
    },
    {
     "name": "stdout",
     "output_type": "stream",
     "text": [
      "75006/75006 [==============================] - ETA: 25s - loss: 1.12 - ETA: 25s - loss: 1.12 - ETA: 25s - loss: 1.12 - ETA: 25s - loss: 1.12 - ETA: 25s - loss: 1.12 - ETA: 25s - loss: 1.12 - ETA: 25s - loss: 1.12 - ETA: 24s - loss: 1.12 - ETA: 24s - loss: 1.12 - ETA: 24s - loss: 1.12 - ETA: 24s - loss: 1.12 - ETA: 24s - loss: 1.12 - ETA: 24s - loss: 1.12 - ETA: 24s - loss: 1.12 - ETA: 24s - loss: 1.12 - ETA: 23s - loss: 1.12 - ETA: 23s - loss: 1.12 - ETA: 23s - loss: 1.12 - ETA: 23s - loss: 1.12 - ETA: 23s - loss: 1.12 - ETA: 23s - loss: 1.12 - ETA: 23s - loss: 1.12 - ETA: 22s - loss: 1.12 - ETA: 22s - loss: 1.12 - ETA: 22s - loss: 1.12 - ETA: 22s - loss: 1.12 - ETA: 22s - loss: 1.12 - ETA: 22s - loss: 1.12 - ETA: 22s - loss: 1.12 - ETA: 21s - loss: 1.12 - ETA: 21s - loss: 1.12 - ETA: 21s - loss: 1.12 - ETA: 21s - loss: 1.12 - ETA: 21s - loss: 1.12 - ETA: 21s - loss: 1.12 - ETA: 21s - loss: 1.12 - ETA: 20s - loss: 1.12 - ETA: 20s - loss: 1.12 - ETA: 20s - loss: 1.12 - ETA: 20s - loss: 1.12 - ETA: 20s - loss: 1.12 - ETA: 20s - loss: 1.12 - ETA: 20s - loss: 1.12 - ETA: 19s - loss: 1.12 - ETA: 19s - loss: 1.12 - ETA: 19s - loss: 1.12 - ETA: 19s - loss: 1.12 - ETA: 19s - loss: 1.12 - ETA: 19s - loss: 1.12 - ETA: 18s - loss: 1.12 - ETA: 18s - loss: 1.12 - ETA: 18s - loss: 1.12 - ETA: 18s - loss: 1.12 - ETA: 18s - loss: 1.12 - ETA: 18s - loss: 1.12 - ETA: 17s - loss: 1.12 - ETA: 17s - loss: 1.12 - ETA: 17s - loss: 1.12 - ETA: 17s - loss: 1.12 - ETA: 17s - loss: 1.12 - ETA: 17s - loss: 1.12 - ETA: 16s - loss: 1.12 - ETA: 16s - loss: 1.12 - ETA: 16s - loss: 1.12 - ETA: 16s - loss: 1.12 - ETA: 16s - loss: 1.12 - ETA: 16s - loss: 1.12 - ETA: 16s - loss: 1.12 - ETA: 15s - loss: 1.12 - ETA: 15s - loss: 1.12 - ETA: 15s - loss: 1.12 - ETA: 15s - loss: 1.12 - ETA: 15s - loss: 1.12 - ETA: 15s - loss: 1.12 - ETA: 15s - loss: 1.12 - ETA: 15s - loss: 1.12 - ETA: 14s - loss: 1.12 - ETA: 14s - loss: 1.12 - ETA: 14s - loss: 1.12 - ETA: 14s - loss: 1.12 - ETA: 14s - loss: 1.12 - ETA: 14s - loss: 1.12 - ETA: 14s - loss: 1.12 - ETA: 14s - loss: 1.12 - ETA: 14s - loss: 1.12 - ETA: 13s - loss: 1.12 - ETA: 13s - loss: 1.12 - ETA: 13s - loss: 1.12 - ETA: 13s - loss: 1.12 - ETA: 13s - loss: 1.12 - ETA: 13s - loss: 1.12 - ETA: 13s - loss: 1.12 - ETA: 13s - loss: 1.12 - ETA: 12s - loss: 1.12 - ETA: 12s - loss: 1.12 - ETA: 12s - loss: 1.12 - ETA: 12s - loss: 1.12 - ETA: 12s - loss: 1.12 - ETA: 12s - loss: 1.12 - ETA: 12s - loss: 1.12 - ETA: 12s - loss: 1.12 - ETA: 12s - loss: 1.12 - ETA: 12s - loss: 1.12 - ETA: 11s - loss: 1.12 - ETA: 11s - loss: 1.12 - ETA: 11s - loss: 1.12 - ETA: 11s - loss: 1.12 - ETA: 11s - loss: 1.12 - ETA: 11s - loss: 1.12 - ETA: 11s - loss: 1.12 - ETA: 11s - loss: 1.12 - ETA: 11s - loss: 1.12 - ETA: 10s - loss: 1.12 - ETA: 10s - loss: 1.12 - ETA: 10s - loss: 1.12 - ETA: 10s - loss: 1.12 - ETA: 10s - loss: 1.12 - ETA: 10s - loss: 1.12 - ETA: 10s - loss: 1.12 - ETA: 10s - loss: 1.12 - ETA: 10s - loss: 1.12 - ETA: 10s - loss: 1.12 - ETA: 9s - loss: 1.1293 - ETA: 9s - loss: 1.129 - ETA: 9s - loss: 1.129 - ETA: 9s - loss: 1.129 - ETA: 9s - loss: 1.129 - ETA: 9s - loss: 1.129 - ETA: 9s - loss: 1.129 - ETA: 9s - loss: 1.129 - ETA: 9s - loss: 1.129 - ETA: 9s - loss: 1.129 - ETA: 8s - loss: 1.129 - ETA: 8s - loss: 1.129 - ETA: 8s - loss: 1.129 - ETA: 8s - loss: 1.129 - ETA: 8s - loss: 1.130 - ETA: 8s - loss: 1.130 - ETA: 8s - loss: 1.130 - ETA: 8s - loss: 1.130 - ETA: 8s - loss: 1.130 - ETA: 7s - loss: 1.130 - ETA: 7s - loss: 1.130 - ETA: 7s - loss: 1.130 - ETA: 7s - loss: 1.130 - ETA: 7s - loss: 1.130 - ETA: 7s - loss: 1.130 - ETA: 7s - loss: 1.130 - ETA: 7s - loss: 1.130 - ETA: 6s - loss: 1.130 - ETA: 6s - loss: 1.130 - ETA: 6s - loss: 1.130 - ETA: 6s - loss: 1.130 - ETA: 6s - loss: 1.130 - ETA: 6s - loss: 1.130 - ETA: 6s - loss: 1.130 - ETA: 6s - loss: 1.130 - ETA: 5s - loss: 1.130 - ETA: 5s - loss: 1.130 - ETA: 5s - loss: 1.130 - ETA: 5s - loss: 1.130 - ETA: 5s - loss: 1.130 - ETA: 5s - loss: 1.130 - ETA: 5s - loss: 1.130 - ETA: 5s - loss: 1.130 - ETA: 5s - loss: 1.130 - ETA: 4s - loss: 1.130 - ETA: 4s - loss: 1.130 - ETA: 4s - loss: 1.130 - ETA: 4s - loss: 1.130 - ETA: 4s - loss: 1.130 - ETA: 4s - loss: 1.131 - ETA: 4s - loss: 1.131 - ETA: 4s - loss: 1.131 - ETA: 4s - loss: 1.131 - ETA: 3s - loss: 1.130 - ETA: 3s - loss: 1.130 - ETA: 3s - loss: 1.130 - ETA: 3s - loss: 1.130 - ETA: 3s - loss: 1.130 - ETA: 3s - loss: 1.130 - ETA: 3s - loss: 1.130 - ETA: 3s - loss: 1.130 - ETA: 3s - loss: 1.130 - ETA: 3s - loss: 1.130 - ETA: 2s - loss: 1.130 - ETA: 2s - loss: 1.130 - ETA: 2s - loss: 1.130 - ETA: 2s - loss: 1.130 - ETA: 2s - loss: 1.130 - ETA: 2s - loss: 1.130 - ETA: 2s - loss: 1.130 - ETA: 2s - loss: 1.130 - ETA: 2s - loss: 1.130 - ETA: 2s - loss: 1.131 - ETA: 1s - loss: 1.131 - ETA: 1s - loss: 1.131 - ETA: 1s - loss: 1.131 - ETA: 1s - loss: 1.131 - ETA: 1s - loss: 1.131 - ETA: 1s - loss: 1.131 - ETA: 1s - loss: 1.131 - ETA: 1s - loss: 1.131 - ETA: 1s - loss: 1.131 - ETA: 1s - loss: 1.131 - ETA: 0s - loss: 1.131 - ETA: 0s - loss: 1.131 - ETA: 0s - loss: 1.131 - ETA: 0s - loss: 1.131 - ETA: 0s - loss: 1.132 - ETA: 0s - loss: 1.132 - ETA: 0s - loss: 1.132 - ETA: 0s - loss: 1.132 - ETA: 0s - loss: 1.132 - ETA: 0s - loss: 1.131 - ETA: 0s - loss: 1.131 - 51s 686us/step - loss: 1.1318 - val_loss: 1.2429\n",
      "Epoch 19/20\n",
      "71808/75006 [===========================>..] - ETA: 30s - loss: 1.19 - ETA: 22s - loss: 1.04 - ETA: 22s - loss: 1.09 - ETA: 22s - loss: 1.10 - ETA: 22s - loss: 1.11 - ETA: 22s - loss: 1.11 - ETA: 22s - loss: 1.11 - ETA: 21s - loss: 1.12 - ETA: 21s - loss: 1.11 - ETA: 21s - loss: 1.12 - ETA: 22s - loss: 1.11 - ETA: 22s - loss: 1.11 - ETA: 22s - loss: 1.10 - ETA: 22s - loss: 1.10 - ETA: 22s - loss: 1.11 - ETA: 22s - loss: 1.11 - ETA: 21s - loss: 1.10 - ETA: 21s - loss: 1.10 - ETA: 21s - loss: 1.10 - ETA: 21s - loss: 1.10 - ETA: 21s - loss: 1.10 - ETA: 21s - loss: 1.10 - ETA: 20s - loss: 1.10 - ETA: 20s - loss: 1.10 - ETA: 20s - loss: 1.10 - ETA: 20s - loss: 1.10 - ETA: 20s - loss: 1.10 - ETA: 19s - loss: 1.10 - ETA: 19s - loss: 1.10 - ETA: 19s - loss: 1.10 - ETA: 19s - loss: 1.10 - ETA: 19s - loss: 1.10 - ETA: 19s - loss: 1.11 - ETA: 19s - loss: 1.11 - ETA: 19s - loss: 1.11 - ETA: 18s - loss: 1.11 - ETA: 18s - loss: 1.11 - ETA: 18s - loss: 1.11 - ETA: 18s - loss: 1.11 - ETA: 18s - loss: 1.11 - ETA: 18s - loss: 1.11 - ETA: 18s - loss: 1.11 - ETA: 18s - loss: 1.11 - ETA: 18s - loss: 1.11 - ETA: 18s - loss: 1.11 - ETA: 18s - loss: 1.11 - ETA: 18s - loss: 1.11 - ETA: 17s - loss: 1.11 - ETA: 17s - loss: 1.11 - ETA: 17s - loss: 1.11 - ETA: 17s - loss: 1.11 - ETA: 17s - loss: 1.11 - ETA: 17s - loss: 1.11 - ETA: 17s - loss: 1.11 - ETA: 17s - loss: 1.11 - ETA: 17s - loss: 1.11 - ETA: 17s - loss: 1.11 - ETA: 17s - loss: 1.11 - ETA: 16s - loss: 1.11 - ETA: 16s - loss: 1.11 - ETA: 16s - loss: 1.11 - ETA: 16s - loss: 1.11 - ETA: 16s - loss: 1.11 - ETA: 16s - loss: 1.11 - ETA: 16s - loss: 1.11 - ETA: 16s - loss: 1.11 - ETA: 16s - loss: 1.11 - ETA: 16s - loss: 1.11 - ETA: 16s - loss: 1.11 - ETA: 16s - loss: 1.11 - ETA: 16s - loss: 1.11 - ETA: 15s - loss: 1.11 - ETA: 15s - loss: 1.11 - ETA: 15s - loss: 1.11 - ETA: 15s - loss: 1.11 - ETA: 15s - loss: 1.11 - ETA: 15s - loss: 1.11 - ETA: 15s - loss: 1.11 - ETA: 15s - loss: 1.11 - ETA: 15s - loss: 1.11 - ETA: 15s - loss: 1.11 - ETA: 15s - loss: 1.11 - ETA: 14s - loss: 1.11 - ETA: 14s - loss: 1.11 - ETA: 14s - loss: 1.11 - ETA: 14s - loss: 1.11 - ETA: 14s - loss: 1.11 - ETA: 14s - loss: 1.11 - ETA: 14s - loss: 1.11 - ETA: 14s - loss: 1.11 - ETA: 14s - loss: 1.11 - ETA: 14s - loss: 1.11 - ETA: 14s - loss: 1.11 - ETA: 14s - loss: 1.11 - ETA: 14s - loss: 1.11 - ETA: 14s - loss: 1.11 - ETA: 14s - loss: 1.11 - ETA: 13s - loss: 1.11 - ETA: 13s - loss: 1.11 - ETA: 13s - loss: 1.11 - ETA: 13s - loss: 1.11 - ETA: 13s - loss: 1.11 - ETA: 13s - loss: 1.11 - ETA: 13s - loss: 1.11 - ETA: 13s - loss: 1.11 - ETA: 13s - loss: 1.11 - ETA: 13s - loss: 1.11 - ETA: 13s - loss: 1.11 - ETA: 13s - loss: 1.11 - ETA: 13s - loss: 1.11 - ETA: 13s - loss: 1.11 - ETA: 13s - loss: 1.11 - ETA: 13s - loss: 1.11 - ETA: 12s - loss: 1.11 - ETA: 12s - loss: 1.11 - ETA: 12s - loss: 1.11 - ETA: 12s - loss: 1.11 - ETA: 12s - loss: 1.11 - ETA: 12s - loss: 1.11 - ETA: 12s - loss: 1.11 - ETA: 12s - loss: 1.11 - ETA: 12s - loss: 1.11 - ETA: 12s - loss: 1.11 - ETA: 12s - loss: 1.11 - ETA: 12s - loss: 1.11 - ETA: 12s - loss: 1.11 - ETA: 12s - loss: 1.11 - ETA: 12s - loss: 1.11 - ETA: 12s - loss: 1.11 - ETA: 12s - loss: 1.11 - ETA: 12s - loss: 1.11 - ETA: 12s - loss: 1.11 - ETA: 12s - loss: 1.11 - ETA: 12s - loss: 1.11 - ETA: 11s - loss: 1.11 - ETA: 11s - loss: 1.11 - ETA: 11s - loss: 1.11 - ETA: 11s - loss: 1.11 - ETA: 11s - loss: 1.11 - ETA: 11s - loss: 1.11 - ETA: 11s - loss: 1.11 - ETA: 11s - loss: 1.11 - ETA: 11s - loss: 1.11 - ETA: 11s - loss: 1.11 - ETA: 11s - loss: 1.11 - ETA: 11s - loss: 1.11 - ETA: 11s - loss: 1.11 - ETA: 11s - loss: 1.11 - ETA: 11s - loss: 1.11 - ETA: 11s - loss: 1.11 - ETA: 11s - loss: 1.11 - ETA: 11s - loss: 1.11 - ETA: 11s - loss: 1.11 - ETA: 11s - loss: 1.11 - ETA: 11s - loss: 1.11 - ETA: 11s - loss: 1.11 - ETA: 11s - loss: 1.11 - ETA: 11s - loss: 1.11 - ETA: 11s - loss: 1.11 - ETA: 11s - loss: 1.11 - ETA: 10s - loss: 1.11 - ETA: 10s - loss: 1.11 - ETA: 10s - loss: 1.11 - ETA: 10s - loss: 1.11 - ETA: 10s - loss: 1.11 - ETA: 10s - loss: 1.11 - ETA: 10s - loss: 1.11 - ETA: 10s - loss: 1.11 - ETA: 10s - loss: 1.11 - ETA: 10s - loss: 1.12 - ETA: 10s - loss: 1.12 - ETA: 10s - loss: 1.12 - ETA: 10s - loss: 1.11 - ETA: 10s - loss: 1.11 - ETA: 10s - loss: 1.11 - ETA: 10s - loss: 1.11 - ETA: 10s - loss: 1.11 - ETA: 10s - loss: 1.11 - ETA: 9s - loss: 1.1193 - ETA: 9s - loss: 1.119 - ETA: 9s - loss: 1.119 - ETA: 9s - loss: 1.119 - ETA: 9s - loss: 1.120 - ETA: 9s - loss: 1.120 - ETA: 9s - loss: 1.120 - ETA: 9s - loss: 1.121 - ETA: 9s - loss: 1.121 - ETA: 9s - loss: 1.121 - ETA: 9s - loss: 1.121 - ETA: 9s - loss: 1.122 - ETA: 9s - loss: 1.122 - ETA: 9s - loss: 1.122 - ETA: 8s - loss: 1.121 - ETA: 8s - loss: 1.122 - ETA: 8s - loss: 1.122 - ETA: 8s - loss: 1.122 - ETA: 8s - loss: 1.122 - ETA: 8s - loss: 1.122 - ETA: 8s - loss: 1.122 - ETA: 8s - loss: 1.122 - ETA: 8s - loss: 1.122 - ETA: 8s - loss: 1.122 - ETA: 8s - loss: 1.122 - ETA: 8s - loss: 1.122 - ETA: 8s - loss: 1.122 - ETA: 7s - loss: 1.122 - ETA: 7s - loss: 1.122 - ETA: 7s - loss: 1.123 - ETA: 7s - loss: 1.122 - ETA: 7s - loss: 1.122 - ETA: 7s - loss: 1.122 - ETA: 7s - loss: 1.123 - ETA: 7s - loss: 1.123 - ETA: 7s - loss: 1.123 - ETA: 7s - loss: 1.122 - ETA: 7s - loss: 1.123 - ETA: 7s - loss: 1.123 - ETA: 7s - loss: 1.123 - ETA: 7s - loss: 1.124 - ETA: 6s - loss: 1.124 - ETA: 6s - loss: 1.124 - ETA: 6s - loss: 1.124 - ETA: 6s - loss: 1.123 - ETA: 6s - loss: 1.123 - ETA: 6s - loss: 1.123 - ETA: 6s - loss: 1.124 - ETA: 6s - loss: 1.123 - ETA: 6s - loss: 1.123 - ETA: 6s - loss: 1.123 - ETA: 6s - loss: 1.124 - ETA: 6s - loss: 1.123 - ETA: 6s - loss: 1.123 - ETA: 6s - loss: 1.123 - ETA: 6s - loss: 1.123 - ETA: 6s - loss: 1.123 - ETA: 6s - loss: 1.123 - ETA: 6s - loss: 1.123 - ETA: 5s - loss: 1.123 - ETA: 5s - loss: 1.123 - ETA: 5s - loss: 1.123 - ETA: 5s - loss: 1.123 - ETA: 5s - loss: 1.123 - ETA: 5s - loss: 1.123 - ETA: 5s - loss: 1.123 - ETA: 5s - loss: 1.123 - ETA: 5s - loss: 1.123 - ETA: 5s - loss: 1.123 - ETA: 5s - loss: 1.123 - ETA: 5s - loss: 1.123 - ETA: 5s - loss: 1.123 - ETA: 5s - loss: 1.123 - ETA: 5s - loss: 1.123 - ETA: 5s - loss: 1.124 - ETA: 5s - loss: 1.124 - ETA: 5s - loss: 1.124 - ETA: 5s - loss: 1.124 - ETA: 5s - loss: 1.124 - ETA: 5s - loss: 1.124 - ETA: 5s - loss: 1.124 - ETA: 4s - loss: 1.124 - ETA: 4s - loss: 1.124 - ETA: 4s - loss: 1.125 - ETA: 4s - loss: 1.124 - ETA: 4s - loss: 1.125 - ETA: 4s - loss: 1.125 - ETA: 4s - loss: 1.125 - ETA: 4s - loss: 1.125 - ETA: 4s - loss: 1.125 - ETA: 4s - loss: 1.125 - ETA: 4s - loss: 1.125 - ETA: 4s - loss: 1.125 - ETA: 4s - loss: 1.125 - ETA: 4s - loss: 1.125 - ETA: 4s - loss: 1.125 - ETA: 4s - loss: 1.125 - ETA: 4s - loss: 1.125 - ETA: 4s - loss: 1.125 - ETA: 3s - loss: 1.125 - ETA: 3s - loss: 1.125 - ETA: 3s - loss: 1.125 - ETA: 3s - loss: 1.125 - ETA: 3s - loss: 1.125 - ETA: 3s - loss: 1.125 - ETA: 3s - loss: 1.125 - ETA: 3s - loss: 1.125 - ETA: 3s - loss: 1.126 - ETA: 3s - loss: 1.126 - ETA: 3s - loss: 1.126 - ETA: 3s - loss: 1.126 - ETA: 3s - loss: 1.126 - ETA: 3s - loss: 1.126 - ETA: 3s - loss: 1.126 - ETA: 3s - loss: 1.126 - ETA: 3s - loss: 1.126 - ETA: 2s - loss: 1.126 - ETA: 2s - loss: 1.126 - ETA: 2s - loss: 1.126 - ETA: 2s - loss: 1.126 - ETA: 2s - loss: 1.126 - ETA: 2s - loss: 1.126 - ETA: 2s - loss: 1.126 - ETA: 2s - loss: 1.126 - ETA: 2s - loss: 1.126 - ETA: 2s - loss: 1.127 - ETA: 2s - loss: 1.127 - ETA: 2s - loss: 1.127 - ETA: 2s - loss: 1.127 - ETA: 2s - loss: 1.127 - ETA: 2s - loss: 1.127 - ETA: 2s - loss: 1.127 - ETA: 2s - loss: 1.127 - ETA: 2s - loss: 1.127 - ETA: 2s - loss: 1.127 - ETA: 1s - loss: 1.127 - ETA: 1s - loss: 1.127 - ETA: 1s - loss: 1.127 - ETA: 1s - loss: 1.127 - ETA: 1s - loss: 1.127 - ETA: 1s - loss: 1.127 - ETA: 1s - loss: 1.127 - ETA: 1s - loss: 1.127 - ETA: 1s - loss: 1.127 - ETA: 1s - loss: 1.127 - ETA: 1s - loss: 1.128 - ETA: 1s - loss: 1.128 - ETA: 1s - loss: 1.128 - ETA: 1s - loss: 1.128 - ETA: 1s - loss: 1.128 - ETA: 1s - loss: 1.128 - ETA: 1s - loss: 1.128 - ETA: 1s - loss: 1.128 - ETA: 1s - loss: 1.128 - ETA: 1s - loss: 1.128 - ETA: 1s - loss: 1.128 - ETA: 1s - loss: 1.127 - ETA: 0s - loss: 1.127 - ETA: 0s - loss: 1.128 - ETA: 0s - loss: 1.128 - ETA: 0s - loss: 1.128 - ETA: 0s - loss: 1.128075006/75006 [==============================] - ETA: 0s - loss: 1.128 - ETA: 0s - loss: 1.128 - ETA: 0s - loss: 1.128 - ETA: 0s - loss: 1.128 - ETA: 0s - loss: 1.128 - ETA: 0s - loss: 1.128 - ETA: 0s - loss: 1.128 - ETA: 0s - loss: 1.128 - ETA: 0s - loss: 1.128 - ETA: 0s - loss: 1.128 - ETA: 0s - loss: 1.128 - ETA: 0s - loss: 1.128 - ETA: 0s - loss: 1.129 - ETA: 0s - loss: 1.129 - ETA: 0s - loss: 1.129 - 20s 260us/step - loss: 1.1296 - val_loss: 1.2429\n",
      "Epoch 20/20\n"
     ]
    },
    {
     "name": "stdout",
     "output_type": "stream",
     "text": [
      "75006/75006 [==============================] - ETA: 23s - loss: 1.12 - ETA: 20s - loss: 1.07 - ETA: 17s - loss: 1.09 - ETA: 16s - loss: 1.10 - ETA: 16s - loss: 1.10 - ETA: 16s - loss: 1.10 - ETA: 16s - loss: 1.09 - ETA: 16s - loss: 1.10 - ETA: 16s - loss: 1.11 - ETA: 16s - loss: 1.11 - ETA: 16s - loss: 1.11 - ETA: 16s - loss: 1.11 - ETA: 16s - loss: 1.11 - ETA: 15s - loss: 1.10 - ETA: 15s - loss: 1.10 - ETA: 15s - loss: 1.10 - ETA: 15s - loss: 1.10 - ETA: 15s - loss: 1.11 - ETA: 15s - loss: 1.11 - ETA: 15s - loss: 1.11 - ETA: 15s - loss: 1.11 - ETA: 15s - loss: 1.10 - ETA: 15s - loss: 1.10 - ETA: 15s - loss: 1.10 - ETA: 15s - loss: 1.11 - ETA: 14s - loss: 1.10 - ETA: 14s - loss: 1.11 - ETA: 14s - loss: 1.11 - ETA: 14s - loss: 1.11 - ETA: 14s - loss: 1.11 - ETA: 14s - loss: 1.11 - ETA: 14s - loss: 1.11 - ETA: 14s - loss: 1.11 - ETA: 14s - loss: 1.11 - ETA: 14s - loss: 1.11 - ETA: 14s - loss: 1.11 - ETA: 14s - loss: 1.11 - ETA: 14s - loss: 1.11 - ETA: 14s - loss: 1.11 - ETA: 14s - loss: 1.11 - ETA: 14s - loss: 1.11 - ETA: 14s - loss: 1.11 - ETA: 14s - loss: 1.11 - ETA: 14s - loss: 1.11 - ETA: 14s - loss: 1.11 - ETA: 14s - loss: 1.11 - ETA: 14s - loss: 1.11 - ETA: 14s - loss: 1.11 - ETA: 13s - loss: 1.11 - ETA: 13s - loss: 1.11 - ETA: 13s - loss: 1.11 - ETA: 13s - loss: 1.11 - ETA: 13s - loss: 1.11 - ETA: 13s - loss: 1.11 - ETA: 13s - loss: 1.11 - ETA: 13s - loss: 1.11 - ETA: 13s - loss: 1.11 - ETA: 13s - loss: 1.11 - ETA: 13s - loss: 1.11 - ETA: 13s - loss: 1.11 - ETA: 13s - loss: 1.11 - ETA: 13s - loss: 1.11 - ETA: 13s - loss: 1.12 - ETA: 12s - loss: 1.12 - ETA: 12s - loss: 1.12 - ETA: 12s - loss: 1.12 - ETA: 12s - loss: 1.12 - ETA: 12s - loss: 1.12 - ETA: 12s - loss: 1.11 - ETA: 12s - loss: 1.11 - ETA: 12s - loss: 1.11 - ETA: 12s - loss: 1.11 - ETA: 12s - loss: 1.12 - ETA: 12s - loss: 1.11 - ETA: 12s - loss: 1.11 - ETA: 12s - loss: 1.11 - ETA: 12s - loss: 1.11 - ETA: 12s - loss: 1.11 - ETA: 12s - loss: 1.11 - ETA: 12s - loss: 1.11 - ETA: 12s - loss: 1.12 - ETA: 12s - loss: 1.12 - ETA: 12s - loss: 1.11 - ETA: 12s - loss: 1.11 - ETA: 12s - loss: 1.12 - ETA: 12s - loss: 1.11 - ETA: 12s - loss: 1.11 - ETA: 11s - loss: 1.12 - ETA: 11s - loss: 1.12 - ETA: 11s - loss: 1.12 - ETA: 11s - loss: 1.12 - ETA: 11s - loss: 1.12 - ETA: 11s - loss: 1.12 - ETA: 11s - loss: 1.12 - ETA: 11s - loss: 1.12 - ETA: 11s - loss: 1.12 - ETA: 11s - loss: 1.12 - ETA: 11s - loss: 1.12 - ETA: 11s - loss: 1.12 - ETA: 11s - loss: 1.12 - ETA: 11s - loss: 1.12 - ETA: 11s - loss: 1.12 - ETA: 11s - loss: 1.12 - ETA: 11s - loss: 1.12 - ETA: 11s - loss: 1.12 - ETA: 11s - loss: 1.12 - ETA: 11s - loss: 1.12 - ETA: 10s - loss: 1.12 - ETA: 10s - loss: 1.12 - ETA: 10s - loss: 1.12 - ETA: 10s - loss: 1.12 - ETA: 10s - loss: 1.12 - ETA: 10s - loss: 1.12 - ETA: 10s - loss: 1.12 - ETA: 10s - loss: 1.11 - ETA: 10s - loss: 1.11 - ETA: 10s - loss: 1.11 - ETA: 10s - loss: 1.11 - ETA: 10s - loss: 1.11 - ETA: 10s - loss: 1.11 - ETA: 10s - loss: 1.11 - ETA: 10s - loss: 1.11 - ETA: 10s - loss: 1.11 - ETA: 10s - loss: 1.11 - ETA: 9s - loss: 1.1185 - ETA: 9s - loss: 1.118 - ETA: 9s - loss: 1.118 - ETA: 9s - loss: 1.118 - ETA: 9s - loss: 1.118 - ETA: 9s - loss: 1.118 - ETA: 9s - loss: 1.118 - ETA: 9s - loss: 1.117 - ETA: 9s - loss: 1.118 - ETA: 9s - loss: 1.118 - ETA: 9s - loss: 1.118 - ETA: 9s - loss: 1.118 - ETA: 9s - loss: 1.118 - ETA: 9s - loss: 1.119 - ETA: 9s - loss: 1.119 - ETA: 9s - loss: 1.118 - ETA: 9s - loss: 1.118 - ETA: 9s - loss: 1.118 - ETA: 9s - loss: 1.118 - ETA: 9s - loss: 1.117 - ETA: 9s - loss: 1.118 - ETA: 9s - loss: 1.118 - ETA: 9s - loss: 1.119 - ETA: 9s - loss: 1.119 - ETA: 9s - loss: 1.119 - ETA: 9s - loss: 1.119 - ETA: 9s - loss: 1.119 - ETA: 9s - loss: 1.119 - ETA: 9s - loss: 1.118 - ETA: 8s - loss: 1.118 - ETA: 8s - loss: 1.119 - ETA: 8s - loss: 1.119 - ETA: 8s - loss: 1.119 - ETA: 8s - loss: 1.119 - ETA: 8s - loss: 1.119 - ETA: 8s - loss: 1.119 - ETA: 8s - loss: 1.119 - ETA: 8s - loss: 1.119 - ETA: 8s - loss: 1.119 - ETA: 8s - loss: 1.119 - ETA: 8s - loss: 1.120 - ETA: 8s - loss: 1.120 - ETA: 8s - loss: 1.120 - ETA: 8s - loss: 1.120 - ETA: 8s - loss: 1.120 - ETA: 8s - loss: 1.120 - ETA: 8s - loss: 1.121 - ETA: 8s - loss: 1.120 - ETA: 8s - loss: 1.121 - ETA: 8s - loss: 1.121 - ETA: 8s - loss: 1.121 - ETA: 8s - loss: 1.121 - ETA: 7s - loss: 1.122 - ETA: 7s - loss: 1.122 - ETA: 7s - loss: 1.122 - ETA: 7s - loss: 1.122 - ETA: 7s - loss: 1.122 - ETA: 7s - loss: 1.123 - ETA: 7s - loss: 1.122 - ETA: 7s - loss: 1.122 - ETA: 7s - loss: 1.122 - ETA: 7s - loss: 1.122 - ETA: 7s - loss: 1.122 - ETA: 7s - loss: 1.122 - ETA: 7s - loss: 1.121 - ETA: 7s - loss: 1.122 - ETA: 7s - loss: 1.123 - ETA: 7s - loss: 1.122 - ETA: 7s - loss: 1.122 - ETA: 7s - loss: 1.122 - ETA: 6s - loss: 1.122 - ETA: 6s - loss: 1.123 - ETA: 6s - loss: 1.123 - ETA: 6s - loss: 1.123 - ETA: 6s - loss: 1.123 - ETA: 6s - loss: 1.123 - ETA: 6s - loss: 1.123 - ETA: 6s - loss: 1.123 - ETA: 6s - loss: 1.123 - ETA: 6s - loss: 1.124 - ETA: 6s - loss: 1.124 - ETA: 6s - loss: 1.124 - ETA: 6s - loss: 1.124 - ETA: 6s - loss: 1.124 - ETA: 5s - loss: 1.124 - ETA: 5s - loss: 1.125 - ETA: 5s - loss: 1.125 - ETA: 5s - loss: 1.124 - ETA: 5s - loss: 1.124 - ETA: 5s - loss: 1.124 - ETA: 5s - loss: 1.125 - ETA: 5s - loss: 1.124 - ETA: 5s - loss: 1.124 - ETA: 5s - loss: 1.124 - ETA: 5s - loss: 1.124 - ETA: 5s - loss: 1.124 - ETA: 5s - loss: 1.124 - ETA: 5s - loss: 1.124 - ETA: 4s - loss: 1.124 - ETA: 4s - loss: 1.124 - ETA: 4s - loss: 1.124 - ETA: 4s - loss: 1.124 - ETA: 4s - loss: 1.125 - ETA: 4s - loss: 1.125 - ETA: 4s - loss: 1.124 - ETA: 4s - loss: 1.124 - ETA: 4s - loss: 1.124 - ETA: 4s - loss: 1.124 - ETA: 4s - loss: 1.124 - ETA: 4s - loss: 1.124 - ETA: 4s - loss: 1.124 - ETA: 4s - loss: 1.124 - ETA: 4s - loss: 1.124 - ETA: 4s - loss: 1.124 - ETA: 4s - loss: 1.124 - ETA: 4s - loss: 1.124 - ETA: 4s - loss: 1.124 - ETA: 3s - loss: 1.124 - ETA: 3s - loss: 1.125 - ETA: 3s - loss: 1.125 - ETA: 3s - loss: 1.124 - ETA: 3s - loss: 1.124 - ETA: 3s - loss: 1.124 - ETA: 3s - loss: 1.124 - ETA: 3s - loss: 1.124 - ETA: 3s - loss: 1.125 - ETA: 3s - loss: 1.125 - ETA: 3s - loss: 1.125 - ETA: 3s - loss: 1.125 - ETA: 3s - loss: 1.125 - ETA: 3s - loss: 1.125 - ETA: 3s - loss: 1.125 - ETA: 3s - loss: 1.125 - ETA: 3s - loss: 1.124 - ETA: 3s - loss: 1.124 - ETA: 3s - loss: 1.125 - ETA: 3s - loss: 1.124 - ETA: 3s - loss: 1.124 - ETA: 3s - loss: 1.124 - ETA: 2s - loss: 1.124 - ETA: 2s - loss: 1.125 - ETA: 2s - loss: 1.125 - ETA: 2s - loss: 1.125 - ETA: 2s - loss: 1.125 - ETA: 2s - loss: 1.125 - ETA: 2s - loss: 1.125 - ETA: 2s - loss: 1.125 - ETA: 2s - loss: 1.125 - ETA: 2s - loss: 1.126 - ETA: 2s - loss: 1.126 - ETA: 2s - loss: 1.125 - ETA: 2s - loss: 1.126 - ETA: 2s - loss: 1.126 - ETA: 2s - loss: 1.126 - ETA: 2s - loss: 1.126 - ETA: 2s - loss: 1.126 - ETA: 2s - loss: 1.126 - ETA: 2s - loss: 1.126 - ETA: 1s - loss: 1.126 - ETA: 1s - loss: 1.126 - ETA: 1s - loss: 1.126 - ETA: 1s - loss: 1.126 - ETA: 1s - loss: 1.126 - ETA: 1s - loss: 1.126 - ETA: 1s - loss: 1.126 - ETA: 1s - loss: 1.126 - ETA: 1s - loss: 1.126 - ETA: 1s - loss: 1.126 - ETA: 1s - loss: 1.126 - ETA: 1s - loss: 1.127 - ETA: 1s - loss: 1.127 - ETA: 1s - loss: 1.126 - ETA: 1s - loss: 1.126 - ETA: 1s - loss: 1.126 - ETA: 1s - loss: 1.126 - ETA: 1s - loss: 1.126 - ETA: 1s - loss: 1.127 - ETA: 0s - loss: 1.127 - ETA: 0s - loss: 1.128 - ETA: 0s - loss: 1.128 - ETA: 0s - loss: 1.128 - ETA: 0s - loss: 1.127 - ETA: 0s - loss: 1.128 - ETA: 0s - loss: 1.128 - ETA: 0s - loss: 1.128 - ETA: 0s - loss: 1.128 - ETA: 0s - loss: 1.128 - ETA: 0s - loss: 1.128 - ETA: 0s - loss: 1.128 - ETA: 0s - loss: 1.128 - ETA: 0s - loss: 1.128 - ETA: 0s - loss: 1.128 - ETA: 0s - loss: 1.128 - ETA: 0s - loss: 1.128 - ETA: 0s - loss: 1.128 - ETA: 0s - loss: 1.128 - 18s 236us/step - loss: 1.1287 - val_loss: 1.2404\n"
     ]
    },
    {
     "ename": "NameError",
     "evalue": "name 'plot' is not defined",
     "output_type": "error",
     "traceback": [
      "\u001b[1;31m---------------------------------------------------------------------------\u001b[0m",
      "\u001b[1;31mNameError\u001b[0m                                 Traceback (most recent call last)",
      "\u001b[1;32m<ipython-input-26-ee5e516d6591>\u001b[0m in \u001b[0;36m<module>\u001b[1;34m\u001b[0m\n\u001b[0;32m      3\u001b[0m                          \u001b[0mnb_epoch\u001b[0m\u001b[1;33m=\u001b[0m\u001b[1;36m20\u001b[0m\u001b[1;33m,\u001b[0m\u001b[1;33m\u001b[0m\u001b[1;33m\u001b[0m\u001b[0m\n\u001b[0;32m      4\u001b[0m                          validation_data=([b_movieid, b_userid], b_y))\n\u001b[1;32m----> 5\u001b[1;33m     \u001b[0mplot\u001b[0m\u001b[1;33m(\u001b[0m\u001b[0mhistory\u001b[0m\u001b[1;33m.\u001b[0m\u001b[0mhistory\u001b[0m\u001b[1;33m[\u001b[0m\u001b[1;34m'loss'\u001b[0m\u001b[1;33m]\u001b[0m\u001b[1;33m)\u001b[0m\u001b[1;33m\u001b[0m\u001b[1;33m\u001b[0m\u001b[0m\n\u001b[0m\u001b[0;32m      6\u001b[0m     \u001b[0mplot\u001b[0m\u001b[1;33m(\u001b[0m\u001b[0mhistory\u001b[0m\u001b[1;33m.\u001b[0m\u001b[0mhistory\u001b[0m\u001b[1;33m[\u001b[0m\u001b[1;34m'val_loss'\u001b[0m\u001b[1;33m]\u001b[0m\u001b[1;33m)\u001b[0m\u001b[1;33m\u001b[0m\u001b[1;33m\u001b[0m\u001b[0m\n\u001b[0;32m      7\u001b[0m \u001b[1;32mexcept\u001b[0m \u001b[0mKeyboardInterrupt\u001b[0m\u001b[1;33m:\u001b[0m\u001b[1;33m\u001b[0m\u001b[1;33m\u001b[0m\u001b[0m\n",
      "\u001b[1;31mNameError\u001b[0m: name 'plot' is not defined"
     ]
    }
   ],
   "source": [
    "try:\n",
    "    history = model.fit([a_movieid, a_userid], a_y, \n",
    "                         nb_epoch=20, \n",
    "                         validation_data=([b_movieid, b_userid], b_y))\n",
    "    plot(history.history['loss'])\n",
    "    plot(history.history['val_loss'])\n",
    "except KeyboardInterrupt:\n",
    "    pass"
   ]
  },
  {
   "cell_type": "code",
   "execution_count": 27,
   "metadata": {},
   "outputs": [
    {
     "data": {
      "text/plain": [
       "0.9905763477289096"
      ]
     },
     "execution_count": 27,
     "metadata": {},
     "output_type": "execute_result"
    }
   ],
   "source": [
    "# This is the number that matters. It's the held out \n",
    "# test set score. Note the + 1, because np.argmax will\n",
    "# go from 0 to 4, while our ratings go 1 to 5.\n",
    "sqrt(mean_squared_error(\n",
    "    np.argmax(b_y, 1)+1, \n",
    "    np.argmax(model.predict([b_movieid, b_userid]), 1)+1))"
   ]
  },
  {
   "cell_type": "code",
   "execution_count": 28,
   "metadata": {},
   "outputs": [
    {
     "data": {
      "text/plain": [
       "0.8849956737818502"
      ]
     },
     "execution_count": 28,
     "metadata": {},
     "output_type": "execute_result"
    }
   ],
   "source": [
    "# For comparison's sake, here's the score on the training set.\n",
    "sqrt(mean_squared_error(\n",
    "    np.argmax(a_y, 1)+1, \n",
    "    np.argmax(model.predict([a_movieid, a_userid]), 1)+1))"
   ]
  },
  {
   "cell_type": "code",
   "execution_count": 27,
   "metadata": {},
   "outputs": [],
   "source": [
    "# movie_col = []\n",
    "# for i in range(int(n_items)):\n",
    "#     movie_col.append(\"movie \"+str(i))\n",
    "\n",
    "# #apriori_csv = open(\"apriori_file1.csv\",'w', encoding=\"utf-8\")\n",
    "# apriori_list = []\n",
    "# for user in range(1,int(n_users)):\n",
    "#     temp = new_df.loc[new_df['userId'] == float(user)]\n",
    "#     movies_watched = []\n",
    "#     for index, row in temp.iterrows():\n",
    "#         movies_watched.append(row['movieId'])\n",
    "#     user_watched = []\n",
    "#     movies_watched.sort(reverse = False ) \n",
    "#     for movid in movies_watched:\n",
    "#         user_watched.append(movie.loc[movid,['title']].values[0])\n",
    "#     apriori_list.append(user_watched)\n",
    "# #     str_temp = str('\\t'.join(user_watched))   \n",
    "# #     apriori_csv.writelines(str_temp+\"\\n\")\n",
    "\n",
    "    \n",
    "    \n",
    "# #     for i in range(1,int(n_items)):\n",
    "# #         if float(i) in movies_watched:\n",
    "# #             user_watched.append(movie.loc[float(i-1),['title']].values[0])\n",
    "# #         else:\n",
    "# #             user_watched.append('NaN')\n",
    "# #     str_temp = str('\\t'.join(user_watched))\n",
    "# #     apriori_csv.writelines(str_temp+\"\\n\")\n",
    "# # apriori_csv.close()"
   ]
  },
  {
   "cell_type": "code",
   "execution_count": 49,
   "metadata": {},
   "outputs": [],
   "source": [
    "# apriori_df = pd.read_csv('apriori_file1.csv',sep=\"\\t\",header=None) \n",
    "# apriori_df.head()"
   ]
  },
  {
   "cell_type": "code",
   "execution_count": 30,
   "metadata": {},
   "outputs": [
    {
     "data": {
      "text/plain": [
       "(670, 9122)"
      ]
     },
     "execution_count": 30,
     "metadata": {},
     "output_type": "execute_result"
    }
   ],
   "source": [
    "# \n"
   ]
  },
  {
   "cell_type": "code",
   "execution_count": 26,
   "metadata": {},
   "outputs": [],
   "source": [
    "# print(records)"
   ]
  },
  {
   "cell_type": "code",
   "execution_count": 25,
   "metadata": {},
   "outputs": [],
   "source": [
    "# records = np.array(apriori_list)\n",
    "# new_records = records[:2]\n",
    "# print(new_records.shape)"
   ]
  },
  {
   "cell_type": "code",
   "execution_count": 24,
   "metadata": {},
   "outputs": [],
   "source": [
    "# from apyori import apriori  \n",
    "# association_\n",
    "# rules = apriori(new_records, min_support=0.1, min_confidence=0.3, min_lift=3, min_length=3)  \n",
    "# association_results = list(association_rules)  \n",
    "# print(len(association_rules))  "
   ]
  }
 ],
 "metadata": {
  "kernelspec": {
   "display_name": "Python 3",
   "language": "python",
   "name": "python3"
  },
  "language_info": {
   "codemirror_mode": {
    "name": "ipython",
    "version": 3
   },
   "file_extension": ".py",
   "mimetype": "text/x-python",
   "name": "python",
   "nbconvert_exporter": "python",
   "pygments_lexer": "ipython3",
   "version": "3.6.7"
  }
 },
 "nbformat": 4,
 "nbformat_minor": 2
}
